{
 "cells": [
  {
   "cell_type": "markdown",
   "source": [],
   "metadata": {
    "collapsed": false
   },
   "id": "a6abf5e2da1b3214"
  },
  {
   "cell_type": "code",
   "outputs": [
    {
     "name": "stdout",
     "output_type": "stream",
     "text": [
      "Moved 1000000.json to C:/Users/lmhmo/indexer/timestamp\\2024\\02\\21\\1000000.json\n"
     ]
    }
   ],
   "source": [
    "#This function will move all the json files that are downloading from the api into the blocks folder into a directory that organizes the files by year, month, day\n",
    "\n",
    "import os\n",
    "import time\n",
    "import shutil\n",
    "\n",
    "def organize_json_files(source_folder, destination_folder):\n",
    "    for filename in os.listdir(source_folder):\n",
    "        if filename.endswith(\".json\"): \n",
    "            file_path = os.path.join(source_folder, filename)\n",
    "            timestamp = os.path.getctime(file_path)  # Use getmtime() if modification time is preferred\n",
    "            date = time.strftime(\"%Y/%m/%d\", time.localtime(timestamp))\n",
    "\n",
    "            # Create the directory structure (year/month/day)\n",
    "            year, month, day = date.split(\"/\")\n",
    "            year_folder = os.path.join(destination_folder, year)\n",
    "            month_folder = os.path.join(year_folder, month)\n",
    "            day_folder = os.path.join(month_folder, day)\n",
    "\n",
    "            # Create directories if they don't exist\n",
    "            os.makedirs(day_folder, exist_ok=True)\n",
    "\n",
    "            # Move the file to the appropriate directory\n",
    "            target_path = os.path.join(day_folder, filename)\n",
    "            shutil.move(file_path, target_path)\n",
    "            print(f\"Moved {filename} to {target_path}\")\n",
    "\n",
    "# Example usage\n",
    "source_directory = \"C:/Users/lmhmo/indexer/blocks\" #json files original location\n",
    "destination_directory = \"C:/Users/lmhmo/indexer/timestamp\" #json files new directory\n",
    "organize_json_files(source_directory, destination_directory)"
   ],
   "metadata": {
    "collapsed": false,
    "ExecuteTime": {
     "end_time": "2024-02-22T23:39:33.129136600Z",
     "start_time": "2024-02-22T23:39:33.092955800Z"
    }
   },
   "id": "5a5995e683e86779",
   "execution_count": 1
  },
  {
   "cell_type": "code",
   "outputs": [],
   "source": [],
   "metadata": {
    "collapsed": false,
    "ExecuteTime": {
     "end_time": "2024-02-22T23:39:33.133114900Z",
     "start_time": "2024-02-22T23:39:33.130192600Z"
    }
   },
   "id": "416e5146c7177a09",
   "execution_count": 1
  }
 ],
 "metadata": {
  "kernelspec": {
   "display_name": "Python 3",
   "language": "python",
   "name": "python3"
  },
  "language_info": {
   "codemirror_mode": {
    "name": "ipython",
    "version": 2
   },
   "file_extension": ".py",
   "mimetype": "text/x-python",
   "name": "python",
   "nbconvert_exporter": "python",
   "pygments_lexer": "ipython2",
   "version": "2.7.6"
  }
 },
 "nbformat": 4,
 "nbformat_minor": 5
}
