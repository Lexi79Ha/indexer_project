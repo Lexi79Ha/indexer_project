{
 "cells": [
  {
   "cell_type": "markdown",
   "source": [],
   "metadata": {
    "collapsed": false
   },
   "id": "a6abf5e2da1b3214"
  },
  {
   "cell_type": "code",
   "outputs": [
    {
     "name": "stdout",
     "output_type": "stream",
     "text": [
      "JSON data saved to C:/Users/lmhmo/indexer/blocks/5603654.json\n"
     ]
    }
   ],
   "source": [
    "#This code will pull the latest block from the http address\n",
    "import requests\n",
    "import json\n",
    "\n",
    "# Make the API request\n",
    "response = requests.get(\"http://116.202.143.93:1317/cosmos/base/tendermint/v1beta1/blocks/latest\")\n",
    "\n",
    "# Extract the height from the response (assuming it's available)\n",
    "height = response.json().get(\"block\", {}).get(\"header\", {}).get(\"height\")\n",
    "\n",
    "# Specify the folder path\n",
    "folder = \"C:/Users/lmhmo/indexer/blocks\"\n",
    "\n",
    "# Construct the filename based on the height\n",
    "filename = f\"{folder}/{height}.json\"\n",
    "\n",
    "# Save the response content to the dynamically named file\n",
    "with open(filename, \"wb\") as f:\n",
    "    f.write(response.content)\n",
    "\n",
    "print(f\"JSON data saved to {filename}\")\n"
   ],
   "metadata": {
    "collapsed": false,
    "ExecuteTime": {
     "end_time": "2024-02-20T22:33:29.728228200Z",
     "start_time": "2024-02-20T22:33:29.192550600Z"
    }
   },
   "id": "4f79986c75d072ac",
   "execution_count": 93
  },
  {
   "cell_type": "code",
   "outputs": [
    {
     "name": "stdout",
     "output_type": "stream",
     "text": [
      "Checking URL: http://116.202.143.93:1317/cosmos/base/tendermint/v1beta1/blocks\n",
      "http://116.202.143.93:1317/cosmos/base/tendermint/v1beta1/blocks is reachable\n",
      "Checking URL: https://www.example.com\n",
      "https://www.example.com is reachable\n",
      "Checking URL: https://nonexistent-url.com\n",
      "https://nonexistent-url.com is reachable\n"
     ]
    }
   ],
   "source": [
    "#This is a test to validate if the http address is valid and accessible\n",
    "import requests\n",
    "def test_url_checker():\n",
    "    url1 = \"http://116.202.143.93:1317/cosmos/base/tendermint/v1beta1/blocks\"\n",
    "    url2 = \"https://www.example.com\"\n",
    "    url3 = \"https://nonexistent-url.com\"\n",
    "\n",
    "    # Checking URL: http://116.202.143.93:1317/cosmos/base/tendermint/v1beta1/blocks\n",
    "    result1 = url_checker(url1)\n",
    "    print(f\"Checking URL: {url1}\")\n",
    "    print(result1)\n",
    "\n",
    "    # Checking URL: https://www.example.com\n",
    "    result2 = url_checker(url2)\n",
    "    print(f\"Checking URL: {url2}\")\n",
    "    print(result2)\n",
    "\n",
    "    # Checking URL: https://nonexistent-url.com\n",
    "    result3 = url_checker(url3)\n",
    "    print(f\"Checking URL: {url3}\")\n",
    "    print(result3)\n",
    "\n",
    "    # Write results to log.txt and error.txt\n",
    "    with open(\"log.txt\", \"w\") as log_file:\n",
    "        log_file.write(f\"URL 1: {url1}\\nResult: {result1}\\n\\n\")\n",
    "        log_file.write(f\"URL 2: {url2}\\nResult: {result2}\\n\\n\")\n",
    "        log_file.write(f\"URL 3: {url3}\\nResult: {result3}\\n\\n\")\n",
    "\n",
    "    with open(\"error_log_file.txt\", \"w\") as error_file:\n",
    "        if \"error\" in result1.lower():\n",
    "            error_file.write(f\"Error for URL 1 ({url1}): {result1}\\n\")\n",
    "        if \"error\" in result2.lower():\n",
    "            error_file.write(f\"Error for URL 2 ({url2}): {result2}\\n\")\n",
    "        if \"error\" in result3.lower():\n",
    "            error_file.write(f\"Error for URL 3 ({url3}): {result3}\\n\")\n",
    "\n",
    "# Call the test function\n",
    "test_url_checker()\n"
   ],
   "metadata": {
    "collapsed": false,
    "ExecuteTime": {
     "end_time": "2024-02-20T22:33:46.013549400Z",
     "start_time": "2024-02-20T22:33:44.473877800Z"
    }
   },
   "id": "b59c32f80620858c",
   "execution_count": 96
  },
  {
   "cell_type": "code",
   "outputs": [],
   "source": [
    "#This test will confirm if the port that the http address is using is valid\n",
    "def test_validate_port():\n",
    "    # Test valid port numbers\n",
    "    assert validate_port(1) == True \n",
    "    assert validate_port(8080) == True\n",
    "    assert validate_port(65535) == True\n",
    "\n",
    "    # Test invalid port numbers\n",
    "    assert validate_port(-1) == False\n",
    "    assert validate_port(0) == False\n",
    "    assert validate_port(65536) == False\n",
    "\n",
    "    # Insert your http address port number here\n",
    "    http_port = 1317\n",
    "    if validate_port(http_port):\n",
    "        with open(\"log.txt\", \"w\") as log:\n",
    "            log.write(f\"Passed: Port {http_port} is Valid\\n\")\n",
    "    else:\n",
    "        with open(\"error_log_file.txt\", \"w\") as err_log:\n",
    "            err_log.write(f\"Error: Invalid port number {http_port}\\n\")\n",
    "\n",
    "# Example function to validate port\n",
    "def validate_port(port):\n",
    "    return 1 <= port <= 65535\n",
    "\n",
    "# Run the test; this result will be written to log.txt or error_log_file.txt\n",
    "test_validate_port()\n",
    "\n",
    "#Error results of test can be found in error_log_file.txt\n",
    "#Validated results of test can be found in error_log_file.txt"
   ],
   "metadata": {
    "collapsed": false,
    "ExecuteTime": {
     "end_time": "2024-02-20T22:33:55.328684100Z",
     "start_time": "2024-02-20T22:33:55.320256100Z"
    }
   },
   "id": "b5f5bfc83028ef",
   "execution_count": 98
  },
  {
   "cell_type": "code",
   "outputs": [
    {
     "name": "stdout",
     "output_type": "stream",
     "text": [
      "Checking URL: http://116.202.143.93:1317/cosmos/base/tendermint/v1beta1/blocks\n",
      "http://116.202.143.93:1317/cosmos/base/tendermint/v1beta1/blocks is reachable\n",
      "Checking URL: https://www.example.com\n",
      "https://www.example.com is reachable\n",
      "Checking URL: https://nonexistent-url.com\n",
      "https://nonexistent-url.com is reachable\n"
     ]
    }
   ],
   "source": [
    "def test_url_checker():\n",
    "    url1 = \"http://116.202.143.93:1317/cosmos/base/tendermint/v1beta1/blocks\"\n",
    "    url2 = \"https://www.example.com\"\n",
    "    url3 = \"https://nonexistent-url.com\"\n",
    "\n",
    "    # Checking URL: http://116.202.143.93:1317/cosmos/base/tendermint/v1beta1/blocks\n",
    "    result1 = url_checker(url1)\n",
    "    print(f\"Checking URL: {url1}\")\n",
    "    print(result1)\n",
    "\n",
    "    # Checking URL: https://www.example.com\n",
    "    result2 = url_checker(url2)\n",
    "    print(f\"Checking URL: {url2}\")\n",
    "    print(result2)\n",
    "\n",
    "    # Checking URL: https://nonexistent-url.com\n",
    "    result3 = url_checker(url3)\n",
    "    print(f\"Checking URL: {url3}\")\n",
    "    print(result3)\n",
    "\n",
    "    # Write results to log.txt and error.txt\n",
    "    with open(\"log.txt\", \"w\") as log_file:\n",
    "        log_file.write(f\"URL 1: {url1}\\nResult: {result1}\\n\\n\")\n",
    "        log_file.write(f\"URL 2: {url2}\\nResult: {result2}\\n\\n\")\n",
    "        log_file.write(f\"URL 3: {url3}\\nResult: {result3}\\n\\n\")\n",
    "\n",
    "    with open(\"error_log_file.txt\", \"w\") as error_file:\n",
    "        if \"error\" in result1.lower():\n",
    "            error_file.write(f\"Error for URL 1 ({url1}): {result1}\\n\")\n",
    "\n",
    "# Call the test function\n",
    "test_url_checker()"
   ],
   "metadata": {
    "collapsed": false,
    "ExecuteTime": {
     "end_time": "2024-02-20T22:38:28.851580300Z",
     "start_time": "2024-02-20T22:38:27.225956400Z"
    }
   },
   "id": "88e8c7a234cabdee",
   "execution_count": 102
  },
  {
   "cell_type": "code",
   "outputs": [],
   "source": [
    "\n",
    "def test_validate_port():\n",
    "    # Test valid port numbers\n",
    "    assert validate_port(1) == True \n",
    "    assert validate_port(8080) == True\n",
    "    assert validate_port(65535) == True\n",
    "\n",
    "    # Test invalid port numbers\n",
    "    assert validate_port(-1) == False\n",
    "    assert validate_port(0) == False\n",
    "    assert validate_port(65536) == False\n",
    "\n",
    "    # Insert your http address port number here\n",
    "    http_port = 1317\n",
    "    if validate_port(http_port):\n",
    "        with open(\"log.txt\", \"a\") as log:\n",
    "            log.write(f\"Passed: Port {http_port} is Valid\\n\")\n",
    "    else:\n",
    "        with open(\"error_log_file.txt\", \"a\") as err_log:\n",
    "            err_log.write(f\"Error: Invalid port number {http_port}\\n\")\n",
    "\n",
    "# Example function to validate port\n",
    "def validate_port(port):\n",
    "    return 1 <= port <= 65535\n",
    "\n",
    "# Run the test; this result will be written to log.txt or error_log_file.txt\n",
    "test_validate_port()"
   ],
   "metadata": {
    "collapsed": false,
    "ExecuteTime": {
     "end_time": "2024-02-20T22:38:28.855492600Z",
     "start_time": "2024-02-20T22:38:28.784453800Z"
    }
   },
   "id": "85dfa97eda1abe26",
   "execution_count": 103
  },
  {
   "cell_type": "code",
   "outputs": [],
   "source": [],
   "metadata": {
    "collapsed": false
   },
   "id": "377c06047cd7ff7d"
  }
 ],
 "metadata": {
  "kernelspec": {
   "display_name": "Python 3",
   "language": "python",
   "name": "python3"
  },
  "language_info": {
   "codemirror_mode": {
    "name": "ipython",
    "version": 2
   },
   "file_extension": ".py",
   "mimetype": "text/x-python",
   "name": "python",
   "nbconvert_exporter": "python",
   "pygments_lexer": "ipython2",
   "version": "2.7.6"
  }
 },
 "nbformat": 4,
 "nbformat_minor": 5
}
