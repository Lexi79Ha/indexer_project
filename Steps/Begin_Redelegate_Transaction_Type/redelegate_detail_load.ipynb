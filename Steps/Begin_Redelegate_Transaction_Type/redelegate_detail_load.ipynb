{
 "cells": [
  {
   "cell_type": "code",
   "outputs": [],
   "source": [
    "import os\n",
    "import logging\n",
    "import json\n",
    "import psycopg2\n",
    "import pandas as pd\n",
    "\n",
    "def connect_to_database():\n",
    "    # Define your database connection parameters\n",
    "    db_params = {\n",
    "        \"host\": \"localhost\",\n",
    "        \"database\": \"blockchain\",\n",
    "        \"user\": \"postgres\",\n",
    "        \"password\": \"auth2020\"\n",
    "    }\n",
    "\n",
    "    try:\n",
    "        # Connect to the database\n",
    "        conn = psycopg2.connect(**db_params)\n",
    "        print(\"Connected to the database successfully!\")\n",
    "        return conn\n",
    "    except psycopg2.Error as e:\n",
    "        print(f\"Error connecting to the database: {e}\")\n",
    "        return None"
   ],
   "metadata": {
    "collapsed": false,
    "ExecuteTime": {
     "end_time": "2024-03-26T22:00:12.782097300Z",
     "start_time": "2024-03-26T22:00:12.773321900Z"
    }
   },
   "id": "ed30ca8e5472c2d6",
   "execution_count": 26
  },
  {
   "cell_type": "code",
   "outputs": [],
   "source": [
    "import psycopg2\n",
    "\n",
    "def get_most_recent_transaction_id(conn):\n",
    "    try:\n",
    "        with conn.cursor() as cursor:\n",
    "            # Query to retrieve the most recent transaction_exec_id\n",
    "            get_transaction_id_query = \"\"\"\n",
    "                SELECT transaction_begin_redelegate_id\n",
    "                FROM transaction_header_begin_redelegate\n",
    "                ORDER BY transaction_begin_redelegate_id DESC\n",
    "                LIMIT 1;\n",
    "            \"\"\"\n",
    "            cursor.execute(get_transaction_id_query)\n",
    "            result = cursor.fetchone()\n",
    "            if result:\n",
    "                transaction_id = result[0]\n",
    "                print(f\"Most recent transaction_begin_redelegate_id: {transaction_id}\")\n",
    "                return transaction_id\n",
    "            else:\n",
    "                print(\"No transaction_exec_id found.\")\n",
    "                return None\n",
    "    except psycopg2.Error as e:\n",
    "        print(f\"Error retrieving transaction_exec_id: {e}\")\n",
    "        return None\n"
   ],
   "metadata": {
    "collapsed": false,
    "ExecuteTime": {
     "end_time": "2024-03-26T22:00:12.804569900Z",
     "start_time": "2024-03-26T22:00:12.786085Z"
    }
   },
   "id": "3298c0ef95dcf579",
   "execution_count": 27
  },
  {
   "cell_type": "code",
   "outputs": [
    {
     "ename": "NameError",
     "evalue": "name 'db_params' is not defined",
     "output_type": "error",
     "traceback": [
      "\u001B[1;31m---------------------------------------------------------------------------\u001B[0m",
      "\u001B[1;31mNameError\u001B[0m                                 Traceback (most recent call last)",
      "Cell \u001B[1;32mIn[28], line 20\u001B[0m\n\u001B[0;32m     18\u001B[0m \u001B[38;5;66;03m# Example usage: Replace with actual values\u001B[39;00m\n\u001B[0;32m     19\u001B[0m \u001B[38;5;28;01mtry\u001B[39;00m:\n\u001B[1;32m---> 20\u001B[0m     conn \u001B[38;5;241m=\u001B[39m psycopg2\u001B[38;5;241m.\u001B[39mconnect(\u001B[38;5;241m*\u001B[39m\u001B[38;5;241m*\u001B[39m\u001B[43mdb_params\u001B[49m)\n\u001B[0;32m     21\u001B[0m     \u001B[38;5;66;03m# Replace with actual values\u001B[39;00m\n\u001B[0;32m     22\u001B[0m     delegator_address \u001B[38;5;241m=\u001B[39m json_data[\u001B[38;5;124m\"\u001B[39m\u001B[38;5;124mtx\u001B[39m\u001B[38;5;124m\"\u001B[39m][\u001B[38;5;124m\"\u001B[39m\u001B[38;5;124mbody\u001B[39m\u001B[38;5;124m\"\u001B[39m][\u001B[38;5;124m\"\u001B[39m\u001B[38;5;124mmessages\u001B[39m\u001B[38;5;124m\"\u001B[39m][\u001B[38;5;241m0\u001B[39m][\u001B[38;5;124m\"\u001B[39m\u001B[38;5;124mdelegator_address\u001B[39m\u001B[38;5;124m\"\u001B[39m]\n",
      "\u001B[1;31mNameError\u001B[0m: name 'db_params' is not defined"
     ]
    }
   ],
   "source": [
    "import psycopg2\n",
    "\n",
    "def insert_transaction_detail(conn, transaction_id, delegator_address, validator_source_address, validator_target_address, denom_value, amount_value):\n",
    "    try:\n",
    "        table_name = 'transaction_detail_begin_deregulate'\n",
    "        with conn.cursor() as cursor:\n",
    "            # Construct the insert query for the current message\n",
    "            msg_insert_query = f\"\"\"\n",
    "                INSERT INTO {table_name} (transaction_id, delegator_address, validator_source_address, validator_target_address, denom, amount)\n",
    "                VALUES ('{transaction_id}', '{delegator_address}', '{validator_source_address}', '{validator_target_address}', '{denom_value}', {amount_value});\n",
    "            \"\"\"\n",
    "            cursor.execute(msg_insert_query)\n",
    "            conn.commit()\n",
    "            print(\"Data inserted successfully!\")\n",
    "    except psycopg2.Error as e:\n",
    "        print(f\"Error inserting data: {e}\")\n",
    "\n",
    "# Example usage: Replace with actual values\n",
    "try:\n",
    "    conn = psycopg2.connect(db_params)\n",
    "    # Replace with actual values\n",
    "    delegator_address = json_data[\"tx\"][\"body\"][\"messages\"][0][\"delegator_address\"]\n",
    "    validator_source_address = json_data[\"tx\"][\"body\"][\"messages\"][0][\"validator_src_address\"]\n",
    "    validator_target_address = json_data[\"tx\"][\"body\"][\"messages\"][0][\"validator_dst_address\"]\n",
    "    amount_value = json_data[\"tx\"][\"body\"][\"messages\"][0][\"amount\"][0][\"amount\"]\n",
    "    denom_value = json_data[\"tx\"][\"body\"][\"messages\"][0][\"amount\"][0][\"denom\"]\n",
    "    transaction_id = get_most_recent_transaction_id(conn)  # Retrieve the transaction ID\n",
    "    insert_transaction_detail(conn, transaction_id, delegator_address, validator_source_address, validator_target_address, denom_value, amount_value)\n",
    "    conn.close()\n",
    "except psycopg2.Error as e:\n",
    "    print(f\"Error connecting to the database: {e}\")\n"
   ],
   "metadata": {
    "collapsed": true,
    "ExecuteTime": {
     "end_time": "2024-03-26T22:00:12.813179200Z",
     "start_time": "2024-03-26T22:00:12.792540400Z"
    }
   },
   "id": "initial_id",
   "execution_count": 28
  },
  {
   "cell_type": "code",
   "outputs": [],
   "source": [],
   "metadata": {
    "collapsed": false,
    "ExecuteTime": {
     "start_time": "2024-03-26T22:00:12.812182700Z"
    }
   },
   "id": "ae03a91f9af3d17c",
   "execution_count": null
  },
  {
   "cell_type": "code",
   "outputs": [],
   "source": [],
   "metadata": {
    "collapsed": false,
    "ExecuteTime": {
     "end_time": "2024-03-26T22:00:12.837100600Z",
     "start_time": "2024-03-26T22:00:12.814176200Z"
    }
   },
   "id": "3d0b4d9ad0edaa83",
   "execution_count": null
  },
  {
   "cell_type": "code",
   "outputs": [],
   "source": [],
   "metadata": {
    "collapsed": false,
    "ExecuteTime": {
     "start_time": "2024-03-26T22:00:12.816348300Z"
    }
   },
   "id": "8b6513d7a195dea2",
   "execution_count": null
  }
 ],
 "metadata": {
  "kernelspec": {
   "display_name": "Python 3",
   "language": "python",
   "name": "python3"
  },
  "language_info": {
   "codemirror_mode": {
    "name": "ipython",
    "version": 2
   },
   "file_extension": ".py",
   "mimetype": "text/x-python",
   "name": "python",
   "nbconvert_exporter": "python",
   "pygments_lexer": "ipython2",
   "version": "2.7.6"
  }
 },
 "nbformat": 4,
 "nbformat_minor": 5
}
