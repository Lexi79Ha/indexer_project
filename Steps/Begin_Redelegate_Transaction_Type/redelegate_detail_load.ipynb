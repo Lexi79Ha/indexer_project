{
 "cells": [
  {
   "cell_type": "code",
   "outputs": [
    {
     "name": "stdout",
     "output_type": "stream",
     "text": [
      "Found JSON file: C:/Users/lmhmo/Indexer_Project/indexer_project/Decrypted_files/5927808.json\n",
      "Connected to the database successfully!\n",
      "Database connection successful!\n",
      "Error: 0\n"
     ]
    }
   ],
   "source": [
    "import os\n",
    "import logging\n",
    "import json\n",
    "import psycopg2\n",
    "import pandas as pd\n",
    "\n",
    "def connect_to_database():\n",
    "    # Define your database connection parameters\n",
    "    db_params = {\n",
    "        \"host\": \"localhost\",\n",
    "        \"database\": \"blockchain\",\n",
    "        \"user\": \"postgres\",\n",
    "        \"password\": \"auth2020\"\n",
    "    }\n",
    "\n",
    "    try:\n",
    "        # Connect to the database\n",
    "        conn = psycopg2.connect(**db_params)\n",
    "        print(\"Connected to the database successfully!\")\n",
    "        return conn\n",
    "    except psycopg2.Error as e:\n",
    "        print(f\"Error connecting to the database: {e}\")\n",
    "        return None\n",
    "\n",
    "def get_most_recent_transaction_id(conn):\n",
    "    table_name_2 = \"transaction_header_redelegate\"\n",
    "    id =\n",
    "    try:\n",
    "        with conn.cursor() as cursor:\n",
    "            # Query to retrieve the most recent transaction_exec_id\n",
    "            get_transaction_id_query = \"\"\"\n",
    "                SELECT transaction_exec_id\n",
    "                FROM transaction_header_exec\n",
    "                ORDER BY transaction_exec_id DESC\n",
    "                LIMIT 1;\n",
    "            \"\"\"\n",
    "            cursor.execute(get_transaction_id_query)\n",
    "            result = cursor.fetchone()\n",
    "            if result:\n",
    "                return result[0]\n",
    "            else:\n",
    "                print(\"No transaction_exec_id found.\")\n",
    "                return None\n",
    "    except psycopg2.Error as e:\n",
    "        print(f\"Error retrieving transaction_exec_id: {e}\")\n",
    "        return None\n",
    "\n",
    "def main():\n",
    "    block = '5927808'  # Change this number if you want to load a different file\n",
    "    file_path = f'C:/Users/lmhmo/Indexer_Project/indexer_project/Decrypted_files/{block}.json'\n",
    "    table_name = 'transaction_detail_msg_begin_redelegate'\n",
    "    try:\n",
    "        # Check if the file exists\n",
    "        if os.path.exists(file_path):\n",
    "            print(f\"Found JSON file: {file_path}\")\n",
    "\n",
    "            # Load JSON data from the file\n",
    "            with open(file_path, 'r') as json_file:\n",
    "                json_data = json.load(json_file)\n",
    "\n",
    "                # Connect to the database\n",
    "                conn = connect_to_database()\n",
    "\n",
    "                # Confirm the database connection\n",
    "                if conn:\n",
    "                    print(\"Database connection successful!\")\n",
    "\n",
    "                    # Get the most recent transaction_exec_id\n",
    "                    transaction_exec_id = get_most_recent_transaction_id(conn)\n",
    "\n",
    "                    if transaction_exec_id:\n",
    "                        # Extract data from the JSON structure\n",
    "                        delegator_address = json_data[\"tx\"][\"body\"][\"messages\"][0][\"delegator_address\"]\n",
    "                        validator_source_address = json_data[\"tx\"][\"body\"][\"messages\"][0][\"validator_src_address\"]\n",
    "                        validator_target_address = json_data[\"tx\"][\"body\"][\"messages\"][0][\"validator_dst_address\"]\n",
    "                        amount_value = json_data[\"tx\"][\"body\"][\"messages\"][0][\"amount\"][0][\"amount\"]\n",
    "                        denom_value = json_data[\"tx\"][\"body\"][\"messages\"][0][\"amount\"][0][\"denom\"]\n",
    "\n",
    "                        # Construct the insert query for the current message\n",
    "                        msg_insert_query = f\"\"\"\n",
    "                            INSERT INTO {table_name} (transaction_begin_redelegate_id, delegator_address, validator_source_address, validator_target_address, denom, amount)\n",
    "                            VALUES ('{transaction_exec_id}', '{delegator_address}', '{validator_source_address}', '{validator_target_address}', '{denom_value}', {amount_value});\n",
    "                        \"\"\"\n",
    "\n",
    "                        # Execute the insert query\n",
    "                        with conn.cursor() as cursor:\n",
    "                            cursor.execute(msg_insert_query)\n",
    "                            conn.commit()  # Commit the transaction\n",
    "\n",
    "                        print(\"Data inserted successfully!\")\n",
    "                    else:\n",
    "                        print(\"No transaction_id found. Data not inserted.\")\n",
    "                else:\n",
    "                    print(\"Database connection failed.\")\n",
    "        else:\n",
    "            print(f\"JSON file not found: {file_path}\")\n",
    "    except Exception as e:\n",
    "        print(f\"Error: {e}\")\n",
    "\n",
    "if __name__ == \"__main__\":\n",
    "    main()\n"
   ],
   "metadata": {
    "collapsed": true,
    "ExecuteTime": {
     "end_time": "2024-03-21T21:09:08.503876100Z",
     "start_time": "2024-03-21T21:09:08.460387800Z"
    }
   },
   "id": "initial_id",
   "execution_count": 6
  },
  {
   "cell_type": "code",
   "outputs": [],
   "source": [],
   "metadata": {
    "collapsed": false,
    "ExecuteTime": {
     "end_time": "2024-03-21T21:07:32.724562300Z",
     "start_time": "2024-03-21T21:07:32.717371900Z"
    }
   },
   "id": "ae03a91f9af3d17c",
   "execution_count": 4
  },
  {
   "cell_type": "code",
   "outputs": [],
   "source": [],
   "metadata": {
    "collapsed": false,
    "ExecuteTime": {
     "end_time": "2024-03-21T21:07:32.724562300Z",
     "start_time": "2024-03-21T21:07:32.722057Z"
    }
   },
   "id": "3d0b4d9ad0edaa83",
   "execution_count": 4
  },
  {
   "cell_type": "code",
   "outputs": [],
   "source": [],
   "metadata": {
    "collapsed": false,
    "ExecuteTime": {
     "end_time": "2024-03-21T21:07:32.732946100Z",
     "start_time": "2024-03-21T21:07:32.726563Z"
    }
   },
   "id": "8b6513d7a195dea2",
   "execution_count": 4
  }
 ],
 "metadata": {
  "kernelspec": {
   "display_name": "Python 3",
   "language": "python",
   "name": "python3"
  },
  "language_info": {
   "codemirror_mode": {
    "name": "ipython",
    "version": 2
   },
   "file_extension": ".py",
   "mimetype": "text/x-python",
   "name": "python",
   "nbconvert_exporter": "python",
   "pygments_lexer": "ipython2",
   "version": "2.7.6"
  }
 },
 "nbformat": 4,
 "nbformat_minor": 5
}
