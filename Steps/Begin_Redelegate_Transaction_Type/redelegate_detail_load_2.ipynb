{
 "cells": [
  {
   "cell_type": "code",
   "outputs": [
    {
     "name": "stdout",
     "output_type": "stream",
     "text": [
      "Connection established.\n"
     ]
    }
   ],
   "source": [
    "import pandas as pd\n",
    "import json\n",
    "import psycopg2\n",
    "import logging\n",
    "\n",
    "DB_NAME = 'blockchain'\n",
    "DB_USER = 'postgres'\n",
    "DB_PASSWORD = 'auth2020'\n",
    "DB_HOST = 'localhost'\n",
    "DB_PORT = '5432'\n",
    "\n",
    "\n",
    "try:\n",
    "    # Create a PostgreSQL connection\n",
    "    conn = psycopg2.connect(\n",
    "        dbname=DB_NAME, user=DB_USER, password=DB_PASSWORD, host=DB_HOST, port=DB_PORT\n",
    "    )\n",
    "    cur = conn.cursor()\n",
    "    print(\"Connection established.\")  # Log successful connection (you can modify this)\n",
    "\n",
    "    # Configure logging to write to a log file\n",
    "    logging.basicConfig(filename='log.txt', level=logging.INFO)\n",
    "    logging.info(\"Connection established with Database.\")  # Log the same message to the file\n",
    "\n",
    "\n",
    "    # Additional code for database operations goes here...\n",
    "\n",
    "except Exception as err:\n",
    "    # Handle exceptions\n",
    "    print(\"Unable to connect to database.\")  # Log error (you can modify this)\n",
    "    print(err)  # Print the specific error message\n",
    "\n",
    "    # Optionally, write the error message to a file (error.txt)\n",
    "    with open('error.txt', 'a') as error_file:\n",
    "        error_file.write(str(err) + '\\n')\n",
    "    "
   ],
   "metadata": {
    "collapsed": false,
    "ExecuteTime": {
     "end_time": "2024-03-27T20:42:14.573957700Z",
     "start_time": "2024-03-27T20:42:14.523993200Z"
    }
   },
   "id": "f431d86a346a3038",
   "execution_count": 42
  },
  {
   "cell_type": "code",
   "outputs": [
    {
     "name": "stdout",
     "output_type": "stream",
     "text": [
      "File 'C:/Users/lmhmo/Indexer_Project/indexer_project/Decrypted_files/5927808.json' exists. Proceeding with further actions.\n"
     ]
    }
   ],
   "source": [
    "import os\n",
    "import logging\n",
    "\n",
    "block = '5927808'  # Change this number if you want to load a different file\n",
    "file_path = f'C:/Users/lmhmo/Indexer_Project/indexer_project/Decrypted_files/{block}.json'\n",
    "\n",
    "try:\n",
    "    if os.path.exists(file_path):\n",
    "        print(f\"File '{file_path}' exists. Proceeding with further actions.\")\n",
    "        # Add your additional code here\n",
    "\n",
    "        # Configure logging to write to both log.txt and error.txt\n",
    "        logging.basicConfig(filename='log.txt', level=logging.INFO, format='%(asctime)s - %(levelname)s - %(message)s')\n",
    "        logging.info(f\"File '{file_path}' exists. Proceeding with further actions.\")\n",
    "\n",
    "    else:\n",
    "        print(f\"File '{file_path}' does not exist.\")\n",
    "        # Log the error message to error.txt\n",
    "        with open('error.txt', 'a') as error_file:\n",
    "            error_file.write(f\"File '{file_path}' does not exist.\\n\")\n",
    "\n",
    "except Exception as e:\n",
    "    print(f\"An error occurred: {e}\")\n",
    "    # Log the error message to error.txt\n",
    "    with open('error.txt', 'a') as error_file:\n",
    "        error_file.write(f\"An error occurred: {e}\\n\")\n",
    "        \n",
    "       \n",
    "\n"
   ],
   "metadata": {
    "collapsed": false,
    "ExecuteTime": {
     "end_time": "2024-03-27T20:42:14.583982300Z",
     "start_time": "2024-03-27T20:42:14.572587700Z"
    }
   },
   "id": "232f383b4b0d99b1",
   "execution_count": 43
  },
  {
   "cell_type": "code",
   "outputs": [
    {
     "name": "stdout",
     "output_type": "stream",
     "text": [
      "Most recent transaction_id: 1b378e2f-b4a5-4765-a56b-e2fd3aa279ce\n"
     ]
    }
   ],
   "source": [
    "import psycopg2\n",
    "\n",
    "def get_most_recent_transaction_id(conn):\n",
    "    try:\n",
    "        with conn.cursor() as cursor:\n",
    "            # Query to retrieve the most recent transaction_begin_redelegate_id\n",
    "            get_transaction_id_query = \"\"\"\n",
    "                SELECT transaction_begin_redelegate_id\n",
    "                FROM transaction_header_begin_redelegate\n",
    "                ORDER BY transaction_begin_redelegate_id DESC\n",
    "                LIMIT 1;\n",
    "            \"\"\"\n",
    "            cursor.execute(get_transaction_id_query)\n",
    "            result = cursor.fetchone()\n",
    "            if result:\n",
    "                transaction_id = result[0]\n",
    "                print(f\"Most recent transaction_id: {transaction_id}\")\n",
    "                return transaction_id\n",
    "            else:\n",
    "                print(\"No transaction_execute_id found.\")\n",
    "                return None\n",
    "    except psycopg2.Error as e:\n",
    "        print(f\"Error retrieving transaction_execute_id: {e}\")\n",
    "        return None\n",
    "\n",
    "# Example usage: Replace with your actual database connection details\n",
    "db_params = {\n",
    "    \"host\": \"localhost\",\n",
    "    \"database\": \"blockchain\",\n",
    "    \"user\": \"postgres\",\n",
    "    \"password\": \"auth2020\"\n",
    "}\n",
    "\n",
    "try:\n",
    "    conn = psycopg2.connect(**db_params)\n",
    "    get_most_recent_transaction_id(conn)\n",
    "    conn.close()\n",
    "except psycopg2.Error as e:\n",
    "    print(f\"Error connecting to the database: {e}\")\n",
    "       "
   ],
   "metadata": {
    "collapsed": false,
    "ExecuteTime": {
     "end_time": "2024-03-27T20:42:14.646953500Z",
     "start_time": "2024-03-27T20:42:14.583982300Z"
    }
   },
   "id": "3794c2fe577008a",
   "execution_count": 44
  },
  {
   "cell_type": "code",
   "outputs": [
    {
     "name": "stdout",
     "output_type": "stream",
     "text": [
      "                                delegator_address\n",
      "0  migaloo1vss9v2rq0ggnnyn4ypu3dpu8djuuhveu5zg8ue                                validator_src_address\n",
      "0  migaloovaloper15y3t55ejgen5cfms49snu9jvkve45fm...                                validator_dst_address\n",
      "0  migaloovaloper1xwazl8ftks4gn00y5x3c47auquc62ss...\n"
     ]
    }
   ],
   "source": [
    "with open(file_path, 'r') as json_file:\n",
    "        json_data = json.load(json_file)\n",
    "\n",
    "            # Create DataFrames for delegator_address, validator_address, denom, and amount\n",
    "        delegator_address = pd.DataFrame({\"delegator_address\": [json_data[\"tx\"][\"body\"][\"messages\"][0][\"delegator_address\"]]})\n",
    "        validator_src_address = pd.DataFrame({\"validator_src_address\": [json_data[\"tx\"][\"body\"][\"messages\"][0][\"validator_src_address\"]]})\n",
    "        validator_dst_target= pd.DataFrame({\"validator_dst_address\": [json_data[\"tx\"][\"body\"][\"messages\"][0][\"validator_dst_address\"]]})\n",
    "        denom = json_data[\"tx\"][\"body\"][\"messages\"][0][\"amount\"][\"denom\"]\n",
    "        amount = json_data[\"tx\"][\"body\"][\"messages\"][0][\"amount\"][\"amount\"]       \n",
    "        print(delegator_address, validator_src_address, validator_dst_target)\n",
    "       "
   ],
   "metadata": {
    "collapsed": false,
    "ExecuteTime": {
     "end_time": "2024-03-27T20:42:14.646953500Z",
     "start_time": "2024-03-27T20:42:14.634869100Z"
    }
   },
   "id": "6ac7a9764273c853",
   "execution_count": 45
  },
  {
   "cell_type": "code",
   "outputs": [
    {
     "name": "stdout",
     "output_type": "stream",
     "text": [
      "Most recent transaction_id: 1b378e2f-b4a5-4765-a56b-e2fd3aa279ce\n",
      "Data inserted successfully.\n"
     ]
    }
   ],
   "source": [
    "try:\n",
    "    conn = psycopg2.connect(**db_params)\n",
    "    recent_transaction_id = get_most_recent_transaction_id(conn)\n",
    "    conn.close()\n",
    "\n",
    "    if recent_transaction_id:\n",
    "        # Continue with your existing code\n",
    "        with open(file_path, 'r') as json_file:\n",
    "            json_data = json.load(json_file)\n",
    "\n",
    "            # Create DataFrames for delegator_address, validator_address, denom, and amount\n",
    "            delegator_address = pd.DataFrame({\"delegator_address\": [json_data[\"tx\"][\"body\"][\"messages\"][0][\"delegator_address\"]]})\n",
    "            validator_target_address = pd.DataFrame({\"validator_src_address\": [json_data[\"tx\"][\"body\"][\"messages\"][0][\"validator_src_address\"]]})\n",
    "            validator_source_address= pd.DataFrame({\"validator_dst_address\": [json_data[\"tx\"][\"body\"][\"messages\"][0][\"validator_dst_address\"]]})\n",
    "            denom = json_data[\"tx\"][\"body\"][\"messages\"][0][\"amount\"][\"denom\"]\n",
    "            amount = json_data[\"tx\"][\"body\"][\"messages\"][0][\"amount\"][\"amount\"]\n",
    "\n",
    "\n",
    "            table_name = 'transaction_detail_msg_begin_redelegate'\n",
    "\n",
    "            # Construct the combined insert query\n",
    "            msg_insert_query = f\"\"\"\n",
    "                 INSERT INTO {table_name} (transaction_begin_redelegate_id,delegator_address,validator_target_address,validator_source_address,amount,denom)\n",
    "                VALUES ( '{recent_transaction_id}','{delegator_address}', '{validator_target_address}','{validator_source_address}', '{amount}','{denom}');\n",
    "            \"\"\"\n",
    "\n",
    "            # Replace with your actual database connection parameters\n",
    "            conn = psycopg2.connect(\n",
    "                dbname='blockchain',\n",
    "                user='postgres',\n",
    "                password='auth2020',\n",
    "                host='localhost',\n",
    "                port='5432'\n",
    "            )\n",
    "\n",
    "            with conn:\n",
    "                with conn.cursor() as cur:\n",
    "                    cur.execute(msg_insert_query)\n",
    "\n",
    "            print(\"Data inserted successfully.\")\n",
    "    else:\n",
    "        print(\"No recent transaction ID found.\")\n",
    "except psycopg2.Error as e:\n",
    "    print(f\"Error connecting to the database: {e}\")\n"
   ],
   "metadata": {
    "collapsed": false,
    "ExecuteTime": {
     "end_time": "2024-03-27T20:42:19.635128200Z",
     "start_time": "2024-03-27T20:42:19.443990500Z"
    }
   },
   "id": "9103e1eccb4c4506",
   "execution_count": 47
  },
  {
   "cell_type": "code",
   "outputs": [],
   "source": [],
   "metadata": {
    "collapsed": false,
    "ExecuteTime": {
     "end_time": "2024-03-27T20:42:14.747886500Z",
     "start_time": "2024-03-27T20:42:14.742946600Z"
    }
   },
   "id": "4cff8c9eca01e1f0",
   "execution_count": 46
  }
 ],
 "metadata": {
  "kernelspec": {
   "display_name": "Python 3",
   "language": "python",
   "name": "python3"
  },
  "language_info": {
   "codemirror_mode": {
    "name": "ipython",
    "version": 2
   },
   "file_extension": ".py",
   "mimetype": "text/x-python",
   "name": "python",
   "nbconvert_exporter": "python",
   "pygments_lexer": "ipython2",
   "version": "2.7.6"
  }
 },
 "nbformat": 4,
 "nbformat_minor": 5
}
