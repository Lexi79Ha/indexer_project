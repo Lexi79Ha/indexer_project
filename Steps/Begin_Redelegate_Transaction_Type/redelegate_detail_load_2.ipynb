{
 "cells": [
  {
   "cell_type": "code",
   "outputs": [
    {
     "name": "stdout",
     "output_type": "stream",
     "text": [
      "Most recent transaction_begin_redelegate_id: 1b378e2f-b4a5-4765-a56b-e2fd3aa279ce\n"
     ]
    }
   ],
   "source": [
    "import psycopg2\n",
    "\n",
    "def get_most_recent_transaction_id(conn):\n",
    "    try:\n",
    "        with conn.cursor() as cursor:\n",
    "            # Query to retrieve the most recent transaction_begin_redelegate_id\n",
    "            get_transaction_id_query = \"\"\"\n",
    "                SELECT transaction_begin_redelegate_id\n",
    "                FROM transaction_header_begin_redelegate\n",
    "                ORDER BY transaction_begin_redelegate_id DESC\n",
    "                LIMIT 1;\n",
    "            \"\"\"\n",
    "            cursor.execute(get_transaction_id_query)\n",
    "            result = cursor.fetchone()\n",
    "            if result:\n",
    "                transaction_id = result[0]\n",
    "                print(f\"Most recent transaction_begin_redelegate_id: {transaction_id}\")\n",
    "                return transaction_id\n",
    "            else:\n",
    "                print(\"No transaction_begin_redelegate_id found.\")\n",
    "                return None\n",
    "    except psycopg2.Error as e:\n",
    "        print(f\"Error retrieving transaction_begin_redelegate_id: {e}\")\n",
    "        return None\n",
    "\n",
    "# Example usage: Replace with your actual database connection details\n",
    "db_params = {\n",
    "    \"host\": \"localhost\",\n",
    "    \"database\": \"blockchain\",\n",
    "    \"user\": \"postgres\",\n",
    "    \"password\": \"auth2020\"\n",
    "}\n",
    "\n",
    "try:\n",
    "    conn = psycopg2.connect(**db_params)\n",
    "    get_most_recent_transaction_id(conn)\n",
    "    conn.close()\n",
    "except psycopg2.Error as e:\n",
    "    print(f\"Error connecting to the database: {e}\")\n"
   ],
   "metadata": {
    "collapsed": false,
    "ExecuteTime": {
     "end_time": "2024-03-26T21:55:41.407753500Z",
     "start_time": "2024-03-26T21:55:41.362410300Z"
    }
   },
   "id": "3298c0ef95dcf579",
   "execution_count": 23
  },
  {
   "cell_type": "code",
   "outputs": [
    {
     "ename": "NameError",
     "evalue": "name 'transaction_id' is not defined",
     "output_type": "error",
     "traceback": [
      "\u001B[1;31m---------------------------------------------------------------------------\u001B[0m",
      "\u001B[1;31mNameError\u001B[0m                                 Traceback (most recent call last)",
      "Cell \u001B[1;32mIn[24], line 20\u001B[0m\n\u001B[0;32m     18\u001B[0m     conn \u001B[38;5;241m=\u001B[39m psycopg2\u001B[38;5;241m.\u001B[39mconnect(\u001B[38;5;241m*\u001B[39m\u001B[38;5;241m*\u001B[39mdb_params)\n\u001B[0;32m     19\u001B[0m     \u001B[38;5;66;03m# Replace with actual values\u001B[39;00m\n\u001B[1;32m---> 20\u001B[0m     insert_transaction_detail(conn, \u001B[43mtransaction_id\u001B[49m, delegator_address, validator_source_address, validator_target_address, denom_value, amount_value)\n\u001B[0;32m     21\u001B[0m     conn\u001B[38;5;241m.\u001B[39mclose()\n\u001B[0;32m     22\u001B[0m \u001B[38;5;28;01mexcept\u001B[39;00m psycopg2\u001B[38;5;241m.\u001B[39mError \u001B[38;5;28;01mas\u001B[39;00m e:\n",
      "\u001B[1;31mNameError\u001B[0m: name 'transaction_id' is not defined"
     ]
    }
   ],
   "source": [
    "\n",
    "\n"
   ],
   "metadata": {
    "collapsed": false,
    "ExecuteTime": {
     "end_time": "2024-03-26T21:55:41.961503800Z",
     "start_time": "2024-03-26T21:55:41.902226300Z"
    }
   },
   "id": "232f383b4b0d99b1",
   "execution_count": 24
  },
  {
   "cell_type": "code",
   "outputs": [],
   "source": [],
   "metadata": {
    "collapsed": false,
    "ExecuteTime": {
     "end_time": "2024-03-26T21:43:07.291642500Z",
     "start_time": "2024-03-26T21:43:07.283780200Z"
    }
   },
   "id": "6ac7a9764273c853",
   "execution_count": 13
  }
 ],
 "metadata": {
  "kernelspec": {
   "display_name": "Python 3",
   "language": "python",
   "name": "python3"
  },
  "language_info": {
   "codemirror_mode": {
    "name": "ipython",
    "version": 2
   },
   "file_extension": ".py",
   "mimetype": "text/x-python",
   "name": "python",
   "nbconvert_exporter": "python",
   "pygments_lexer": "ipython2",
   "version": "2.7.6"
  }
 },
 "nbformat": 4,
 "nbformat_minor": 5
}
