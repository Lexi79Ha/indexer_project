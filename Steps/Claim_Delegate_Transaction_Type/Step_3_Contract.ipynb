{
 "cells": [
  {
   "cell_type": "code",
   "outputs": [
    {
     "name": "stdout",
     "output_type": "stream",
     "text": [
      "Connection established.\n"
     ]
    }
   ],
   "source": [
    "#This program loads the update client message type into its related transaction detail table inside of the blockchain db\n",
    "import pandas as pd\n",
    "import json\n",
    "import psycopg2\n",
    "import logging\n",
    "\n",
    "DB_NAME = 'blockchain'\n",
    "DB_USER = 'postgres'\n",
    "DB_PASSWORD = 'auth2020'\n",
    "DB_HOST = 'localhost'\n",
    "DB_PORT = '5432'\n",
    "\n",
    "\n",
    "try:\n",
    "    # Create a PostgreSQL connection\n",
    "    conn = psycopg2.connect(\n",
    "        dbname=DB_NAME, user=DB_USER, password=DB_PASSWORD, host=DB_HOST, port=DB_PORT\n",
    "    )\n",
    "    cur = conn.cursor()\n",
    "    print(\"Connection established.\")  # Log successful connection (you can modify this)\n",
    "\n",
    "    # Configure logging to write to a log file\n",
    "    logging.basicConfig(filename='log.txt', level=logging.INFO)\n",
    "    logging.info(\"Connection established with Database.\")  # Log the same message to the file\n",
    "\n",
    "\n",
    "    # Additional code for database operations goes here...\n",
    "\n",
    "except Exception as err:\n",
    "    # Handle exceptions\n",
    "    print(\"Unable to connect to database.\")  # Log error (you can modify this)\n",
    "    print(err)  # Print the specific error message\n",
    "\n",
    "    # Optionally, write the error message to a file (error.txt)\n",
    "    with open('error.txt', 'a') as error_file:\n",
    "        error_file.write(str(err) + '\\n')"
   ],
   "metadata": {
    "collapsed": false,
    "ExecuteTime": {
     "end_time": "2024-03-27T21:50:34.057971500Z",
     "start_time": "2024-03-27T21:50:34.006217Z"
    }
   },
   "id": "739eb5c53fe199f6",
   "execution_count": 45
  },
  {
   "cell_type": "code",
   "outputs": [],
   "source": [
    "\n",
    "def get_most_recent_transaction_claim_id(conn):\n",
    "    try:\n",
    "        with conn.cursor() as cursor:\n",
    "            # Query to retrieve the most recent transaction_exec_id\n",
    "            get_transaction_claim_id_query = \"\"\"\n",
    "                SELECT transaction_claim_id\n",
    "                FROM transaction_header_claim_delegate\n",
    "                ORDER BY transaction_claim_id DESC\n",
    "                LIMIT 1;\n",
    "            \"\"\"\n",
    "            cursor.execute(get_transaction_claim_id_query)\n",
    "            result = cursor.fetchone()\n",
    "            if result:\n",
    "                return result[0]\n",
    "            else:\n",
    "                print(\"No transaction_claim_id found.\")\n",
    "                return None\n",
    "    except psycopg2.Error as e:\n",
    "        print(f\"Error retrieving transaction_id: {e}\")\n",
    "        return None"
   ],
   "metadata": {
    "collapsed": false,
    "ExecuteTime": {
     "end_time": "2024-03-27T21:50:34.057971500Z",
     "start_time": "2024-03-27T21:50:34.048098600Z"
    }
   },
   "id": "f8ce99fc217c1e2a",
   "execution_count": 46
  },
  {
   "cell_type": "code",
   "outputs": [
    {
     "name": "stdout",
     "output_type": "stream",
     "text": [
      "Found JSON file: C:/Users/lmhmo/Indexer_Project/indexer_project/Decrypted_files/5929489.json\n",
      "Connected to the database successfully!\n",
      "Data inserted successfully!\n"
     ]
    }
   ],
   "source": [
    "\n",
    "def main():\n",
    "    block = '5929489'\n",
    "     # Change this number if you want to load a different file\n",
    "    file_path = f'C:/Users/lmhmo/Indexer_Project/indexer_project/Decrypted_files/{block}.json'\n",
    "\n",
    "    try:\n",
    "        # Check if the file exists\n",
    "        if os.path.exists(file_path):\n",
    "            print(f\"Found JSON file: {file_path}\")\n",
    "\n",
    "            # Load JSON data from the file\n",
    "            with open(file_path, 'r') as json_file:\n",
    "                json_data = json.load(json_file)\n",
    "\n",
    "                # Connect to the database\n",
    "                conn = connect_to_database()\n",
    "\n",
    "                # Get the most recent transaction_exec_id\n",
    "                transaction_claim_id = get_most_recent_transaction_claim_id(conn)\n",
    "\n",
    "                if transaction_claim_id:\n",
    "                    # Initialize an empty list to store insert queries\n",
    "                    insert_queries = []\n",
    "\n",
    "                    # Iterate through the messages\n",
    "                    for message in json_data['tx']['body']['messages']:\n",
    "                        # Extract data from the given JSON structure\n",
    "                        delegator_address_value = message[\"delegator_address\"]\n",
    "                        validator_address_value = message[\"validator_address\"]\n",
    "                        denom_value = message[\"denom\"]\n",
    "\n",
    "                        # Construct the insert query for the current message\n",
    "                        msg_insert_query = f\"\"\"\n",
    "                            INSERT INTO transaction_detail_msg_claim_delegation_rewards (transaction_claim_id, delegator_address, validator_address, denom)\n",
    "                            VALUES ('{transaction_claim_id}','{delegator_address_value}', '{validator_address_value}', '{denom_value}');\n",
    "                        \"\"\"\n",
    "                        insert_queries.append(msg_insert_query)\n",
    "\n",
    "                    # Execute the insert queries\n",
    "                    with conn.cursor() as cursor:\n",
    "                        for query in insert_queries:\n",
    "                            cursor.execute(query)\n",
    "                        conn.commit()  # Commit the transaction\n",
    "\n",
    "                    print(\"Data inserted successfully!\")\n",
    "                else:\n",
    "                    print(\"No transaction_exec_id found. Data not inserted.\")\n",
    "\n",
    "            # Close the database connection\n",
    "            conn.close()\n",
    "        else:\n",
    "            print(f\"JSON file not found: {file_path}\")\n",
    "    except Exception as e:\n",
    "        print(f\"Error: {e}\")\n",
    "\n",
    "if __name__ == \"__main__\":\n",
    "    main()\n",
    "\n"
   ],
   "metadata": {
    "collapsed": false,
    "ExecuteTime": {
     "end_time": "2024-03-27T21:50:34.101390600Z",
     "start_time": "2024-03-27T21:50:34.055464300Z"
    }
   },
   "id": "cfde1987cff03f6b",
   "execution_count": 47
  },
  {
   "cell_type": "code",
   "outputs": [],
   "source": [],
   "metadata": {
    "collapsed": false,
    "ExecuteTime": {
     "end_time": "2024-03-27T21:50:34.102677500Z",
     "start_time": "2024-03-27T21:50:34.101390600Z"
    }
   },
   "id": "fccc425797e27992",
   "execution_count": 47
  }
 ],
 "metadata": {
  "kernelspec": {
   "display_name": "Python 3",
   "language": "python",
   "name": "python3"
  },
  "language_info": {
   "codemirror_mode": {
    "name": "ipython",
    "version": 2
   },
   "file_extension": ".py",
   "mimetype": "text/x-python",
   "name": "python",
   "nbconvert_exporter": "python",
   "pygments_lexer": "ipython2",
   "version": "2.7.6"
  }
 },
 "nbformat": 4,
 "nbformat_minor": 5
}
