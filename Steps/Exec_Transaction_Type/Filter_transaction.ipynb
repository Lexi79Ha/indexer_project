{
 "cells": [
  {
   "cell_type": "code",
   "outputs": [
    {
     "name": "stdout",
     "output_type": "stream",
     "text": [
      "Found JSON file: C:/Users/lmhmo/Indexer_Project/indexer_project/Decrypted_files/6024636.json\n",
      "Connected to the database successfully!\n",
      "Data inserted successfully!\n"
     ]
    }
   ],
   "source": [
    "import os\n",
    "import logging\n",
    "import json\n",
    "import psycopg2\n",
    "\n",
    "def connect_to_database():\n",
    "    # Define your database connection parameters\n",
    "    db_params = {\n",
    "        \"host\": \"localhost\",\n",
    "        \"database\": \"blockchain\",\n",
    "        \"user\": \"postgres\",\n",
    "        \"password\": \"auth2020\"\n",
    "    }\n",
    "\n",
    "    try:\n",
    "        # Connect to the database\n",
    "        conn = psycopg2.connect(**db_params)\n",
    "        print(\"Connected to the database successfully!\")\n",
    "        return conn\n",
    "    except psycopg2.Error as e:\n",
    "        print(f\"Error connecting to the database: {e}\")\n",
    "        return None\n",
    "\n",
    "def get_most_recent_transaction_exec_id(conn):\n",
    "    try:\n",
    "        with conn.cursor() as cursor:\n",
    "            # Query to retrieve the most recent transaction_exec_id\n",
    "            get_transaction_exec_id_query = \"\"\"\n",
    "                SELECT transaction_exec_id\n",
    "                FROM transaction_header_exec\n",
    "                ORDER BY transaction_exec_id DESC\n",
    "                LIMIT 1;\n",
    "            \"\"\"\n",
    "            cursor.execute(get_transaction_exec_id_query)\n",
    "            result = cursor.fetchone()\n",
    "            if result:\n",
    "                return result[0]\n",
    "            else:\n",
    "                print(\"No transaction_exec_id found.\")\n",
    "                return None\n",
    "    except psycopg2.Error as e:\n",
    "        print(f\"Error retrieving transaction_exec_id: {e}\")\n",
    "        return None\n",
    "\n",
    "def main():\n",
    "    block = '6024636'  # Change this number if you want to load a different file\n",
    "    file_path = f'C:/Users/lmhmo/Indexer_Project/indexer_project/Decrypted_files/{block}.json'\n",
    "\n",
    "    try:\n",
    "        # Check if the file exists\n",
    "        if os.path.exists(file_path):\n",
    "            print(f\"Found JSON file: {file_path}\")\n",
    "\n",
    "            # Load JSON data from the file\n",
    "            with open(file_path, 'r') as json_file:\n",
    "                json_data = json.load(json_file)\n",
    "\n",
    "                # Connect to the database\n",
    "                conn = connect_to_database()\n",
    "\n",
    "                # Get the most recent transaction_exec_id\n",
    "                transaction_exec_id = get_most_recent_transaction_exec_id(conn)\n",
    "\n",
    "                if transaction_exec_id:\n",
    "                    # Initialize an empty list to store insert queries\n",
    "                    insert_queries = []\n",
    "\n",
    "                    # Iterate through the messages\n",
    "                    for msg in json_data['tx']['body']['messages'][0]['msgs']:\n",
    "                        # Extract data from the given JSON structure\n",
    "                        type_value = msg[\"@type\"]\n",
    "                        delegator_address_value = msg[\"delegator_address\"]\n",
    "                        validator_address_value = msg[\"validator_address\"]\n",
    "                        amount_value = msg[\"amount\"][\"amount\"]\n",
    "                        denom_value = msg[\"amount\"][\"denom\"]\n",
    "\n",
    "                        # Construct the insert query for the current message\n",
    "                        msg_insert_query = f\"\"\"\n",
    "                            INSERT INTO transaction_detail_msg_exec (transaction_exec_id, type, delegator_address, validator_address, denom, amount)\n",
    "                            VALUES ('{transaction_exec_id}', '{type_value}', '{delegator_address_value}', '{validator_address_value}', '{denom_value}', {amount_value});\n",
    "                        \"\"\"\n",
    "                        insert_queries.append(msg_insert_query)\n",
    "\n",
    "                    # Execute the insert queries\n",
    "                    with conn.cursor() as cursor:\n",
    "                        for query in insert_queries:\n",
    "                            cursor.execute(query)\n",
    "                        conn.commit()  # Commit the transaction\n",
    "\n",
    "                    print(\"Data inserted successfully!\")\n",
    "                else:\n",
    "                    print(\"No transaction_exec_id found. Data not inserted.\")\n",
    "\n",
    "            # Close the database connection\n",
    "            conn.close()\n",
    "        else:\n",
    "            print(f\"JSON file not found: {file_path}\")\n",
    "    except Exception as e:\n",
    "        print(f\"Error: {e}\")\n",
    "\n",
    "if __name__ == \"__main__\":\n",
    "    main()\n",
    "\n"
   ],
   "metadata": {
    "collapsed": false,
    "ExecuteTime": {
     "end_time": "2024-03-20T21:31:12.073181600Z",
     "start_time": "2024-03-20T21:31:12.023024600Z"
    }
   },
   "id": "7fe5059254ac75a9",
   "execution_count": 68
  },
  {
   "cell_type": "code",
   "outputs": [],
   "source": [],
   "metadata": {
    "collapsed": false,
    "ExecuteTime": {
     "end_time": "2024-03-20T21:01:15.769609600Z",
     "start_time": "2024-03-20T21:01:15.763989300Z"
    }
   },
   "id": "39e1c23dd52ae22a",
   "execution_count": 58
  }
 ],
 "metadata": {
  "kernelspec": {
   "display_name": "Python 3",
   "language": "python",
   "name": "python3"
  },
  "language_info": {
   "codemirror_mode": {
    "name": "ipython",
    "version": 2
   },
   "file_extension": ".py",
   "mimetype": "text/x-python",
   "name": "python",
   "nbconvert_exporter": "python",
   "pygments_lexer": "ipython2",
   "version": "2.7.6"
  }
 },
 "nbformat": 4,
 "nbformat_minor": 5
}
