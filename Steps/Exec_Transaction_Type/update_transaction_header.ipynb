{
 "cells": [
  {
   "cell_type": "code",
   "outputs": [
    {
     "name": "stdout",
     "output_type": "stream",
     "text": [
      "Found JSON file: C:/Users/lmhmo/Indexer_Project/indexer_project/Decrypted_files/6024636.json\n",
      "Connected to the database successfully!\n",
      "Found block_id: 9611d657-19a6-4e48-993d-6dc9c29f4b80\n",
      "Data inserted successfully!\n"
     ]
    }
   ],
   "source": [
    "import os\n",
    "import psycopg2\n",
    "import json\n",
    "\n",
    "# Define your database connection parameters\n",
    "db_params = {\n",
    "    \"host\": \"localhost\",\n",
    "    \"database\": \"blockchain\",\n",
    "    \"user\": \"postgres\",\n",
    "    \"password\": \"auth2020\"\n",
    "}\n",
    "\n",
    "# Specify the block value\n",
    "block = '6024636'\n",
    "table_name = 'transaction_header_exec'\n",
    "\n",
    "# Construct the path to the JSON file\n",
    "file_path = f'C:/Users/lmhmo/Indexer_Project/indexer_project/Decrypted_files/{block}.json'\n",
    "\n",
    "try:\n",
    "    # Check if the file exists\n",
    "    if os.path.exists(file_path):\n",
    "        print(f\"Found JSON file: {file_path}\")\n",
    "\n",
    "        # Load JSON data from the file\n",
    "        with open(file_path, 'r') as json_file:\n",
    "            json_data = json.load(json_file)\n",
    "\n",
    "            # Extract other data (type, amount, denom, gas_limit) from your JSON data\n",
    "            type = json_data[\"tx\"][\"body\"][\"messages\"][0][\"@type\"]\n",
    "            amount = json_data[\"tx\"][\"auth_info\"][\"fee\"][\"amount\"][0][\"amount\"]\n",
    "            denom = json_data[\"tx\"][\"auth_info\"][\"fee\"][\"amount\"][0][\"denom\"]\n",
    "            gas_limit = json_data[\"tx\"][\"auth_info\"][\"fee\"][\"gas_limit\"]\n",
    "\n",
    "            # Connect to the database\n",
    "            conn = psycopg2.connect(**db_params)\n",
    "            print(\"Connected to the database successfully!\")\n",
    "\n",
    "            # Execute the query to retrieve the block_id\n",
    "            get_block_id_query = f\"SELECT block_id FROM block WHERE block = '{block}'\"\n",
    "            with conn.cursor() as cursor:\n",
    "                cursor.execute(get_block_id_query)\n",
    "                result = cursor.fetchone()\n",
    "\n",
    "                if result:\n",
    "                    block_id = result[0]\n",
    "                    print(f\"Found block_id: {block_id}\")\n",
    "\n",
    "                    # Construct the combined insert query\n",
    "                    tx_header_insert_query = f\"\"\"\n",
    "                        INSERT INTO {table_name} (block_id, type, amount, denom, gas_limit)\n",
    "                        VALUES ('{block_id}', '{type}', {amount}, '{denom}', {gas_limit});\n",
    "                    \"\"\"\n",
    "\n",
    "                    # Execute the insert query\n",
    "                    cursor.execute(tx_header_insert_query)\n",
    "                    conn.commit()  # Commit the transaction\n",
    "\n",
    "                    print(\"Data inserted successfully!\")\n",
    "                else:\n",
    "                    print(f\"No block_id found for block {block}\")\n",
    "\n",
    "        # Close the database connection\n",
    "        conn.close()\n",
    "    else:\n",
    "        print(f\"JSON file not found: {file_path}\")\n",
    "\n",
    "except psycopg2.Error as e:\n",
    "    print(f\"Error connecting to the database: {e}\")\n"
   ],
   "metadata": {
    "collapsed": false,
    "ExecuteTime": {
     "end_time": "2024-03-21T20:21:52.215475300Z",
     "start_time": "2024-03-21T20:21:52.163825100Z"
    }
   },
   "id": "c30ebb9b52b00412",
   "execution_count": 1
  },
  {
   "cell_type": "code",
   "outputs": [],
   "source": [],
   "metadata": {
    "collapsed": false,
    "ExecuteTime": {
     "end_time": "2024-03-21T20:21:52.217478400Z",
     "start_time": "2024-03-21T20:21:52.214368700Z"
    }
   },
   "id": "f164ddf2cbab01db",
   "execution_count": 1
  }
 ],
 "metadata": {
  "kernelspec": {
   "display_name": "Python 3",
   "language": "python",
   "name": "python3"
  },
  "language_info": {
   "codemirror_mode": {
    "name": "ipython",
    "version": 2
   },
   "file_extension": ".py",
   "mimetype": "text/x-python",
   "name": "python",
   "nbconvert_exporter": "python",
   "pygments_lexer": "ipython2",
   "version": "2.7.6"
  }
 },
 "nbformat": 4,
 "nbformat_minor": 5
}
