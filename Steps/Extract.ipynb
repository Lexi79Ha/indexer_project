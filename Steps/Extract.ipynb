{
 "cells": [
  {
   "cell_type": "code",
   "execution_count": 2,
   "id": "initial_id",
   "metadata": {
    "collapsed": true,
    "ExecuteTime": {
     "end_time": "2024-04-03T17:00:10.398829100Z",
     "start_time": "2024-04-03T17:00:09.891345300Z"
    }
   },
   "outputs": [
    {
     "name": "stdout",
     "output_type": "stream",
     "text": [
      "Data saved to C:/Users/lmhmo/Indexer_Project/indexer_project/blocks\\1199803.json\n"
     ]
    }
   ],
   "source": [
    "#This script uses python 3.12 to extract data from an api,assign that data a filename {block}.json, and then move it to a temporary directory\n",
    "# libraries: requests, os, logging\n",
    "import requests\n",
    "import os\n",
    "import logging\n",
    "\n",
    "block = '1199803' # make block a variable\n",
    "\n",
    "def fetch_and_save_block_data(folder):\n",
    "    # Make the API request\n",
    "    url = f\"http://116.202.143.93:1317/cosmos/base/tendermint/v1beta1/blocks/{block}\"\n",
    "    response = requests.get(url)\n",
    "\n",
    "    # Extract the height from the response (assuming it's available)\n",
    "    height = response.json().get(\"block\", {}).get(\"header\", {}).get(\"height\")\n",
    "\n",
    "    # Construct the filename based on the height\n",
    "    fetch_filename = os.path.join(folder, f\"{height}.json\")\n",
    "\n",
    "    # Save the response content to the dynamically named file\n",
    "    with open(fetch_filename, \"wb\") as f:\n",
    "        f.write(response.content)\n",
    "\n",
    "    return height, fetch_filename  # Return the filename for testing purposes\n",
    "\n",
    "try:\n",
    "    folder_path = \"C:/Users/lmhmo/Indexer_Project/indexer_project/blocks\"\n",
    "    _, saved_filename = fetch_and_save_block_data(folder_path)\n",
    "    print(f\"Data saved to {saved_filename}\")\n",
    "\n",
    "    # Configure logging to write to both log.txt and error.txt\n",
    "    logging.basicConfig(filename='log.txt', level=logging.INFO, format='%(asctime)s - %(levelname)s - %(message)s')\n",
    "    logging.info(f\"Data saved to {saved_filename}\")\n",
    "\n",
    "except Exception as e:\n",
    "    print(f\"Error occurred: {str(e)}\")\n",
    "    # Log the error message to error.txt\n",
    "    with open('error.txt', 'a') as error_file:\n",
    "        error_file.write(f\"Error occurred: {str(e)}\\n\")\n",
    "\n"
   ]
  },
  {
   "cell_type": "code",
   "outputs": [],
   "source": [],
   "metadata": {
    "collapsed": false,
    "ExecuteTime": {
     "end_time": "2024-04-03T17:00:10.400831700Z",
     "start_time": "2024-04-03T17:00:10.398829100Z"
    }
   },
   "id": "298dccb391f97c2b",
   "execution_count": 2
  }
 ],
 "metadata": {
  "kernelspec": {
   "display_name": "Python 3",
   "language": "python",
   "name": "python3"
  },
  "language_info": {
   "codemirror_mode": {
    "name": "ipython",
    "version": 2
   },
   "file_extension": ".py",
   "mimetype": "text/x-python",
   "name": "python",
   "nbconvert_exporter": "python",
   "pygments_lexer": "ipython2",
   "version": "2.7.6"
  }
 },
 "nbformat": 4,
 "nbformat_minor": 5
}
