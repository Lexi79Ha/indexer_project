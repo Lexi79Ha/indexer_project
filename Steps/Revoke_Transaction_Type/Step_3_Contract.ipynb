{
 "cells": [
  {
   "cell_type": "code",
   "execution_count": 33,
   "id": "b5090a8f8587c2e",
   "metadata": {
    "collapsed": false,
    "ExecuteTime": {
     "end_time": "2024-03-27T22:21:34.928868500Z",
     "start_time": "2024-03-27T22:21:34.884127500Z"
    }
   },
   "outputs": [
    {
     "name": "stdout",
     "output_type": "stream",
     "text": [
      "Connection established.\n"
     ]
    }
   ],
   "source": [
    "#This program loads the update client message type into its related transaction detail table inside of the blockchain db\n",
    "import pandas as pd\n",
    "import json\n",
    "import psycopg2\n",
    "import logging\n",
    "import os\n",
    "\n",
    "DB_NAME = 'blockchain'\n",
    "DB_USER = 'postgres'\n",
    "DB_PASSWORD = 'auth2020'\n",
    "DB_HOST = 'localhost'\n",
    "DB_PORT = '5432'\n",
    "\n",
    "\n",
    "try:\n",
    "    # Create a PostgreSQL connection\n",
    "    conn = psycopg2.connect(\n",
    "        dbname=DB_NAME, user=DB_USER, password=DB_PASSWORD, host=DB_HOST, port=DB_PORT\n",
    "    )\n",
    "    cur = conn.cursor()\n",
    "    print(\"Connection established.\")  # Log successful connection (you can modify this)\n",
    "\n",
    "    # Configure logging to write to a log file\n",
    "    logging.basicConfig(filename='log.txt', level=logging.INFO)\n",
    "    logging.info(\"Connection established with Database.\")  # Log the same message to the file\n",
    "\n",
    "\n",
    "    # Additional code for database operations goes here...\n",
    "\n",
    "except Exception as err:\n",
    "    # Handle exceptions\n",
    "    print(\"Unable to connect to database.\")  # Log error (you can modify this)\n",
    "    print(err)  # Print the specific error message\n",
    "\n",
    "    # Optionally, write the error message to a file (error.txt)\n",
    "    with open('error.txt', 'a') as error_file:\n",
    "        error_file.write(str(err) + '\\n')\n",
    "        "
   ]
  },
  {
   "cell_type": "code",
   "outputs": [],
   "source": [
    "\n",
    "def get_most_recent_transaction_revoke_id(conn):\n",
    "    # Replace with your actual query to get the most recent transaction_revoke_id\n",
    "    # Example: SELECT MAX(transaction_revoke_id) FROM your_table_name;\n",
    "    try:\n",
    "        with conn.cursor() as cursor:\n",
    "            cursor.execute(\"SELECT transaction_revoke_id FROM transaction_header_revoke ORDER BY transaction_revoke_id DESC LIMIT 1;\")\n",
    "            result = cursor.fetchone()\n",
    "            if result:\n",
    "                return result[0]\n",
    "            else:\n",
    "                return None\n",
    "    except psycopg2.Error as e:\n",
    "        print(f\"Error fetching data: {e}\")\n",
    "        return None"
   ],
   "metadata": {
    "collapsed": false,
    "ExecuteTime": {
     "end_time": "2024-03-27T22:21:34.934602Z",
     "start_time": "2024-03-27T22:21:34.928868500Z"
    }
   },
   "id": "4a2560a0ed2ba3af",
   "execution_count": 34
  },
  {
   "cell_type": "code",
   "outputs": [
    {
     "name": "stdout",
     "output_type": "stream",
     "text": [
      "Found JSON file: C:/Users/lmhmo/Indexer_Project/indexer_project/Decrypted_files/5921581.json\n",
      "Data inserted successfully!\n"
     ]
    }
   ],
   "source": [
    "\n",
    "def main():\n",
    "    block = '5921581'\n",
    "    file_path = f'C:/Users/lmhmo/Indexer_Project/indexer_project/Decrypted_files/{block}.json'\n",
    "\n",
    "    try:\n",
    "        if os.path.exists(file_path):\n",
    "            print(f\"Found JSON file: {file_path}\")\n",
    "\n",
    "            with open(file_path, 'r') as json_file:\n",
    "                json_data = json.load(json_file)\n",
    "\n",
    "                conn = connect_to_database()\n",
    "                transaction_revoke_id = get_most_recent_transaction_revoke_id(conn)\n",
    "\n",
    "                if transaction_revoke_id:\n",
    "                    insert_queries = []\n",
    "\n",
    "                    for message in json_data['tx']['body']['messages']:\n",
    "                        granter = message[\"granter\"]\n",
    "                        grantee = message[\"grantee\"]\n",
    "\n",
    "                        msg_insert_query = f\"\"\"\n",
    "                            INSERT INTO transaction_detail_msg_revoke (transaction_revoke_id, granter, grantee)\n",
    "                            VALUES ('{transaction_revoke_id}', '{granter}', '{grantee}');\n",
    "                        \"\"\"\n",
    "                        insert_queries.append(msg_insert_query)\n",
    "\n",
    "                    with conn.cursor() as cursor:\n",
    "                        for query in insert_queries:\n",
    "                            cursor.execute(query)\n",
    "                        conn.commit()\n",
    "\n",
    "                    print(\"Data inserted successfully!\")\n",
    "                else:\n",
    "                    print(\"No recent transaction_revoke_id found.\")\n",
    "        else:\n",
    "            print(f\"JSON file not found: {file_path}\")\n",
    "    except psycopg2.Error as e:\n",
    "        print(f\"Error connecting to the database: {e}\")\n",
    "\n",
    "if __name__ == \"__main__\":\n",
    "    main()\n"
   ],
   "metadata": {
    "collapsed": false,
    "ExecuteTime": {
     "end_time": "2024-03-27T22:21:35.088064300Z",
     "start_time": "2024-03-27T22:21:34.934602Z"
    }
   },
   "id": "a442073a8bb0149",
   "execution_count": 35
  },
  {
   "cell_type": "code",
   "outputs": [],
   "source": [
    "\n",
    "            "
   ],
   "metadata": {
    "collapsed": false,
    "ExecuteTime": {
     "end_time": "2024-03-27T22:21:35.088064300Z",
     "start_time": "2024-03-27T22:21:35.086012400Z"
    }
   },
   "id": "cfde1987cff03f6b",
   "execution_count": 35
  }
 ],
 "metadata": {
  "kernelspec": {
   "display_name": "Python 3",
   "language": "python",
   "name": "python3"
  },
  "language_info": {
   "codemirror_mode": {
    "name": "ipython",
    "version": 2
   },
   "file_extension": ".py",
   "mimetype": "text/x-python",
   "name": "python",
   "nbconvert_exporter": "python",
   "pygments_lexer": "ipython2",
   "version": "2.7.6"
  }
 },
 "nbformat": 4,
 "nbformat_minor": 5
}
