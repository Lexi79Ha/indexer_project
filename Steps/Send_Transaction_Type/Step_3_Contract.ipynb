{
 "cells": [
  {
   "cell_type": "code",
   "execution_count": 47,
   "id": "b5090a8f8587c2e",
   "metadata": {
    "collapsed": false,
    "ExecuteTime": {
     "end_time": "2024-03-27T22:31:59.791008500Z",
     "start_time": "2024-03-27T22:31:59.783874900Z"
    }
   },
   "outputs": [],
   "source": [
    "#This script uses python 3.12 to load data from a decrypted transaction into the table \"transaction_detail_msg_send\" from the postgres database \"blockchain\"\n",
    "#Libraries used os, json, psycopg2\n",
    "\n",
    "#Connect to database\n",
    "import os\n",
    "import json\n",
    "import psycopg2\n",
    "\n",
    "def connect_to_database():\n",
    "    # Replace with your actual database connection parameters\n",
    "    db_params = {\n",
    "        \"dbname\": \"blockchain\",\n",
    "        \"user\": \"postgres\",\n",
    "        \"password\": \"auth2020\",\n",
    "        \"host\": \"localhost\",\n",
    "        \"port\": \"5432\"\n",
    "    }\n",
    "\n",
    "    try:\n",
    "        conn = psycopg2.connect(**db_params)\n",
    "        return conn\n",
    "    except psycopg2.Error as e: #Modify to send info to log life\n",
    "        print(f\"Error connecting to the database: {e}\")\n",
    "        return None"
   ]
  },
  {
   "cell_type": "code",
   "outputs": [],
   "source": [
    "#Grab FK \"Transaction_send_Id from table transaction_header_send\"\n",
    "def get_most_recent_transaction_send_id(conn):\n",
    "    # Replace with your actual query to get the most recent transaction_send_id\n",
    "    # Example: SELECT MAX(transaction_send_id) FROM your_table_name;\n",
    "    try:\n",
    "        with conn.cursor() as cursor:\n",
    "            cursor.execute(\"SELECT transaction_send_id FROM transaction_header_send ORDER BY transaction_send_id DESC LIMIT 1;\")\n",
    "            result = cursor.fetchone()\n",
    "            if result:\n",
    "                return result[0]\n",
    "            else:\n",
    "                return None\n",
    "    except psycopg2.Error as e:\n",
    "        print(f\"Error fetching data: {e}\")\n",
    "        return None\n"
   ],
   "metadata": {
    "collapsed": false,
    "ExecuteTime": {
     "end_time": "2024-03-27T22:31:59.816862800Z",
     "start_time": "2024-03-27T22:31:59.788493600Z"
    }
   },
   "id": "4a2560a0ed2ba3af",
   "execution_count": 48
  },
  {
   "cell_type": "code",
   "outputs": [
    {
     "name": "stdout",
     "output_type": "stream",
     "text": [
      "Found JSON file: C:/Users/lmhmo/Indexer_Project/indexer_project/Decrypted_files/6041182.json\n",
      "Data inserted successfully!\n"
     ]
    }
   ],
   "source": [
    "#load fk and data from json to msg table\n",
    "def main():\n",
    "    block = '6041182' # Insert desired block number\n",
    "    file_path = f'C:/Users/lmhmo/Indexer_Project/indexer_project/Decrypted_files/{block}.json'\n",
    "\n",
    "    try:\n",
    "        if os.path.exists(file_path):\n",
    "            print(f\"Found JSON file: {file_path}\")\n",
    "\n",
    "            with open(file_path, 'r') as json_file:\n",
    "                json_data = json.load(json_file)\n",
    "\n",
    "                conn = connect_to_database()\n",
    "                transaction_send_id = get_most_recent_transaction_send_id(conn)\n",
    "\n",
    "                if transaction_send_id:\n",
    "                    insert_queries = [] #Loop through all messages, so that each message as its own row in table\n",
    "\n",
    "                    for message in json_data['tx']['body']['messages']: \n",
    "                        sender = message[\"from_address\"]\n",
    "                        receiver = message[\"to_address\"]\n",
    "                        #SQL Insert statement for FK and the data that was extracted from json file\n",
    "                        msg_insert_query = f\"\"\"\n",
    "                            INSERT INTO transaction_detail_msg_send (transaction_send_id, sender, receiver)\n",
    "                            VALUES ('{transaction_send_id}', '{sender}', '{receiver}');\n",
    "                        \"\"\"\n",
    "                        insert_queries.append(msg_insert_query)\n",
    "\n",
    "                    with conn.cursor() as cursor:\n",
    "                        for query in insert_queries:\n",
    "                            cursor.execute(query)\n",
    "                        conn.commit()\n",
    "\n",
    "                    print(\"Data inserted successfully!\")\n",
    "                else:\n",
    "                    print(\"No recent transaction_send_id found.\")\n",
    "        else:\n",
    "            print(f\"JSON file not found: {file_path}\")\n",
    "    except psycopg2.Error as e:\n",
    "        print(f\"Error connecting to the database: {e}\")\n",
    "\n",
    "if __name__ == \"__main__\":\n",
    "    main()\n"
   ],
   "metadata": {
    "collapsed": false,
    "ExecuteTime": {
     "end_time": "2024-03-27T22:31:59.859230500Z",
     "start_time": "2024-03-27T22:31:59.805161900Z"
    }
   },
   "id": "a442073a8bb0149",
   "execution_count": 49
  }
 ],
 "metadata": {
  "kernelspec": {
   "display_name": "Python 3",
   "language": "python",
   "name": "python3"
  },
  "language_info": {
   "codemirror_mode": {
    "name": "ipython",
    "version": 2
   },
   "file_extension": ".py",
   "mimetype": "text/x-python",
   "name": "python",
   "nbconvert_exporter": "python",
   "pygments_lexer": "ipython2",
   "version": "2.7.6"
  }
 },
 "nbformat": 4,
 "nbformat_minor": 5
}
