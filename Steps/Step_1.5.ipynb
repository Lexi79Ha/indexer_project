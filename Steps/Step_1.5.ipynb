{
 "cells": [
  {
   "cell_type": "code",
   "execution_count": 8,
   "id": "initial_id",
   "metadata": {
    "collapsed": true,
    "ExecuteTime": {
     "end_time": "2024-03-11T21:00:26.226888200Z",
     "start_time": "2024-03-11T21:00:26.215729700Z"
    }
   },
   "outputs": [
    {
     "ename": "NameError",
     "evalue": "name 'tablename' is not defined",
     "output_type": "error",
     "traceback": [
      "\u001B[1;31m---------------------------------------------------------------------------\u001B[0m",
      "\u001B[1;31mNameError\u001B[0m                                 Traceback (most recent call last)",
      "Cell \u001B[1;32mIn[8], line 12\u001B[0m\n\u001B[0;32m     10\u001B[0m table_name \u001B[38;5;241m=\u001B[39m message[\u001B[38;5;124m\"\u001B[39m\u001B[38;5;124m@type\u001B[39m\u001B[38;5;124m\"\u001B[39m]\u001B[38;5;241m.\u001B[39msplit(\u001B[38;5;124m\"\u001B[39m\u001B[38;5;124m.\u001B[39m\u001B[38;5;124m\"\u001B[39m)[\u001B[38;5;241m-\u001B[39m\u001B[38;5;241m1\u001B[39m][\u001B[38;5;241m-\u001B[39m\u001B[38;5;241m10\u001B[39m:]\n\u001B[0;32m     11\u001B[0m table_name \u001B[38;5;241m=\u001B[39m table_name\u001B[38;5;241m.\u001B[39mlower()  \u001B[38;5;66;03m#\u001B[39;00m\n\u001B[1;32m---> 12\u001B[0m \u001B[38;5;28mprint\u001B[39m(\u001B[43mtablename\u001B[49m)\n",
      "\u001B[1;31mNameError\u001B[0m: name 'tablename' is not defined"
     ]
    }
   ],
   "source": [
    "import pandas\n",
    "block = '5905903'  # Change this number if you want to load a different file\n",
    "file_path = f'C:/Users/lmhmo/indexer/Decrypted_files/{block}.json'\n",
    "\n",
    "import json\n",
    "# Specify the file path\n",
    "with open(file_path, 'r') as json_file:\n",
    "    json_data = json.load(json_file)\n",
    "\n",
    "message = json_data[\"tx\"][\"body\"][\"messages\"][0]\n",
    "transaction = message[\"@type\"].split(\".\")[-1][-10:]\n",
    "table_name = transaction.lower()  #\n",
    "print(transaction)\n"
   ]
  },
  {
   "cell_type": "code",
   "outputs": [
    {
     "ename": "NameError",
     "evalue": "name 'tablename' is not defined",
     "output_type": "error",
     "traceback": [
      "\u001B[1;31m---------------------------------------------------------------------------\u001B[0m",
      "\u001B[1;31mNameError\u001B[0m                                 Traceback (most recent call last)",
      "Cell \u001B[1;32mIn[7], line 4\u001B[0m\n\u001B[0;32m      2\u001B[0m table_name \u001B[38;5;241m=\u001B[39m message[\u001B[38;5;124m\"\u001B[39m\u001B[38;5;124m@type\u001B[39m\u001B[38;5;124m\"\u001B[39m]\u001B[38;5;241m.\u001B[39msplit(\u001B[38;5;124m\"\u001B[39m\u001B[38;5;124m.\u001B[39m\u001B[38;5;124m\"\u001B[39m)[\u001B[38;5;241m-\u001B[39m\u001B[38;5;241m1\u001B[39m][\u001B[38;5;241m-\u001B[39m\u001B[38;5;241m10\u001B[39m:]\n\u001B[0;32m      3\u001B[0m table_name \u001B[38;5;241m=\u001B[39m table_name\u001B[38;5;241m.\u001B[39mlower()  \u001B[38;5;66;03m#\u001B[39;00m\n\u001B[1;32m----> 4\u001B[0m \u001B[38;5;28mprint\u001B[39m(\u001B[43mtablename\u001B[49m)\n",
      "\u001B[1;31mNameError\u001B[0m: name 'tablename' is not defined"
     ]
    }
   ],
   "source": [],
   "metadata": {
    "collapsed": false,
    "ExecuteTime": {
     "end_time": "2024-03-11T20:59:59.856470700Z",
     "start_time": "2024-03-11T20:59:59.842335100Z"
    }
   },
   "id": "fc534ed3d2f757d0",
   "execution_count": 7
  },
  {
   "cell_type": "code",
   "outputs": [],
   "source": [],
   "metadata": {
    "collapsed": false
   },
   "id": "cba31328e52147d3"
  }
 ],
 "metadata": {
  "kernelspec": {
   "display_name": "Python 3",
   "language": "python",
   "name": "python3"
  },
  "language_info": {
   "codemirror_mode": {
    "name": "ipython",
    "version": 2
   },
   "file_extension": ".py",
   "mimetype": "text/x-python",
   "name": "python",
   "nbconvert_exporter": "python",
   "pygments_lexer": "ipython2",
   "version": "2.7.6"
  }
 },
 "nbformat": 4,
 "nbformat_minor": 5
}
