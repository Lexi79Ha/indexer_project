{
 "cells": [
  {
   "cell_type": "code",
   "execution_count": 52,
   "id": "d7533ee2beadf8cf",
   "metadata": {
    "collapsed": false,
    "ExecuteTime": {
     "end_time": "2024-03-21T20:58:44.758034100Z",
     "start_time": "2024-03-21T20:58:44.752283700Z"
    }
   },
   "outputs": [
    {
     "name": "stdout",
     "output_type": "stream",
     "text": [
      "File 'C:/Users/lmhmo/Indexer_Project/indexer_project/blocks/6057425.json' exists. Proceeding with further actions.\n"
     ]
    }
   ],
   "source": [
    "# The variable code is then sent to an api that uses base64 to decrypt the transactions\n",
    "# After the decrypted data is return it is assigned to a new json file in the decrypted_files directory\n",
    "# The json file is then pull from the directory to be cleaned and prepared for postgres migration\n",
    "# The attributes with the json file are pulled and isolated using pandas\n",
    "import json\n",
    "import requests\n",
    "import shutil\n",
    "import os\n",
    "import logging\n",
    "\n",
    "block_number = '6057425'  # Change this number if you want to load a different file\n",
    "file_path = f'C:/Users/lmhmo/Indexer_Project/indexer_project/blocks/{block_number}.json'\n",
    "\n",
    "try:\n",
    "    if os.path.exists(file_path):\n",
    "        print(f\"File '{file_path}' exists. Proceeding with further actions.\")\n",
    "        # Add your additional code here\n",
    "\n",
    "        # Configure logging to write to both log.txt and error.txt\n",
    "        logging.basicConfig(filename='log.txt', level=logging.INFO, format='%(asctime)s - %(levelname)s - %(message)s')\n",
    "        logging.info(f\"File '{file_path}' exists. Proceeding with further actions.\")\n",
    "\n",
    "    else:\n",
    "        print(f\"File '{file_path}' does not exist.\")\n",
    "        # Log the error message to error.txt\n",
    "        with open('error.txt', 'a') as error_file:\n",
    "            error_file.write(f\"File '{file_path}' does not exist.\\n\")\n",
    "\n",
    "except Exception as e:\n",
    "    print(f\"An error occurred: {str(e)}\")\n",
    "    # Log the error message to error.txt\n",
    "    with open('error.txt', 'a') as error_file:\n",
    "        error_file.write(f\"An error occurred: {str(e)}\\n\")\n"
   ]
  },
  {
   "cell_type": "code",
   "outputs": [
    {
     "name": "stdout",
     "output_type": "stream",
     "text": [
      "ClUKUwobL2Nvc21vcy5nb3YudjFiZXRhMS5Nc2dWb3RlEjQIIBIubWlnYWxvbzEwZnZoNmRqaGRuZzlkNWswdndjenZxc2w5cmd5MmNrdHRjeXY0YRgBEmkKUApGCh8vY29zbW9zLmNyeXB0by5zZWNwMjU2azEuUHViS2V5EiMKIQNDSDBpVRRqKaohyoy7YyA5zLV7QdrHsc5X22MKwg8MHBIECgIIARgqEhUKDwoGdXdoYWxlEgU3MzA3ORD3ugQaQIG2vGpLFCajz+KCC9qrIMEYjKCapWyLdo8aVi/0IcaUID09L69AJRhJsUS4tqC1EQ6HhX4qydxW2tNr3Q9UHWs=\n"
     ]
    }
   ],
   "source": [
    "def process_transaction_data(file_path):\n",
    "    try:\n",
    "        with open(file_path, 'r') as json_file:\n",
    "            data = json.load(json_file)\n",
    "            transaction = data['block']['data']['txs']\n",
    "\n",
    "            if len(transaction) > 0:\n",
    "                return ''.join(map(str, transaction))  # Remove unnecessary symbols\n",
    "            else:\n",
    "                return \"No transactions found.\"\n",
    "    except FileNotFoundError:\n",
    "        return \"File not found.\"\n",
    "\n",
    "# Specify the file path\n",
    "file_path = f'C:/Users/lmhmo/Indexer_Project/indexer_project/blocks/{block_number}.json'\n",
    "\n",
    "try:\n",
    "    code = process_transaction_data(file_path)\n",
    "    print(code)  # Print the result (you can modify this)\n",
    "\n",
    "    # Configure logging to write to both log.txt and error.txt\n",
    "    logging.basicConfig(filename='log.txt', level=logging.INFO, format='%(asctime)s - %(levelname)s - %(message)s')\n",
    "    logging.info(f\"Data processed successfully from file '{file_path}'\")\n",
    "\n",
    "except Exception as e:\n",
    "    print(f\"An error occurred: {str(e)}\")\n",
    "    # Log the error message to error.txt\n",
    "    with open('error.txt', 'a') as error_file:\n",
    "        error_file.write(f\"Error occurred: {str(e)}\\n\")\n"
   ],
   "metadata": {
    "collapsed": false,
    "ExecuteTime": {
     "end_time": "2024-03-21T20:58:44.781627200Z",
     "start_time": "2024-03-21T20:58:44.765540800Z"
    }
   },
   "id": "9957aa431cf3fc8a",
   "execution_count": 53
  },
  {
   "cell_type": "code",
   "outputs": [
    {
     "name": "stdout",
     "output_type": "stream",
     "text": [
      "Number of transactions: 1\n",
      "Transaction 1 decoded and saved to 6057425.json\n",
      "6057425.json\n",
      "File '6057425.json' moved to 'C:/Users/lmhmo/Indexer_Project/indexer_project/Decrypted_files'.\n"
     ]
    }
   ],
   "source": [
    "import requests\n",
    "\n",
    "def decode_transactions(tx, block, i):\n",
    "    url = \"https://phoenix-lcd.terra.dev/cosmos/tx/v1beta1/decode\"\n",
    "    headers = {'Content-Type': 'application/json'}\n",
    "    data = json.dumps({\"tx_bytes\": tx})\n",
    "\n",
    "    response = requests.post(url, headers=headers, data=data)  # Send to be decoded\n",
    "    decoded_response = response.json()\n",
    "\n",
    "    # Save the decoded data to a JSON file\n",
    "    filename = f\"{block}.json\"\n",
    "    with open(filename, \"w\") as json_file:\n",
    "        json.dump(decoded_response, json_file, indent=2)\n",
    "\n",
    "    print(f\"Transaction {i + 1} decoded and saved to {filename}\") # Assign to json file\n",
    "    return filename\n",
    "\n",
    "# Example usage\n",
    "code = code.split()\n",
    "many = len(code)\n",
    "block = block_number\n",
    "\n",
    "print(f\"Number of transactions: {many}\")\n",
    "\n",
    "# Store generated filenames in a list\n",
    "generated_filenames = []\n",
    "for i in range(many):\n",
    "    filename = decode_transactions(code[i], block, i)\n",
    "    generated_filenames.append(filename)\n",
    "\n",
    "print(filename)\n",
    "# %%\n",
    "# This section of code will send the new decrypted json file to the decrypted_files directory\n",
    "import shutil\n",
    "\n",
    "# Specify the target directory\n",
    "target_directory = \"C:/Users/lmhmo/Indexer_Project/indexer_project/Decrypted_files\"\n",
    "# Move the file\n",
    "shutil.move(filename, target_directory)\n",
    "print(f\"File '{filename}' moved to '{target_directory}'.\")\n"
   ],
   "metadata": {
    "collapsed": false,
    "ExecuteTime": {
     "end_time": "2024-03-21T20:58:45.244381900Z",
     "start_time": "2024-03-21T20:58:44.778122500Z"
    }
   },
   "id": "baafb65a4a4e1b59",
   "execution_count": 54
  },
  {
   "cell_type": "code",
   "outputs": [],
   "source": [],
   "metadata": {
    "collapsed": false,
    "ExecuteTime": {
     "end_time": "2024-03-21T20:58:45.244381900Z",
     "start_time": "2024-03-21T20:58:45.241379100Z"
    }
   },
   "id": "2a8a9b6f6b12ec56",
   "execution_count": 54
  }
 ],
 "metadata": {
  "kernelspec": {
   "display_name": "Python 3",
   "language": "python",
   "name": "python3"
  },
  "language_info": {
   "codemirror_mode": {
    "name": "ipython",
    "version": 2
   },
   "file_extension": ".py",
   "mimetype": "text/x-python",
   "name": "python",
   "nbconvert_exporter": "python",
   "pygments_lexer": "ipython2",
   "version": "2.7.6"
  }
 },
 "nbformat": 4,
 "nbformat_minor": 5
}
