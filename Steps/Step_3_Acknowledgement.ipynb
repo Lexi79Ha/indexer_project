{
 "cells": [
  {
   "cell_type": "code",
   "execution_count": 10,
   "id": "882d5dc437f1318c",
   "metadata": {
    "collapsed": false,
    "ExecuteTime": {
     "end_time": "2024-03-15T01:10:42.570017Z",
     "start_time": "2024-03-15T01:10:42.522821Z"
    }
   },
   "outputs": [
    {
     "name": "stdout",
     "output_type": "stream",
     "text": [
      "Connection established.\n"
     ]
    }
   ],
   "source": [
    "\n",
    "import pandas as pd\n",
    "import json\n",
    "import psycopg2\n",
    "import logging\n",
    "\n",
    "DB_NAME = 'blockchain'\n",
    "DB_USER = 'postgres'\n",
    "DB_PASSWORD = 'auth2020'\n",
    "DB_HOST = 'localhost'\n",
    "DB_PORT = '5432'\n",
    "\n",
    "\n",
    "try:\n",
    "    # Create a PostgreSQL connection\n",
    "    conn = psycopg2.connect(\n",
    "        dbname=DB_NAME, user=DB_USER, password=DB_PASSWORD, host=DB_HOST, port=DB_PORT\n",
    "    )\n",
    "    cur = conn.cursor()\n",
    "    print(\"Connection established.\")  # Log successful connection (you can modify this)\n",
    "\n",
    "    # Configure logging to write to a log file\n",
    "    logging.basicConfig(filename='log.txt', level=logging.INFO)\n",
    "    logging.info(\"Connection established with Database.\")  # Log the same message to the file\n",
    "\n",
    "\n",
    "    # Additional code for database operations goes here...\n",
    "\n",
    "except Exception as err:\n",
    "    # Handle exceptions\n",
    "    print(\"Unable to connect to database.\")  # Log error (you can modify this)\n",
    "    print(err)  # Print the specific error message\n",
    "\n",
    "    # Optionally, write the error message to a file (error.txt)\n",
    "    with open('error.txt', 'a') as error_file:\n",
    "        error_file.write(str(err) + '\\n')\n",
    "  "
   ]
  },
  {
   "cell_type": "code",
   "outputs": [
    {
     "name": "stdout",
     "output_type": "stream",
     "text": [
      "File 'C:/Users/lmhmo/Indexer_Project/indexer_project/Decrypted_files/5905757.json' exists. Proceeding with further actions.\n"
     ]
    }
   ],
   "source": [
    "      \n",
    "        \n",
    "import os\n",
    "import logging\n",
    "\n",
    "block = '5905757'  # Change this number if you want to load a different file\n",
    "file_path = f'C:/Users/lmhmo/Indexer_Project/indexer_project/Decrypted_files/{block}.json'\n",
    "\n",
    "try:\n",
    "    if os.path.exists(file_path):\n",
    "        print(f\"File '{file_path}' exists. Proceeding with further actions.\")\n",
    "        # Add your additional code here\n",
    "\n",
    "        # Configure logging to write to both log.txt and error.txt\n",
    "        logging.basicConfig(filename='log.txt', level=logging.INFO, format='%(asctime)s - %(levelname)s - %(message)s')\n",
    "        logging.info(f\"File '{file_path}' exists. Proceeding with further actions.\")\n",
    "\n",
    "    else:\n",
    "        print(f\"File '{file_path}' does not exist.\")\n",
    "        # Log the error message to error.txt\n",
    "        with open('error.txt', 'a') as error_file:\n",
    "            error_file.write(f\"File '{file_path}' does not exist.\\n\")\n",
    "\n",
    "except Exception as e:\n",
    "    print(f\"An error occurred: {e}\")\n",
    "    # Log the error message to error.txt\n",
    "    with open('error.txt', 'a') as error_file:\n",
    "        error_file.write(f\"An error occurred: {e}\\n\")\n",
    "        "
   ],
   "metadata": {
    "collapsed": false,
    "ExecuteTime": {
     "end_time": "2024-03-15T01:10:43.525537100Z",
     "start_time": "2024-03-15T01:10:43.512335600Z"
    }
   },
   "id": "b5090a8f8587c2e",
   "execution_count": 11
  },
  {
   "cell_type": "code",
   "outputs": [
    {
     "name": "stdout",
     "output_type": "stream",
     "text": [
      "  sequence\n",
      "0    61986        port\n",
      "0  transfer        channel\n",
      "0  channel-642    client_id\n",
      "0  channel-5                                                 data\n",
      "0  eyJhbW91bnQiOiI3MzkyMDAwMDAwIiwiZGVub20iOiJ0cm...   revision_number\n",
      "0        14251636\n"
     ]
    }
   ],
   "source": [
    "\n",
    "    # Load JSON data from the file\n",
    "with open(file_path, 'r') as json_file:\n",
    "        json_data = json.load(json_file)\n",
    "\n",
    "    # Create DataFrames for client_id and signer\n",
    "df_sequence = pd.DataFrame({\"sequence\": [json_data[\"tx\"][\"body\"][\"messages\"][1][\"packet\"][\"sequence\"]]})    \n",
    "df_port = pd.DataFrame({\"port\": [json_data[\"tx\"][\"body\"][\"messages\"][1][\"packet\"][\"source_port\"]]})\n",
    "df_channel = pd.DataFrame({\"channel\": [json_data[\"tx\"][\"body\"][\"messages\"][1][\"packet\"][\"source_channel\"]]})\n",
    "df_destination_port = pd.DataFrame({\"destination_port\": [json_data[\"tx\"][\"body\"][\"messages\"][1][\"packet\"][\"destination_port\"]]})\n",
    "df_destination_channel = pd.DataFrame({\"client_id\": [json_data[\"tx\"][\"body\"][\"messages\"][1][\"packet\"][\"destination_channel\"]]})\n",
    "df_data = pd.DataFrame({\"data\": [json_data[\"tx\"][\"body\"][\"messages\"][1][\"packet\"][\"data\"]]})\n",
    "df_number_height = pd.DataFrame({\"revision_number\": [json_data[\"tx\"][\"body\"][\"messages\"][1][\"proof_height\"][\"revision_number\"]]})\n",
    "df_height = pd.DataFrame({\"revision_number\": [json_data[\"tx\"][\"body\"][\"messages\"][1][\"proof_height\"][\"revision_height\"]]})\n",
    "\n",
    "    # Check if the table already exists\n",
    "table_name = 'ibc_MsgAcknowledgement'\n",
    "print(df_sequence,df_port,df_channel,df_destination_channel,df_data, df_height)"
   ],
   "metadata": {
    "collapsed": false,
    "ExecuteTime": {
     "end_time": "2024-03-15T01:10:44.327701100Z",
     "start_time": "2024-03-15T01:10:44.310550Z"
    }
   },
   "id": "2f47106f5146875c",
   "execution_count": 12
  },
  {
   "cell_type": "code",
   "outputs": [
    {
     "name": "stdout",
     "output_type": "stream",
     "text": [
      "Data inserted successfully.\n"
     ]
    }
   ],
   "source": [
    "\n",
    "msg1_insert_query = f\"\"\"\n",
    "        INSERT INTO ibc_MsgAcknowledgement (\n",
    "            packet_sequence,\n",
    "            packet_source_channel,\n",
    "            packet_destination_port,\n",
    "            packet_destination_channel,\n",
    "            packet_data,\n",
    "            proof_number_height,\n",
    "            proof_height,\n",
    "            raw_data\n",
    "        )\n",
    "        VALUES (\n",
    "            '{df_sequence.iloc[0][\"sequence\"]}',\n",
    "            '{df_channel.iloc[0][\"channel\"]}',\n",
    "            '{df_destination_port.iloc[0][\"destination_port\"]}',\n",
    "            '{df_destination_channel.iloc[0][\"client_id\"]}',\n",
    "            '{df_data.iloc[0][\"data\"]}',\n",
    "            '{df_number_height.iloc[0][\"revision_number\"]}',\n",
    "            '{df_height.iloc[0][\"revision_number\"]}',\n",
    "            '{json.dumps(json_data)}'\n",
    "        );\n",
    "    \"\"\"\n",
    "cur.execute(msg1_insert_query)\n",
    "\n",
    "conn.commit()\n",
    "print(\"Data inserted successfully.\")\n",
    "\n",
    "cur.close()\n",
    "conn.close()\n"
   ],
   "metadata": {
    "collapsed": false,
    "ExecuteTime": {
     "end_time": "2024-03-14T22:11:06.624345200Z",
     "start_time": "2024-03-14T22:11:06.596232100Z"
    }
   },
   "id": "91af53b26bb5a568",
   "execution_count": 6
  }
 ],
 "metadata": {
  "kernelspec": {
   "display_name": "Python 3",
   "language": "python",
   "name": "python3"
  },
  "language_info": {
   "codemirror_mode": {
    "name": "ipython",
    "version": 2
   },
   "file_extension": ".py",
   "mimetype": "text/x-python",
   "name": "python",
   "nbconvert_exporter": "python",
   "pygments_lexer": "ipython2",
   "version": "2.7.6"
  }
 },
 "nbformat": 4,
 "nbformat_minor": 5
}
