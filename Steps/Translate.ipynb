{
 "cells": [
  {
   "cell_type": "code",
   "execution_count": 4,
   "id": "d7533ee2beadf8cf",
   "metadata": {
    "collapsed": false,
    "ExecuteTime": {
     "end_time": "2024-04-03T14:43:34.376597400Z",
     "start_time": "2024-04-03T14:43:34.366256300Z"
    }
   },
   "outputs": [
    {
     "name": "stdout",
     "output_type": "stream",
     "text": [
      "File 'C:/Users/lmhmo/Indexer_Project/indexer_project/blocks/6009654.json' exists. Proceeding with further actions.\n"
     ]
    }
   ],
   "source": [
    "# The variable code is then sent to an api that uses base64 to decrypt the transactions\n",
    "# After the decrypted data is return it is assigned to a new json file in the decrypted_files directory\n",
    "# The json file is then pull from the directory to be cleaned and prepared for postgres migration\n",
    "# The attributes with the json file are pulled and isolated using pandas\n",
    "import json\n",
    "import requests\n",
    "import shutil\n",
    "import os\n",
    "import logging\n",
    "\n",
    "block_number = '6009654'  # Change this number if you want to load a different file\n",
    "file_path = f'C:/Users/lmhmo/Indexer_Project/indexer_project/blocks/{block_number}.json'\n",
    "\n",
    "try:\n",
    "    if os.path.exists(file_path):\n",
    "        print(f\"File '{file_path}' exists. Proceeding with further actions.\")\n",
    "        # Add your additional code here\n",
    "\n",
    "        # Configure logging to write to both log.txt and error.txt\n",
    "        logging.basicConfig(filename='log.txt', level=logging.INFO, format='%(asctime)s - %(levelname)s - %(message)s')\n",
    "        logging.info(f\"File '{file_path}' exists. Proceeding with further actions.\")\n",
    "\n",
    "    else:\n",
    "        print(f\"File '{file_path}' does not exist.\")\n",
    "        # Log the error message to error.txt\n",
    "        with open('error.txt', 'a') as error_file:\n",
    "            error_file.write(f\"File '{file_path}' does not exist.\\n\")\n",
    "\n",
    "except Exception as e:\n",
    "    print(f\"An error occurred: {str(e)}\")\n",
    "    # Log the error message to error.txt\n",
    "    with open('error.txt', 'a') as error_file:\n",
    "        error_file.write(f\"An error occurred: {str(e)}\\n\")\n"
   ]
  },
  {
   "cell_type": "code",
   "outputs": [
    {
     "name": "stdout",
     "output_type": "stream",
     "text": [
      "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\n"
     ]
    }
   ],
   "source": [
    "#Isolate txs component of json file and assign it to a variable\n",
    "def process_transaction_data(file_path):\n",
    "    try:\n",
    "        with open(file_path, 'r') as json_file:\n",
    "            data = json.load(json_file)\n",
    "            transaction = data['block']['data']['txs']\n",
    "\n",
    "            if len(transaction) > 0:\n",
    "                return ''.join(map(str, transaction))  # Remove unnecessary symbols\n",
    "            else:\n",
    "                return \"No transactions found.\"\n",
    "    except FileNotFoundError:\n",
    "        return \"File not found.\"\n",
    "\n",
    "# Specify the file path\n",
    "file_path = f'C:/Users/lmhmo/Indexer_Project/indexer_project/blocks/{block_number}.json'\n",
    "\n",
    "try:\n",
    "    code = process_transaction_data(file_path)\n",
    "    print(code)  # Print the result (you can modify this)\n",
    "\n",
    "    # Configure logging to write to both log.txt and error.txt\n",
    "    logging.basicConfig(filename='log.txt', level=logging.INFO, format='%(asctime)s - %(levelname)s - %(message)s')\n",
    "    logging.info(f\"Data processed successfully from file '{file_path}'\")\n",
    "\n",
    "except Exception as e:\n",
    "    print(f\"An error occurred: {str(e)}\")\n",
    "    # Log the error message to error.txt\n",
    "    with open('error.txt', 'a') as error_file:\n",
    "        error_file.write(f\"Error occurred: {str(e)}\\n\")\n"
   ],
   "metadata": {
    "collapsed": false,
    "ExecuteTime": {
     "end_time": "2024-04-03T14:43:34.398989700Z",
     "start_time": "2024-04-03T14:43:34.375596200Z"
    }
   },
   "id": "9957aa431cf3fc8a",
   "execution_count": 5
  },
  {
   "cell_type": "code",
   "outputs": [
    {
     "name": "stdout",
     "output_type": "stream",
     "text": [
      "Hashed result: 57A393645B910F8B03EF88E44F96034F8CCB7B8D0C518EBD1125DA0EFBC36AAA\n",
      "Number of transactions: 1\n",
      "Transaction 1 decoded and saved to 6009654.json\n",
      "File '6009654.json' moved to 'C:/Users/lmhmo/Indexer_Project/indexer_project/Decrypted_files'.\n"
     ]
    }
   ],
   "source": [
    "# This section hashes the txs variable and also translates the variable with an api\n",
    "import hashlib\n",
    "import base64\n",
    "import requests\n",
    "import json\n",
    "import shutil\n",
    "\n",
    "def hash_to_hex(data: str) -> str:\n",
    "    try:\n",
    "        # Convert data from base64 to bytes\n",
    "        data_bytes = base64.b64decode(data)\n",
    "        # Calculate SHA-256 hash\n",
    "        sha256_hash = hashlib.sha256(data_bytes).hexdigest()\n",
    "        # Convert hash to uppercase\n",
    "        return sha256_hash.upper()\n",
    "    except Exception as e:\n",
    "        print(f\"Error while hashing: {e}\")\n",
    "        return None\n",
    "\n",
    "def decode_transactions(tx: str, block: int, i: int) -> str:\n",
    "    try:\n",
    "        url = \"https://phoenix-lcd.terra.dev/cosmos/tx/v1beta1/decode\"\n",
    "        headers = {'Content-Type': 'application/json'}\n",
    "        data = json.dumps({\"tx_bytes\": tx})\n",
    "\n",
    "        response = requests.post(url, headers=headers, data=data)\n",
    "        decoded_response = response.json()\n",
    "\n",
    "        # Add hashed_result to the decoded data\n",
    "        decoded_response[\"hashed_result\"] = hashed_result\n",
    "\n",
    "        # Save the updated decoded data to a JSON file\n",
    "        filename = f\"{block}.json\"\n",
    "        with open(filename, \"w\") as json_file:\n",
    "            json.dump(decoded_response, json_file, indent=2)\n",
    "\n",
    "        print(f\"Transaction {i + 1} decoded and saved to {filename}\")\n",
    "        return filename\n",
    "    except Exception as e:\n",
    "        print(f\"Error while decoding: {e}\")\n",
    "        return None\n",
    "\n",
    "# Example usage\n",
    "code = code # Replace with actual base64-encoded data\n",
    "block_number = block_number # Replace with the block number\n",
    "\n",
    "# Hash the data\n",
    "hashed_result = hash_to_hex(code)\n",
    "print(f\"Hashed result: {hashed_result}\")\n",
    "\n",
    "# Decode transactions\n",
    "code_list = code.split()\n",
    "many = len(code_list)\n",
    "\n",
    "print(f\"Number of transactions: {many}\")\n",
    "\n",
    "# Store generated filenames in a list\n",
    "generated_filenames = []\n",
    "for i, tx in enumerate(code_list):\n",
    "    filename = decode_transactions(tx, block_number, i)\n",
    "    if filename:\n",
    "        generated_filenames.append(filename)\n",
    "\n",
    "# Move the generated JSON files to the \"Decrypted_files\" directory\n",
    "target_directory = \"C:/Users/lmhmo/Indexer_Project/indexer_project/Decrypted_files\"\n",
    "for filename in generated_filenames:\n",
    "    shutil.move(filename, target_directory)\n",
    "    print(f\"File '{filename}' moved to '{target_directory}'.\")\n",
    "\n"
   ],
   "metadata": {
    "collapsed": false,
    "ExecuteTime": {
     "end_time": "2024-04-03T14:43:34.849217Z",
     "start_time": "2024-04-03T14:43:34.386498200Z"
    }
   },
   "id": "1aaf9ae5972d930c",
   "execution_count": 6
  },
  {
   "cell_type": "code",
   "outputs": [],
   "source": [],
   "metadata": {
    "collapsed": false,
    "ExecuteTime": {
     "end_time": "2024-04-03T14:43:34.850372800Z",
     "start_time": "2024-04-03T14:43:34.844523300Z"
    }
   },
   "id": "e02272610782ff6a",
   "execution_count": 6
  }
 ],
 "metadata": {
  "kernelspec": {
   "display_name": "Python 3",
   "language": "python",
   "name": "python3"
  },
  "language_info": {
   "codemirror_mode": {
    "name": "ipython",
    "version": 2
   },
   "file_extension": ".py",
   "mimetype": "text/x-python",
   "name": "python",
   "nbconvert_exporter": "python",
   "pygments_lexer": "ipython2",
   "version": "2.7.6"
  }
 },
 "nbformat": 4,
 "nbformat_minor": 5
}
