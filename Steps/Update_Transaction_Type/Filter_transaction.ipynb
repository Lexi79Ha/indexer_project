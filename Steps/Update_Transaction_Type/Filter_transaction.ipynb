{
 "cells": [
  {
   "cell_type": "code",
   "execution_count": 7,
   "id": "initial_id",
   "metadata": {
    "collapsed": true,
    "ExecuteTime": {
     "end_time": "2024-03-19T17:11:54.095418Z",
     "start_time": "2024-03-19T17:11:54.084679200Z"
    }
   },
   "outputs": [
    {
     "name": "stdout",
     "output_type": "stream",
     "text": [
      "File 'C:/Users/lmhmo/Indexer_Project/indexer_project/Decrypted_files/6024636.json' exists. Proceeding with further actions.\n"
     ]
    }
   ],
   "source": [
    "import os\n",
    "import logging\n",
    "import json\n",
    "\n",
    "block = '5905784'  # Change this number if you want to load a different file\n",
    "file_path = f'C:/Users/lmhmo/Indexer_Project/indexer_project/Decrypted_files/{block}.json'\n",
    "\n",
    "try:\n",
    "    if os.path.exists(file_path):\n",
    "        print(f\"File '{file_path}' exists. Proceeding with further actions.\")\n",
    "        # Add your additional code here\n",
    "\n",
    "        # Configure logging to write to both log.txt and error.txt\n",
    "        logging.basicConfig(filename='log.txt', level=logging.INFO, format='%(asctime)s - %(levelname)s - %(message)s')\n",
    "        logging.info(f\"File '{file_path}' exists. Proceeding with further actions.\")\n",
    "\n",
    "    else:\n",
    "        print(f\"File '{file_path}' does not exist.\")\n",
    "        # Log the error message to error.txt\n",
    "        with open('error.txt', 'a') as error_file:\n",
    "            error_file.write(f\"File '{file_path}' does not exist.\\n\")\n",
    "\n",
    "except Exception as e:\n",
    "    print(f\"An error occurred: {e}\")\n",
    "    # Log the error message to error.txt\n",
    "    with open('error.txt', 'a') as error_file:\n",
    "        error_file.write(f\"An error occurred: {e}\\n\")\n",
    "        "
   ]
  },
  {
   "cell_type": "code",
   "outputs": [
    {
     "name": "stdout",
     "output_type": "stream",
     "text": [
      "Transaction type at index 0: MsgDelegate\n",
      "Transaction type at index 1: MsgDelegate\n",
      "Transaction type at index 2: MsgDelegate\n",
      "Transaction type at index 3: MsgDelegate\n",
      "Transaction type at index 4: MsgDelegate\n",
      "Transaction type at index 5: MsgDelegate\n",
      "Transaction type at index 6: MsgDelegate\n",
      "Transaction type at index 7: MsgDelegate\n",
      "Transaction type at index 8: MsgDelegate\n",
      "Transaction type at index 9: MsgDelegate\n",
      "Transaction type at index 10: MsgDelegate\n",
      "Transaction type at index 11: MsgDelegate\n",
      "Transaction type at index 12: MsgDelegate\n",
      "Transaction type at index 13: MsgDelegate\n",
      "Transaction type at index 14: MsgDelegate\n",
      "Transaction type at index 15: MsgDelegate\n",
      "Transaction type at index 16: MsgDelegate\n",
      "Transaction type at index 17: MsgDelegate\n",
      "Transaction type at index 18: MsgDelegate\n",
      "Transaction type at index 19: MsgDelegate\n",
      "Transaction type at index 20: MsgDelegate\n",
      "Transaction type at index 21: MsgDelegate\n",
      "Transaction type at index 22: MsgDelegate\n",
      "Transaction type at index 23: MsgDelegate\n",
      "Transaction type at index 24: MsgDelegate\n"
     ]
    }
   ],
   "source": [
    "import json\n",
    "\n",
    "# Load the JSON data from the file (assuming the file_path variable is defined)\n",
    "with open(file_path, 'r') as json_file:\n",
    "    json_data = json.load(json_file)\n",
    "\n",
    "# Initialize an index variable\n",
    "index = 0\n",
    "\n",
    "# Iterate through the messages until there are no more messages\n",
    "while index < len(json_data['tx']['body']['messages']):\n",
    "    # Get the message at the current index\n",
    "    message = json_data['tx']['body']['messages'][index]\n",
    "    \n",
    "    # Extract the transaction type\n",
    "    transaction_type = message['@type'].split('.')[-1][-20:]\n",
    "    \n",
    "    # Print the transaction type\n",
    "    print(f\"Transaction type at index {index}: {transaction_type}\")\n",
    "    \n",
    "    # Increment the index\n",
    "    index += 1\n"
   ],
   "metadata": {
    "collapsed": false,
    "ExecuteTime": {
     "end_time": "2024-03-19T17:11:54.594132200Z",
     "start_time": "2024-03-19T17:11:54.583330100Z"
    }
   },
   "id": "8d827a82195eb842",
   "execution_count": 8
  },
  {
   "cell_type": "code",
   "outputs": [],
   "source": [],
   "metadata": {
    "collapsed": false,
    "ExecuteTime": {
     "end_time": "2024-03-19T14:30:52.225562700Z",
     "start_time": "2024-03-19T14:30:52.178665400Z"
    }
   },
   "id": "88aef0eb9570eb96",
   "execution_count": 2
  }
 ],
 "metadata": {
  "kernelspec": {
   "display_name": "Python 3",
   "language": "python",
   "name": "python3"
  },
  "language_info": {
   "codemirror_mode": {
    "name": "ipython",
    "version": 2
   },
   "file_extension": ".py",
   "mimetype": "text/x-python",
   "name": "python",
   "nbconvert_exporter": "python",
   "pygments_lexer": "ipython2",
   "version": "2.7.6"
  }
 },
 "nbformat": 4,
 "nbformat_minor": 5
}
