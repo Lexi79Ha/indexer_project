{
 "cells": [
  {
   "cell_type": "code",
   "execution_count": 4,
   "id": "b5090a8f8587c2e",
   "metadata": {
    "collapsed": false,
    "ExecuteTime": {
     "end_time": "2024-03-19T21:31:49.619302700Z",
     "start_time": "2024-03-19T21:31:49.579607800Z"
    }
   },
   "outputs": [
    {
     "name": "stdout",
     "output_type": "stream",
     "text": [
      "Connection established.\n"
     ]
    }
   ],
   "source": [
    "#This program loads the update client message type into its related transaction detail table inside of the blockchain db\n",
    "import pandas as pd\n",
    "import json\n",
    "import psycopg2\n",
    "import logging\n",
    "\n",
    "DB_NAME = 'blockchain'\n",
    "DB_USER = 'postgres'\n",
    "DB_PASSWORD = 'auth2020'\n",
    "DB_HOST = 'localhost'\n",
    "DB_PORT = '5432'\n",
    "\n",
    "\n",
    "try:\n",
    "    # Create a PostgreSQL connection\n",
    "    conn = psycopg2.connect(\n",
    "        dbname=DB_NAME, user=DB_USER, password=DB_PASSWORD, host=DB_HOST, port=DB_PORT\n",
    "    )\n",
    "    cur = conn.cursor()\n",
    "    print(\"Connection established.\")  # Log successful connection (you can modify this)\n",
    "\n",
    "    # Configure logging to write to a log file\n",
    "    logging.basicConfig(filename='log.txt', level=logging.INFO)\n",
    "    logging.info(\"Connection established with Database.\")  # Log the same message to the file\n",
    "\n",
    "\n",
    "    # Additional code for database operations goes here...\n",
    "\n",
    "except Exception as err:\n",
    "    # Handle exceptions\n",
    "    print(\"Unable to connect to database.\")  # Log error (you can modify this)\n",
    "    print(err)  # Print the specific error message\n",
    "\n",
    "    # Optionally, write the error message to a file (error.txt)\n",
    "    with open('error.txt', 'a') as error_file:\n",
    "        error_file.write(str(err) + '\\n')\n",
    "        "
   ]
  },
  {
   "cell_type": "code",
   "outputs": [
    {
     "name": "stdout",
     "output_type": "stream",
     "text": [
      "File 'C:/Users/lmhmo/Indexer_Project/indexer_project/Decrypted_files/5905757.json' exists. Proceeding with further actions.\n"
     ]
    }
   ],
   "source": [
    "import os\n",
    "import logging\n",
    "\n",
    "block = '5905757'  # Change this number if you want to load a different file\n",
    "file_path = f'C:/Users/lmhmo/Indexer_Project/indexer_project/Decrypted_files/{block}.json'\n",
    "\n",
    "try:\n",
    "    if os.path.exists(file_path):\n",
    "        print(f\"File '{file_path}' exists. Proceeding with further actions.\")\n",
    "        # Add your additional code here\n",
    "\n",
    "        # Configure logging to write to both log.txt and error.txt\n",
    "        logging.basicConfig(filename='log.txt', level=logging.INFO, format='%(asctime)s - %(levelname)s - %(message)s')\n",
    "        logging.info(f\"File '{file_path}' exists. Proceeding with further actions.\")\n",
    "\n",
    "    else:\n",
    "        print(f\"File '{file_path}' does not exist.\")\n",
    "        # Log the error message to error.txt\n",
    "        with open('error.txt', 'a') as error_file:\n",
    "            error_file.write(f\"File '{file_path}' does not exist.\\n\")\n",
    "\n",
    "except Exception as e:\n",
    "    print(f\"An error occurred: {e}\")\n",
    "    # Log the error message to error.txt\n",
    "    with open('error.txt', 'a') as error_file:\n",
    "        error_file.write(f\"An error occurred: {e}\\n\")\n",
    "        "
   ],
   "metadata": {
    "collapsed": false,
    "ExecuteTime": {
     "end_time": "2024-03-19T21:31:49.625817Z",
     "start_time": "2024-03-19T21:31:49.621294500Z"
    }
   },
   "id": "5171674099cf8a3a",
   "execution_count": 5
  },
  {
   "cell_type": "code",
   "outputs": [
    {
     "name": "stdout",
     "output_type": "stream",
     "text": [
      "Data inserted successfully.\n"
     ]
    }
   ],
   "source": [
    "try:\n",
    "    with open(file_path, 'r') as json_file:\n",
    "        json_data = json.load(json_file)\n",
    "\n",
    "        # Create DataFrames for client_id and signer\n",
    "        df_client_id = pd.DataFrame({\"client_id\": [json_data[\"tx\"][\"body\"][\"messages\"][0][\"client_id\"]]})\n",
    "        df_signer = pd.DataFrame({\"signer\": [json_data[\"tx\"][\"body\"][\"messages\"][0][\"signer\"]]})\n",
    "\n",
    "        table_name = 'transaction_detail_msgupdate'\n",
    "\n",
    "        # Construct the combined insert query\n",
    "        msg_insert_query = f\"\"\"\n",
    "            INSERT INTO transaction_detail_msgupdate (client_id, signer, raw_data)\n",
    "            VALUES ('{df_client_id.iloc[0][\"client_id\"]}', '{df_signer.iloc[0][\"signer\"]}', '{json.dumps(json_data)}');\n",
    "        \"\"\"\n",
    "\n",
    "        # Replace with your actual database connection parameters\n",
    "        conn = psycopg2.connect(\n",
    "            dbname='blockchain',\n",
    "            user='postgres',\n",
    "            password='auth2020',\n",
    "            host='localhost',\n",
    "            port='5432'\n",
    "        )\n",
    "\n",
    "        with conn:\n",
    "            with conn.cursor() as cur:\n",
    "                cur.execute(msg_insert_query)\n",
    "\n",
    "        print(\"Data inserted successfully.\")\n",
    "\n",
    "except (psycopg2.DatabaseError, Exception) as error:\n",
    "    print(\"Error inserting data into the table.\")\n",
    "    print(error)\n",
    "\n",
    "finally:\n",
    "    # Close the cursor and database connection\n",
    "    cur.close()\n",
    "    conn.close()\n"
   ],
   "metadata": {
    "collapsed": false,
    "ExecuteTime": {
     "end_time": "2024-03-19T21:31:49.672746700Z",
     "start_time": "2024-03-19T21:31:49.627817200Z"
    }
   },
   "id": "a442073a8bb0149",
   "execution_count": 6
  },
  {
   "cell_type": "code",
   "outputs": [],
   "source": [],
   "metadata": {
    "collapsed": false,
    "ExecuteTime": {
     "end_time": "2024-03-19T21:31:49.676749200Z",
     "start_time": "2024-03-19T21:31:49.671446Z"
    }
   },
   "id": "cfde1987cff03f6b",
   "execution_count": 6
  }
 ],
 "metadata": {
  "kernelspec": {
   "display_name": "Python 3",
   "language": "python",
   "name": "python3"
  },
  "language_info": {
   "codemirror_mode": {
    "name": "ipython",
    "version": 2
   },
   "file_extension": ".py",
   "mimetype": "text/x-python",
   "name": "python",
   "nbconvert_exporter": "python",
   "pygments_lexer": "ipython2",
   "version": "2.7.6"
  }
 },
 "nbformat": 4,
 "nbformat_minor": 5
}
