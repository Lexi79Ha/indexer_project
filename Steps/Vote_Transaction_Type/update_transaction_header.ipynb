{
 "cells": [
  {
   "cell_type": "code",
   "outputs": [
    {
     "name": "stdout",
     "output_type": "stream",
     "text": [
      "Found JSON file: C:/Users/lmhmo/Indexer_Project/indexer_project/Decrypted_files/6009654.json\n"
     ]
    },
    {
     "ename": "KeyError",
     "evalue": "'tx'",
     "output_type": "error",
     "traceback": [
      "\u001B[1;31m---------------------------------------------------------------------------\u001B[0m",
      "\u001B[1;31mKeyError\u001B[0m                                  Traceback (most recent call last)",
      "Cell \u001B[1;32mIn[6], line 30\u001B[0m\n\u001B[0;32m     27\u001B[0m json_data \u001B[38;5;241m=\u001B[39m json\u001B[38;5;241m.\u001B[39mload(json_file)\n\u001B[0;32m     29\u001B[0m \u001B[38;5;66;03m# Extract other data (type, amount, denom, gas_limit) from your JSON data\u001B[39;00m\n\u001B[1;32m---> 30\u001B[0m \u001B[38;5;28mtype\u001B[39m \u001B[38;5;241m=\u001B[39m \u001B[43mjson_data\u001B[49m\u001B[43m[\u001B[49m\u001B[38;5;124;43m\"\u001B[39;49m\u001B[38;5;124;43mtx\u001B[39;49m\u001B[38;5;124;43m\"\u001B[39;49m\u001B[43m]\u001B[49m[\u001B[38;5;124m\"\u001B[39m\u001B[38;5;124mbody\u001B[39m\u001B[38;5;124m\"\u001B[39m][\u001B[38;5;124m\"\u001B[39m\u001B[38;5;124mmessages\u001B[39m\u001B[38;5;124m\"\u001B[39m][\u001B[38;5;241m0\u001B[39m][\u001B[38;5;124m\"\u001B[39m\u001B[38;5;124m@type\u001B[39m\u001B[38;5;124m\"\u001B[39m]\n\u001B[0;32m     31\u001B[0m amount \u001B[38;5;241m=\u001B[39m json_data[\u001B[38;5;124m\"\u001B[39m\u001B[38;5;124mtx\u001B[39m\u001B[38;5;124m\"\u001B[39m][\u001B[38;5;124m\"\u001B[39m\u001B[38;5;124mauth_info\u001B[39m\u001B[38;5;124m\"\u001B[39m][\u001B[38;5;124m\"\u001B[39m\u001B[38;5;124mfee\u001B[39m\u001B[38;5;124m\"\u001B[39m][\u001B[38;5;124m\"\u001B[39m\u001B[38;5;124mamount\u001B[39m\u001B[38;5;124m\"\u001B[39m][\u001B[38;5;241m0\u001B[39m][\u001B[38;5;124m\"\u001B[39m\u001B[38;5;124mamount\u001B[39m\u001B[38;5;124m\"\u001B[39m]\n\u001B[0;32m     32\u001B[0m denom \u001B[38;5;241m=\u001B[39m json_data[\u001B[38;5;124m\"\u001B[39m\u001B[38;5;124mtx\u001B[39m\u001B[38;5;124m\"\u001B[39m][\u001B[38;5;124m\"\u001B[39m\u001B[38;5;124mauth_info\u001B[39m\u001B[38;5;124m\"\u001B[39m][\u001B[38;5;124m\"\u001B[39m\u001B[38;5;124mfee\u001B[39m\u001B[38;5;124m\"\u001B[39m][\u001B[38;5;124m\"\u001B[39m\u001B[38;5;124mamount\u001B[39m\u001B[38;5;124m\"\u001B[39m][\u001B[38;5;241m0\u001B[39m][\u001B[38;5;124m\"\u001B[39m\u001B[38;5;124mdenom\u001B[39m\u001B[38;5;124m\"\u001B[39m]\n",
      "\u001B[1;31mKeyError\u001B[0m: 'tx'"
     ]
    }
   ],
   "source": [
    "import os\n",
    "import psycopg2\n",
    "import json\n",
    "\n",
    "# Define your database connection parameters\n",
    "db_params = {\n",
    "    \"host\": \"localhost\",\n",
    "    \"database\": \"blockchain\",\n",
    "    \"user\": \"postgres\",\n",
    "    \"password\": \"auth2020\"\n",
    "}\n",
    "\n",
    "# Specify the block value\n",
    "block = '6009654'\n",
    "table_name = 'transaction_header_vote'\n",
    "\n",
    "# Construct the path to the JSON file\n",
    "file_path = f'C:/Users/lmhmo/Indexer_Project/indexer_project/Decrypted_files/{block}.json'\n",
    "\n",
    "try:\n",
    "    # Check if the file exists\n",
    "    if os.path.exists(file_path):\n",
    "        print(f\"Found JSON file: {file_path}\")\n",
    "\n",
    "        # Load JSON data from the file\n",
    "        with open(file_path, 'r') as json_file:\n",
    "            json_data = json.load(json_file)\n",
    "\n",
    "            # Extract other data (type, amount, denom, gas_limit) from your JSON data\n",
    "            type = json_data[\"tx\"][\"body\"][\"messages\"][0][\"@type\"]\n",
    "            amount = json_data[\"tx\"][\"auth_info\"][\"fee\"][\"amount\"][0][\"amount\"]\n",
    "            denom = json_data[\"tx\"][\"auth_info\"][\"fee\"][\"amount\"][0][\"denom\"]\n",
    "            gas_limit = json_data[\"tx\"][\"auth_info\"][\"fee\"][\"gas_limit\"]\n",
    "\n",
    "            # Connect to the database\n",
    "            conn = psycopg2.connect(**db_params)\n",
    "            print(\"Connected to the database successfully!\")\n",
    "\n",
    "            # Execute the query to retrieve the block_id\n",
    "            get_block_id_query = f\"SELECT block_id FROM block WHERE block = '{block}'\"\n",
    "            with conn.cursor() as cursor:\n",
    "                cursor.execute(get_block_id_query)\n",
    "                result = cursor.fetchone()\n",
    "\n",
    "                if result:\n",
    "                    block_id = result[0]\n",
    "                    print(f\"Found block_id: {block_id}\")\n",
    "\n",
    "                    # Construct the combined insert query\n",
    "                    tx_header_insert_query = f\"\"\"\n",
    "                        INSERT INTO {table_name} (block_id, amount, denom, gas_limit)\n",
    "                        VALUES ('{block_id}', {amount}, '{denom}', {gas_limit});\n",
    "                    \"\"\"\n",
    "\n",
    "                    # Execute the insert query\n",
    "                    cursor.execute(tx_header_insert_query)\n",
    "                    conn.commit()  # Commit the transaction\n",
    "\n",
    "                    print(\"Data inserted successfully!\")\n",
    "                else:\n",
    "                    print(f\"No block_id found for block {block}\")\n",
    "\n",
    "        # Close the database connection\n",
    "        conn.close()\n",
    "    else:\n",
    "        print(f\"JSON file not found: {file_path}\")\n",
    "\n",
    "except psycopg2.Error as e:\n",
    "    print(f\"Error connecting to the database: {e}\")\n",
    "\n"
   ],
   "metadata": {
    "collapsed": false,
    "ExecuteTime": {
     "end_time": "2024-03-25T20:20:15.674216500Z",
     "start_time": "2024-03-25T20:20:15.251967900Z"
    }
   },
   "id": "a442073a8bb0149",
   "execution_count": 6
  },
  {
   "cell_type": "code",
   "outputs": [],
   "source": [],
   "metadata": {
    "collapsed": false,
    "ExecuteTime": {
     "start_time": "2024-03-25T20:20:15.670920100Z"
    }
   },
   "id": "c30ebb9b52b00412",
   "execution_count": null
  }
 ],
 "metadata": {
  "kernelspec": {
   "display_name": "Python 3",
   "language": "python",
   "name": "python3"
  },
  "language_info": {
   "codemirror_mode": {
    "name": "ipython",
    "version": 2
   },
   "file_extension": ".py",
   "mimetype": "text/x-python",
   "name": "python",
   "nbconvert_exporter": "python",
   "pygments_lexer": "ipython2",
   "version": "2.7.6"
  }
 },
 "nbformat": 4,
 "nbformat_minor": 5
}
