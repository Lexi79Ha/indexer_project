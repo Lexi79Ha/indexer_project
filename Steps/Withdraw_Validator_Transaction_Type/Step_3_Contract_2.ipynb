{
 "cells": [
  {
   "cell_type": "code",
   "execution_count": 38,
   "id": "b5090a8f8587c2e",
   "metadata": {
    "collapsed": false,
    "ExecuteTime": {
     "end_time": "2024-03-26T22:20:41.239750100Z",
     "start_time": "2024-03-26T22:20:41.198263500Z"
    }
   },
   "outputs": [
    {
     "name": "stdout",
     "output_type": "stream",
     "text": [
      "Connection established.\n"
     ]
    }
   ],
   "source": [
    "#This program loads the update client message type into its related transaction detail table inside of the blockchain db\n",
    "import pandas as pd\n",
    "import json\n",
    "import psycopg2\n",
    "import logging\n",
    "\n",
    "DB_NAME = 'blockchain'\n",
    "DB_USER = 'postgres'\n",
    "DB_PASSWORD = 'auth2020'\n",
    "DB_HOST = 'localhost'\n",
    "DB_PORT = '5432'\n",
    "\n",
    "\n",
    "try:\n",
    "    # Create a PostgreSQL connection\n",
    "    conn = psycopg2.connect(\n",
    "        dbname=DB_NAME, user=DB_USER, password=DB_PASSWORD, host=DB_HOST, port=DB_PORT\n",
    "    )\n",
    "    cur = conn.cursor()\n",
    "    print(\"Connection established.\")  # Log successful connection (you can modify this)\n",
    "\n",
    "    # Configure logging to write to a log file\n",
    "    logging.basicConfig(filename='log.txt', level=logging.INFO)\n",
    "    logging.info(\"Connection established with Database.\")  # Log the same message to the file\n",
    "\n",
    "\n",
    "    # Additional code for database operations goes here...\n",
    "\n",
    "except Exception as err:\n",
    "    # Handle exceptions\n",
    "    print(\"Unable to connect to database.\")  # Log error (you can modify this)\n",
    "    print(err)  # Print the specific error message\n",
    "\n",
    "    # Optionally, write the error message to a file (error.txt)\n",
    "    with open('error.txt', 'a') as error_file:\n",
    "        error_file.write(str(err) + '\\n')\n",
    "        "
   ]
  },
  {
   "cell_type": "code",
   "outputs": [
    {
     "name": "stdout",
     "output_type": "stream",
     "text": [
      "File 'C:/Users/lmhmo/Indexer_Project/indexer_project/Decrypted_files/6039481.json' exists. Proceeding with further actions.\n"
     ]
    }
   ],
   "source": [
    "import os\n",
    "import logging\n",
    "\n",
    "block = '6039481'  # Change this number if you want to load a different file\n",
    "file_path = f'C:/Users/lmhmo/Indexer_Project/indexer_project/Decrypted_files/{block}.json'\n",
    "\n",
    "try:\n",
    "    if os.path.exists(file_path):\n",
    "        print(f\"File '{file_path}' exists. Proceeding with further actions.\")\n",
    "        # Add your additional code here\n",
    "\n",
    "        # Configure logging to write to both log.txt and error.txt\n",
    "        logging.basicConfig(filename='log.txt', level=logging.INFO, format='%(asctime)s - %(levelname)s - %(message)s')\n",
    "        logging.info(f\"File '{file_path}' exists. Proceeding with further actions.\")\n",
    "\n",
    "    else:\n",
    "        print(f\"File '{file_path}' does not exist.\")\n",
    "        # Log the error message to error.txt\n",
    "        with open('error.txt', 'a') as error_file:\n",
    "            error_file.write(f\"File '{file_path}' does not exist.\\n\")\n",
    "\n",
    "except Exception as e:\n",
    "    print(f\"An error occurred: {e}\")\n",
    "    # Log the error message to error.txt\n",
    "    with open('error.txt', 'a') as error_file:\n",
    "        error_file.write(f\"An error occurred: {e}\\n\")\n",
    "        "
   ],
   "metadata": {
    "collapsed": false,
    "ExecuteTime": {
     "end_time": "2024-03-26T22:20:41.248716600Z",
     "start_time": "2024-03-26T22:20:41.243358900Z"
    }
   },
   "id": "6b0703e3bdc490b4",
   "execution_count": 39
  },
  {
   "cell_type": "code",
   "outputs": [
    {
     "name": "stdout",
     "output_type": "stream",
     "text": [
      "Most recent transaction_execute_id: c93749b0-aafa-4222-9641-8422d6355a25\n"
     ]
    }
   ],
   "source": [
    "import psycopg2\n",
    "\n",
    "def get_most_recent_transaction_id(conn):\n",
    "    try:\n",
    "        with conn.cursor() as cursor:\n",
    "            # Query to retrieve the most recent transaction_begin_redelegate_id\n",
    "            get_transaction_id_query = \"\"\"\n",
    "                SELECT transaction_execute_id\n",
    "                FROM transaction_header_execute\n",
    "                ORDER BY transaction_execute_id DESC\n",
    "                LIMIT 1;\n",
    "            \"\"\"\n",
    "            cursor.execute(get_transaction_id_query)\n",
    "            result = cursor.fetchone()\n",
    "            if result:\n",
    "                transaction_id = result[0]\n",
    "                print(f\"Most recent transaction_execute_id: {transaction_id}\")\n",
    "                return transaction_id\n",
    "            else:\n",
    "                print(\"No transaction_execute_id found.\")\n",
    "                return None\n",
    "    except psycopg2.Error as e:\n",
    "        print(f\"Error retrieving transaction_execute_id: {e}\")\n",
    "        return None\n",
    "\n",
    "# Example usage: Replace with your actual database connection details\n",
    "db_params = {\n",
    "    \"host\": \"localhost\",\n",
    "    \"database\": \"blockchain\",\n",
    "    \"user\": \"postgres\",\n",
    "    \"password\": \"auth2020\"\n",
    "}\n",
    "\n",
    "try:\n",
    "    conn = psycopg2.connect(**db_params)\n",
    "    get_most_recent_transaction_id(conn)\n",
    "    conn.close()\n",
    "except psycopg2.Error as e:\n",
    "    print(f\"Error connecting to the database: {e}\")\n",
    "       "
   ],
   "metadata": {
    "collapsed": false,
    "ExecuteTime": {
     "end_time": "2024-03-26T22:20:41.295751400Z",
     "start_time": "2024-03-26T22:20:41.248716600Z"
    }
   },
   "id": "dafd0bbc2f9c56a6",
   "execution_count": 40
  },
  {
   "cell_type": "code",
   "outputs": [
    {
     "name": "stdout",
     "output_type": "stream",
     "text": [
      "Most recent transaction_execute_id: c93749b0-aafa-4222-9641-8422d6355a25\n",
      "Data inserted successfully!\n"
     ]
    }
   ],
   "source": [
    "try:\n",
    "    conn = psycopg2.connect(**db_params)\n",
    "    recent_transaction_id = get_most_recent_transaction_id(conn)\n",
    "    conn.close()\n",
    "\n",
    "    if recent_transaction_id:\n",
    "        # Continue with your existing code\n",
    "        with open(file_path, 'r') as json_file:\n",
    "            json_data = json.load(json_file)\n",
    "\n",
    "            # Create DataFrames for client_id and signer\n",
    "            df_sender = pd.DataFrame({\"sender\": [json_data[\"tx\"][\"body\"][\"messages\"][0][\"sender\"]]})\n",
    "            df_contract = pd.DataFrame({\"contract\": [json_data[\"tx\"][\"body\"][\"messages\"][0][\"contract\"]]})\n",
    "\n",
    "            table_name = 'transaction_detail_msg_executecontract'\n",
    "\n",
    "            # Construct the combined insert query\n",
    "            msg_insert_query = f\"\"\"\n",
    "                INSERT INTO {table_name} (sender, contract, transaction_execute_id)\n",
    "                VALUES ('{df_sender.iloc[0][\"sender\"]}', '{df_contract.iloc[0][\"contract\"]}', '{recent_transaction_id}');\n",
    "            \"\"\"\n",
    "\n",
    "            try:\n",
    "                conn = psycopg2.connect(**db_params)\n",
    "                with conn.cursor() as cursor:\n",
    "                    cursor.execute(msg_insert_query)\n",
    "                    conn.commit()  # Commit the changes\n",
    "                    print(\"Data inserted successfully!\")\n",
    "            except psycopg2.Error as e:\n",
    "                print(f\"Error inserting data: {e}\")\n",
    "            finally:\n",
    "                conn.close()\n",
    "    else:\n",
    "        print(\"No recent transaction ID found.\")\n",
    "except psycopg2.Error as e:\n",
    "    print(f\"Error connecting to the database: {e}\")\n"
   ],
   "metadata": {
    "collapsed": false,
    "ExecuteTime": {
     "end_time": "2024-03-26T22:20:41.368126Z",
     "start_time": "2024-03-26T22:20:41.292210100Z"
    }
   },
   "id": "a442073a8bb0149",
   "execution_count": 41
  },
  {
   "cell_type": "code",
   "outputs": [],
   "source": [
    "\n",
    "            "
   ],
   "metadata": {
    "collapsed": false,
    "ExecuteTime": {
     "end_time": "2024-03-26T22:20:41.368126Z",
     "start_time": "2024-03-26T22:20:41.365549100Z"
    }
   },
   "id": "cfde1987cff03f6b",
   "execution_count": 41
  }
 ],
 "metadata": {
  "kernelspec": {
   "display_name": "Python 3",
   "language": "python",
   "name": "python3"
  },
  "language_info": {
   "codemirror_mode": {
    "name": "ipython",
    "version": 2
   },
   "file_extension": ".py",
   "mimetype": "text/x-python",
   "name": "python",
   "nbconvert_exporter": "python",
   "pygments_lexer": "ipython2",
   "version": "2.7.6"
  }
 },
 "nbformat": 4,
 "nbformat_minor": 5
}
