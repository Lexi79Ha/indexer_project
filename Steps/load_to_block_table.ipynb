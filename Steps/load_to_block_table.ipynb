{
 "cells": [
  {
   "cell_type": "code",
   "execution_count": 1,
   "id": "b5090a8f8587c2e",
   "metadata": {
    "collapsed": false,
    "ExecuteTime": {
     "end_time": "2024-04-03T17:01:17.312891500Z",
     "start_time": "2024-04-03T17:01:15.636765900Z"
    }
   },
   "outputs": [
    {
     "name": "stdout",
     "output_type": "stream",
     "text": [
      "Connection established.\n"
     ]
    }
   ],
   "source": [
    "#This program loads the transaction data to the block table\n",
    "# Libraries pandas, json, psycopg2, logging\n",
    "# This program contains three steps:\n",
    "#1. Connect to database, and verify connection\n",
    "#2. Fetch file based on block number, and verify existence\n",
    "#3. Pull desired data from data paths and push it to block table\n",
    "import pandas as pd\n",
    "import json\n",
    "import psycopg2\n",
    "import logging\n",
    "\n",
    "# 1. Connect to database\n",
    "DB_NAME = 'blockchain'\n",
    "DB_USER = 'postgres'\n",
    "DB_PASSWORD = 'auth2020'\n",
    "DB_HOST = 'localhost'\n",
    "DB_PORT = '5432'\n",
    "\n",
    "# Verify connection through try and except block\n",
    "try:\n",
    "    # Create a PostgreSQL connection\n",
    "    conn = psycopg2.connect(\n",
    "        dbname=DB_NAME, user=DB_USER, password=DB_PASSWORD, host=DB_HOST, port=DB_PORT\n",
    "    )\n",
    "    cur = conn.cursor()\n",
    "    print(\"Connection established.\")  # Log successful connection (you can modify this)\n",
    "\n",
    "    # Configure logging to write to a log file\n",
    "    logging.basicConfig(filename='log.txt', level=logging.INFO)\n",
    "    logging.info(\"Connection established with Database.\")  # Log the same message to the file\n",
    "# If db does not exist produce error message\n",
    "except Exception as err:\n",
    "    # Handle exceptions\n",
    "    print(\"Unable to connect to database.\")  # Log error (you can modify this)\n",
    "    print(err)  # Print the specific error message\n",
    "\n",
    "    # Optionally, write the error message to a file (error.txt)\n",
    "    with open('error.txt', 'a') as error_file:\n",
    "        error_file.write(str(err) + '\\n')\n",
    "        "
   ]
  },
  {
   "cell_type": "code",
   "outputs": [
    {
     "name": "stdout",
     "output_type": "stream",
     "text": [
      "File 'C:/Users/lmhmo/Indexer_Project/indexer_project/Decrypted_files/1199803.json' exists. Proceeding with further actions.\n"
     ]
    }
   ],
   "source": [
    "import os\n",
    "import logging\n",
    "# 2. Fetch block number from blocks directory\n",
    "block = '1199803' # Input desired block number\n",
    "\n",
    "  # Change this number if you want to load a different file\n",
    "file_path = f'C:/Users/lmhmo/Indexer_Project/indexer_project/Decrypted_files/{block}.json'\n",
    "# Verify existence with try and except block\n",
    "try:\n",
    "    if os.path.exists(file_path):\n",
    "        print(f\"File '{file_path}' exists. Proceeding with further actions.\")\n",
    "        # Add your additional code here\n",
    "\n",
    "        # Configure logging to write to both log.txt and error.txt\n",
    "        logging.basicConfig(filename='log.txt', level=logging.INFO, format='%(asctime)s - %(levelname)s - %(message)s')\n",
    "        logging.info(f\"File '{file_path}' exists. Proceeding with further actions.\")\n",
    "\n",
    "    else:\n",
    "        print(f\"File '{file_path}' does not exist.\")\n",
    "        # Log the error message to error.txt\n",
    "        with open('error.txt', 'a') as error_file:\n",
    "            error_file.write(f\"File '{file_path}' does not exist.\\n\")\n",
    "\n",
    "except Exception as e:\n",
    "    print(f\"An error occurred: {e}\")\n",
    "    # Log the error message to error.txt\n",
    "    with open('error.txt', 'a') as error_file:\n",
    "        error_file.write(f\"An error occurred: {e}\\n\")\n",
    "        \n",
    "        "
   ],
   "metadata": {
    "collapsed": false,
    "ExecuteTime": {
     "end_time": "2024-04-03T17:01:17.320215900Z",
     "start_time": "2024-04-03T17:01:17.313891700Z"
    }
   },
   "id": "27d2e27a3f8673aa",
   "execution_count": 2
  },
  {
   "cell_type": "code",
   "outputs": [
    {
     "name": "stdout",
     "output_type": "stream",
     "text": [
      "Data inserted successfully.\n"
     ]
    }
   ],
   "source": [
    "# 3. Pull data from data paths and push to block table\n",
    "# Identify data paths \n",
    "try:\n",
    "    with open(file_path, 'r') as json_file:\n",
    "        json_data = json.load(json_file)\n",
    "\n",
    "        type = json_data[\"tx\"][\"body\"][\"messages\"][0][\"@type\"]\n",
    "        hash = json_data[\"hashed_result\"]\n",
    "        table_name = 'block'\n",
    "# Insert data to db\n",
    "        # Construct the combined insert query\n",
    "        tx_header_insert_query = f\"\"\"\n",
    "        INSERT INTO block (type, block, hash)\n",
    "        VALUES ('{type}', {block}, '{hash}');\n",
    "    \"\"\"\n",
    "\n",
    "        # Replace with your actual database connection parameters\n",
    "        conn = psycopg2.connect(\n",
    "            dbname='blockchain',\n",
    "            user='postgres',\n",
    "            password='auth2020',\n",
    "            host='localhost',\n",
    "            port='5432'\n",
    "        )\n",
    "\n",
    "        with conn:\n",
    "            with conn.cursor() as cur:\n",
    "                cur.execute(tx_header_insert_query)\n",
    "\n",
    "        print(\"Data inserted successfully.\")\n",
    "\n",
    "except (psycopg2.DatabaseError, Exception) as error:\n",
    "    print(\"Error inserting data into the table.\")\n",
    "    print(error)\n",
    "\n",
    "finally:\n",
    "    # Close the cursor and database connection\n",
    "    cur.close()\n",
    "    conn.close()\n"
   ],
   "metadata": {
    "collapsed": false,
    "ExecuteTime": {
     "end_time": "2024-04-03T17:01:17.372467900Z",
     "start_time": "2024-04-03T17:01:17.321216500Z"
    }
   },
   "id": "a442073a8bb0149",
   "execution_count": 3
  },
  {
   "cell_type": "code",
   "outputs": [],
   "source": [],
   "metadata": {
    "collapsed": false,
    "ExecuteTime": {
     "end_time": "2024-04-03T17:01:17.374976700Z",
     "start_time": "2024-04-03T17:01:17.372467900Z"
    }
   },
   "id": "630ba90416b311fd",
   "execution_count": 3
  }
 ],
 "metadata": {
  "kernelspec": {
   "display_name": "Python 3",
   "language": "python",
   "name": "python3"
  },
  "language_info": {
   "codemirror_mode": {
    "name": "ipython",
    "version": 2
   },
   "file_extension": ".py",
   "mimetype": "text/x-python",
   "name": "python",
   "nbconvert_exporter": "python",
   "pygments_lexer": "ipython2",
   "version": "2.7.6"
  }
 },
 "nbformat": 4,
 "nbformat_minor": 5
}
