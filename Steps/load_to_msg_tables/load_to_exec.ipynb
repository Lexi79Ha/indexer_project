{
 "cells": [
  {
   "cell_type": "code",
   "execution_count": 9,
   "id": "initial_id",
   "metadata": {
    "collapsed": true,
    "ExecuteTime": {
     "end_time": "2024-04-02T22:08:43.362649700Z",
     "start_time": "2024-04-02T22:08:43.316747900Z"
    }
   },
   "outputs": [
    {
     "name": "stdout",
     "output_type": "stream",
     "text": [
      "Connection established.\n"
     ]
    }
   ],
   "source": [
    "#This program loads the exec message types into its related transaction detail table inside of the blockchain db\n",
    "# This program accomplishes this in three steps\n",
    "# 1. def connect_to_database: connects to blockchain database\n",
    "#2. def get_most_recent_transaction_id(conn): pulls the related transaction_id from the header table\n",
    "#3. def main: this function pull the data from their data paths in the json file and then pushes that data along with transaction_id to the detail table\n",
    "# Libraries used: os, json, psycopg2, logging\n",
    "import os\n",
    "import json\n",
    "import psycopg2  # Use psycopg2 for PostgreSQL\n",
    "import logging\n",
    "\n",
    "def connect_to_database():\n",
    "    DB_NAME = 'blockchain'\n",
    "    DB_USER = 'postgres'\n",
    "    DB_PASSWORD = 'auth2020'\n",
    "    DB_HOST = 'localhost'\n",
    "    DB_PORT = '5432'\n",
    "\n",
    "    try:\n",
    "        # Create a PostgreSQL connection\n",
    "        conn = psycopg2.connect(\n",
    "            dbname=DB_NAME, user=DB_USER, password=DB_PASSWORD, host=DB_HOST, port=DB_PORT\n",
    "        )\n",
    "        cur = conn.cursor()\n",
    "        print(\"Connection established.\")  # Log successful connection (you can modify this)\n",
    "\n",
    "        # Configure logging to write to a log file\n",
    "        logging.basicConfig(filename='log.txt', level=logging.INFO)\n",
    "        logging.info(\"Connection established with Database.\")  # Log the same message to the file\n",
    "\n",
    "        return conn  # Return the connection object\n",
    "\n",
    "    except Exception as err:\n",
    "        # Handle exceptions\n",
    "        print(\"Unable to connect to the database.\")  # Log error (you can modify this)\n",
    "        print(err)  # Print the specific error message\n",
    "\n",
    "        # Optionally, write the error message to a file (error.txt)\n",
    "        with open('error.txt', 'a') as error_file:\n",
    "            error_file.write(str(err) + '\\n')\n",
    "\n",
    "# Call the connect_to_database function\n",
    "db_connection = connect_to_database()"
   ]
  },
  {
   "cell_type": "code",
   "outputs": [],
   "source": [
    "def get_most_recent_transaction_id(conn):\n",
    "    try:\n",
    "        with conn.cursor() as cursor:\n",
    "            # Query to retrieve the most recent transaction_id\n",
    "            get_transaction_id_query = \"\"\"\n",
    "                SELECT transaction_id\n",
    "                FROM transaction_header\n",
    "                WHERE type = '/cosmos.authz.v1beta1.MsgExec'\n",
    "\n",
    "                ORDER BY transaction_id DESC;\n",
    "            \"\"\"\n",
    "            cursor.execute(get_transaction_id_query)\n",
    "            result = cursor.fetchone()\n",
    "            if result:\n",
    "                return result[0]\n",
    "            else:\n",
    "                print(\"No transaction_id found.\")\n",
    "                return None\n",
    "    except psycopg2.Error as e:\n",
    "        print(f\"Error retrieving transaction_id: {e}\")\n",
    "        return None"
   ],
   "metadata": {
    "collapsed": false,
    "ExecuteTime": {
     "end_time": "2024-04-02T22:08:43.371710700Z",
     "start_time": "2024-04-02T22:08:43.365648300Z"
    }
   },
   "id": "d5cb7bcb5992ea52",
   "execution_count": 10
  },
  {
   "cell_type": "code",
   "outputs": [
    {
     "name": "stdout",
     "output_type": "stream",
     "text": [
      "Found JSON file: C:/Users/lmhmo/Indexer_Project/indexer_project/Decrypted_files/6024636.json\n",
      "Connection established.\n"
     ]
    }
   ],
   "source": [
    "def main():\n",
    "    block = '6024636'\n",
    "\n",
    "    file_path = f'C:/Users/lmhmo/Indexer_Project/indexer_project/Decrypted_files/{block}.json'\n",
    "\n",
    "    try:\n",
    "        if os.path.exists(file_path):\n",
    "            print(f\"Found JSON file: {file_path}\")\n",
    "\n",
    "            with open(file_path, 'r') as json_file:\n",
    "                json_data = json.load(json_file)\n",
    "\n",
    "                conn = connect_to_database()\n",
    "                transaction_id = get_most_recent_transaction_id(conn)\n",
    "\n",
    "                if transaction_id:\n",
    "                    insert_queries = []\n",
    "                    for message in json_data['tx']['body']['messages'][0]['msgs']:\n",
    "                        # Extract data from the given JSON structure\n",
    "                        type = message[\"@type\"]  # <-- This line is causing the error\n",
    "                        delegator_address = message[\"delegator_address\"]\n",
    "                        validator_address = message[\"validator_address\"]\n",
    "                        denom = message[\"amount\"][\"denom\"]\n",
    "                        amount = message[\"amount\"][\"amount\"]\n",
    "\n",
    "                        table_name = 'transaction_detail_msg_exec'\n",
    "\n",
    "                        # Construct the combined insert query\n",
    "                        msg_insert_query = f\"\"\"\n",
    "                        INSERT INTO {table_name} (transaction_id, type, delegator_address, validator_address, denom, amount)\n",
    "                        VALUES ('{transaction_id}','{type}','{delegator_address}', '{validator_address}', '{denom}', '{amount}');\n",
    "                        \"\"\"\n",
    "\n",
    "                        insert_queries.append(msg_insert_query)\n",
    "\n",
    "                    # Execute the insert queries\n",
    "                    with conn.cursor() as cursor:\n",
    "                        for query in insert_queries:\n",
    "                            cursor.execute(query)\n",
    "                        conn.commit()\n",
    "    except Exception as e:\n",
    "        print(f\"An error occurred: {e}\")\n",
    "\n",
    "if __name__ == \"__main__\":\n",
    "    main()"
   ],
   "metadata": {
    "collapsed": false,
    "ExecuteTime": {
     "end_time": "2024-04-02T22:08:43.436516Z",
     "start_time": "2024-04-02T22:08:43.371710700Z"
    }
   },
   "id": "83b827cdc2799d32",
   "execution_count": 11
  },
  {
   "cell_type": "code",
   "outputs": [],
   "source": [],
   "metadata": {
    "collapsed": false,
    "ExecuteTime": {
     "end_time": "2024-04-02T22:08:43.437540700Z",
     "start_time": "2024-04-02T22:08:43.432002200Z"
    }
   },
   "id": "f054f87c29fdac64",
   "execution_count": 11
  }
 ],
 "metadata": {
  "kernelspec": {
   "display_name": "Python 3",
   "language": "python",
   "name": "python3"
  },
  "language_info": {
   "codemirror_mode": {
    "name": "ipython",
    "version": 2
   },
   "file_extension": ".py",
   "mimetype": "text/x-python",
   "name": "python",
   "nbconvert_exporter": "python",
   "pygments_lexer": "ipython2",
   "version": "2.7.6"
  }
 },
 "nbformat": 4,
 "nbformat_minor": 5
}
