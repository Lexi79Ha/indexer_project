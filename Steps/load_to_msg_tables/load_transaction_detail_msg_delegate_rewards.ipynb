{
 "cells": [
  {
   "cell_type": "code",
   "outputs": [
    {
     "name": "stdout",
     "output_type": "stream",
     "text": [
      "Connection established.\n"
     ]
    }
   ],
   "source": [
    "\n",
    "    "
   ],
   "metadata": {
    "collapsed": false,
    "ExecuteTime": {
     "end_time": "2024-03-27T20:42:14.573957700Z",
     "start_time": "2024-03-27T20:42:14.523993200Z"
    }
   },
   "id": "f431d86a346a3038",
   "execution_count": 42
  },
  {
   "cell_type": "code",
   "outputs": [
    {
     "name": "stdout",
     "output_type": "stream",
     "text": [
      "File 'C:/Users/lmhmo/Indexer_Project/indexer_project/Decrypted_files/5927808.json' exists. Proceeding with further actions.\n"
     ]
    }
   ],
   "source": [
    "\n"
   ],
   "metadata": {
    "collapsed": false,
    "ExecuteTime": {
     "end_time": "2024-03-27T20:42:14.583982300Z",
     "start_time": "2024-03-27T20:42:14.572587700Z"
    }
   },
   "id": "232f383b4b0d99b1",
   "execution_count": 43
  },
  {
   "cell_type": "code",
   "outputs": [
    {
     "name": "stdout",
     "output_type": "stream",
     "text": [
      "Most recent transaction_id: 1b378e2f-b4a5-4765-a56b-e2fd3aa279ce\n"
     ]
    }
   ],
   "source": [],
   "metadata": {
    "collapsed": false,
    "ExecuteTime": {
     "end_time": "2024-03-27T20:42:14.646953500Z",
     "start_time": "2024-03-27T20:42:14.583982300Z"
    }
   },
   "id": "3794c2fe577008a",
   "execution_count": 44
  },
  {
   "cell_type": "code",
   "outputs": [
    {
     "name": "stdout",
     "output_type": "stream",
     "text": [
      "                                delegator_address\n",
      "0  migaloo1vss9v2rq0ggnnyn4ypu3dpu8djuuhveu5zg8ue                                validator_src_address\n",
      "0  migaloovaloper15y3t55ejgen5cfms49snu9jvkve45fm...                                validator_dst_address\n",
      "0  migaloovaloper1xwazl8ftks4gn00y5x3c47auquc62ss...\n"
     ]
    }
   ],
   "source": [],
   "metadata": {
    "collapsed": false,
    "ExecuteTime": {
     "end_time": "2024-03-27T20:42:14.646953500Z",
     "start_time": "2024-03-27T20:42:14.634869100Z"
    }
   },
   "id": "6ac7a9764273c853",
   "execution_count": 45
  },
  {
   "cell_type": "code",
   "outputs": [
    {
     "name": "stdout",
     "output_type": "stream",
     "text": [
      "Most recent transaction_id: 1b378e2f-b4a5-4765-a56b-e2fd3aa279ce\n",
      "Data inserted successfully.\n"
     ]
    }
   ],
   "source": [
    "\n"
   ],
   "metadata": {
    "collapsed": false,
    "ExecuteTime": {
     "end_time": "2024-03-27T20:42:19.635128200Z",
     "start_time": "2024-03-27T20:42:19.443990500Z"
    }
   },
   "id": "9103e1eccb4c4506",
   "execution_count": 47
  },
  {
   "cell_type": "code",
   "outputs": [],
   "source": [],
   "metadata": {
    "collapsed": false,
    "ExecuteTime": {
     "end_time": "2024-03-27T20:42:14.747886500Z",
     "start_time": "2024-03-27T20:42:14.742946600Z"
    }
   },
   "id": "4cff8c9eca01e1f0",
   "execution_count": 46
  }
 ],
 "metadata": {
  "kernelspec": {
   "display_name": "Python 3",
   "language": "python",
   "name": "python3"
  },
  "language_info": {
   "codemirror_mode": {
    "name": "ipython",
    "version": 2
   },
   "file_extension": ".py",
   "mimetype": "text/x-python",
   "name": "python",
   "nbconvert_exporter": "python",
   "pygments_lexer": "ipython2",
   "version": "2.7.6"
  }
 },
 "nbformat": 4,
 "nbformat_minor": 5
}
