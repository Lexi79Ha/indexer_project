{
 "cells": [
  {
   "cell_type": "markdown",
   "source": [],
   "metadata": {
    "collapsed": false
   },
   "id": "a6abf5e2da1b3214"
  },
  {
   "cell_type": "code",
   "outputs": [
    {
     "name": "stdout",
     "output_type": "stream",
     "text": [
      "1000000.json is a text file.\n",
      "1000000.json is a JSON file.\n",
      "1000000.json contains valid JSON syntax.\n",
      "Height matches filename: 1000000\n",
      "Height is positive: 1000000\n"
     ]
    }
   ],
   "source": [
    "#This is a test to validate if the http address is valid and accessible\n",
    "#Validates that file is a txt file\n",
    "#Validates that the json file is accessible\n",
    "#Validates that the height of block matches filename\n",
    "#Validates that height is a positive number\n",
    "import requests\n",
    "import json\n",
    "import ijson\n",
    "# Make the API request\n",
    "response = requests.get(\"http://116.202.143.93:1317/cosmos/base/tendermint/v1beta1/blocks/1000000\") # name block number\n",
    "\n",
    "# Extract the height from the response (assuming it's available)\n",
    "height = response.json().get(\"block\", {}).get(\"header\", {}).get(\"height\")\n",
    "\n",
    "# Specify the folder path\n",
    "folder = \"C:/Users/lmhmo/indexer/blocks\"\n",
    "\n",
    "# Construct the filename based on the height\n",
    "fetch_filename = f\"{folder}/{height}.json\"\n",
    "\n",
    "# Save the response content to the dynamically named file\n",
    "with open(fetch_filename, \"wb\") as f:\n",
    "    f.write(response.content)  \n",
    "\n",
    "import os\n",
    "import json\n",
    "import ijson\n",
    "\n",
    "def validate_text_file(filename):\n",
    "    return os.path.isfile(filename) and filename.lower().endswith(\".json\")\n",
    "\n",
    "def validate_file_is_json_file(filename):\n",
    "    try:\n",
    "        with open(filename, \"r\") as f:\n",
    "            json_data = json.load(f)\n",
    "            # If we reach here, the file contains valid JSON data\n",
    "            return True\n",
    "    except (ValueError, FileNotFoundError):\n",
    "        return False\n",
    "\n",
    "def validate_large_json(filename):\n",
    "    try:\n",
    "        with open(filename, \"r\") as f:\n",
    "            # Use ijson to parse the JSON stream\n",
    "            parser = ijson.parse(f)\n",
    "            for prefix, event, value in parser:\n",
    "                # Process the parsed data (optional)\n",
    "                pass\n",
    "        return True\n",
    "    except (ValueError, FileNotFoundError):\n",
    "        return False\n",
    "\n",
    "def validate_height_matches_filename(filename, height):\n",
    "    base_name = os.path.basename(filename)\n",
    "    expected_filename = f\"{height}.json\"  # Construct expected filename\n",
    "    return base_name == expected_filename\n",
    "\n",
    "def validate_positive_height(height):\n",
    "    try:\n",
    "        height_int = int(height)\n",
    "        return height_int > 0\n",
    "    except ValueError:\n",
    "        return False\n",
    "\n",
    "if __name__ == \"__main__\":\n",
    "    blocks_directory = \"C:/Users/lmhmo/indexer/blocks\"\n",
    "    num_tests_passed = 0  # Initialize counter for passed tests\n",
    "   \n",
    "    if validate_text_file(filename):\n",
    "        print(f\"{filename} is a text file.\")\n",
    "        if validate_file_is_json_file(filename):\n",
    "            print(f\"{filename} is a JSON file.\")\n",
    "            if validate_large_json(filename):\n",
    "                print(f\"{filename} contains valid JSON syntax.\")\n",
    "                if validate_height_matches_filename(filename, height):\n",
    "                    print(f\"Height matches filename: {height}\")\n",
    "                else:\n",
    "                    print(f\"Height does not match filename: {height}\")\n",
    "                if validate_positive_height(height):\n",
    "                    print(f\"Height is positive: {height}\")\n",
    "                else:\n",
    "                    print(f\"Height is not positive: {height}\")\n",
    "            else:\n",
    "                print(f\"{filename} does not have valid JSON syntax.\")\n",
    "        else:\n",
    "            print(f\"{filename} is not a valid JSON file.\")\n",
    "    else:\n",
    "        print(f\"{filename} is not a valid text file.\")\n"
   ],
   "metadata": {
    "collapsed": false,
    "ExecuteTime": {
     "end_time": "2024-02-22T23:52:47.323848100Z",
     "start_time": "2024-02-22T23:52:46.665478100Z"
    }
   },
   "id": "b59c32f80620858c",
   "execution_count": 54
  },
  {
   "cell_type": "code",
   "outputs": [],
   "source": [],
   "metadata": {
    "collapsed": false
   },
   "id": "f89f7644c107d452"
  }
 ],
 "metadata": {
  "kernelspec": {
   "display_name": "Python 3",
   "language": "python",
   "name": "python3"
  },
  "language_info": {
   "codemirror_mode": {
    "name": "ipython",
    "version": 2
   },
   "file_extension": ".py",
   "mimetype": "text/x-python",
   "name": "python",
   "nbconvert_exporter": "python",
   "pygments_lexer": "ipython2",
   "version": "2.7.6"
  }
 },
 "nbformat": 4,
 "nbformat_minor": 5
}
