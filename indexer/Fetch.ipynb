{
 "cells": [
  {
   "cell_type": "markdown",
   "source": [],
   "metadata": {
    "collapsed": false
   },
   "id": "a6abf5e2da1b3214"
  },
  {
   "cell_type": "code",
   "outputs": [],
   "source": [
    "#This code will pull the block from the http address\n",
    "import requests\n",
    "import json\n",
    "import ijson\n",
    "# Make the API request\n",
    "response = requests.get(\"http://116.202.143.93:1317/cosmos/base/tendermint/v1beta1/blocks/1000000\") # name block number\n",
    "\n",
    "# Extract the height from the response (assuming it's available)\n",
    "height = response.json().get(\"block\", {}).get(\"header\", {}).get(\"height\")\n",
    "\n",
    "# Specify the folder path\n",
    "folder = \"C:/Users/lmhmo/indexer/blocks\"\n",
    "\n",
    "# Construct the filename based on the height\n",
    "fetch_filename = f\"{folder}/{height}.json\"\n",
    "\n",
    "# Save the response content to the dynamically named file\n",
    "with open(fetch_filename, \"wb\") as f:\n",
    "    f.write(response.content)"
   ],
   "metadata": {
    "collapsed": false,
    "ExecuteTime": {
     "end_time": "2024-02-22T23:55:06.109451700Z",
     "start_time": "2024-02-22T23:55:05.452708400Z"
    }
   },
   "id": "4ad63fbe51eaedd4",
   "execution_count": 10
  }
 ],
 "metadata": {
  "kernelspec": {
   "display_name": "Python 3",
   "language": "python",
   "name": "python3"
  },
  "language_info": {
   "codemirror_mode": {
    "name": "ipython",
    "version": 2
   },
   "file_extension": ".py",
   "mimetype": "text/x-python",
   "name": "python",
   "nbconvert_exporter": "python",
   "pygments_lexer": "ipython2",
   "version": "2.7.6"
  }
 },
 "nbformat": 4,
 "nbformat_minor": 5
}
