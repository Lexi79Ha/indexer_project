{
 "cells": [
  {
   "cell_type": "markdown",
   "source": [],
   "metadata": {
    "collapsed": false
   },
   "id": "a6abf5e2da1b3214"
  },
  {
   "cell_type": "code",
   "outputs": [
    {
     "name": "stdout",
     "output_type": "stream",
     "text": [
      "1000000.json is a text file.\n",
      "1000000.json is a JSON file.\n",
      "1000000.json contains valid JSON syntax.\n",
      "Height matches filename: 1000000\n",
      "Height is positive: 1000000\n"
     ]
    }
   ],
   "source": [
    "#This is a script for validating the results of the http response script and assure the file is valid\n",
    "\n",
    "#This is the script that where testing \n",
    "import os\n",
    "import requests\n",
    "import json\n",
    "import ijson\n",
    "# Make the API request\n",
    "response = requests.get(\"http://116.202.143.93:1317/cosmos/base/tendermint/v1beta1/blocks/1000000\") # name block number\n",
    "\n",
    "# Extract the height from the response (assuming it's available)\n",
    "height = response.json().get(\"block\", {}).get(\"header\", {}).get(\"height\")\n",
    "# Specify the folder path\n",
    "folder = \"C:/Users/lmhmo/indexer/blocks\"\n",
    "# Construct the filename based on the height\n",
    "fetch_filename = f\"{folder}/{height}.json\"\n",
    "# Save the response content to the dynamically named file\n",
    "with open(fetch_filename, \"wb\") as f:\n",
    "    f.write(response.content)  \n",
    "\n",
    "\n",
    "#Validates that file is a txt file\n",
    "def validate_text_file(filename):\n",
    "    return os.path.isfile(filename) and filename.lower().endswith(\".json\")\n",
    "#Validates file is a json file\n",
    "def validate_file_is_json_file(filename):\n",
    "    try:\n",
    "        with open(filename, \"r\") as f:\n",
    "            json_data = json.load(f)\n",
    "            # If we reach here, the file contains valid JSON data\n",
    "            return True\n",
    "    except (ValueError, FileNotFoundError):\n",
    "        return False\n",
    "#Validates json files schema\n",
    "def validate_large_json(filename):\n",
    "    try:\n",
    "        with open(filename, \"r\") as f:\n",
    "            # Use ijson to parse the JSON stream\n",
    "            parser = ijson.parse(f)\n",
    "            for prefix, event, value in parser:\n",
    "                # Process the parsed data (optional)\n",
    "                pass\n",
    "        return True\n",
    "    except (ValueError, FileNotFoundError):\n",
    "        return False\n",
    "# Validates that the height matches the filename\n",
    "def validate_height_matches_filename(filename, height):\n",
    "    base_name = os.path.basename(filename)\n",
    "    expected_filename = f\"{height}.json\"  # Construct expected filename\n",
    "    return base_name == expected_filename\n",
    "#Validates height is a positive number\n",
    "def validate_positive_height(height):\n",
    "    try:\n",
    "        height_int = int(height)\n",
    "        return height_int > 0\n",
    "    except ValueError:\n",
    "        return False\n",
    "    \n",
    "#Conditions for each tests output   \n",
    "if __name__ == \"__main__\":\n",
    "    blocks_directory = \"C:/Users/lmhmo/indexer/blocks\"\n",
    "   \n",
    "    if validate_text_file(filename):\n",
    "        print(f\"{filename} is a text file.\")\n",
    "        if validate_file_is_json_file(filename):\n",
    "            print(f\"{filename} is a JSON file.\")\n",
    "            if validate_large_json(filename):\n",
    "                print(f\"{filename} contains valid JSON syntax.\")\n",
    "                if validate_height_matches_filename(filename, height):\n",
    "                    print(f\"Height matches filename: {height}\")\n",
    "                else:\n",
    "                    print(f\"Height does not match filename: {height}\")\n",
    "                if validate_positive_height(height):\n",
    "                    print(f\"Height is positive: {height}\")\n",
    "                else:\n",
    "                    print(f\"Height is not positive: {height}\")\n",
    "            else:\n",
    "                print(f\"{filename} does not have valid JSON syntax.\")\n",
    "        else:\n",
    "            print(f\"{filename} is not a valid JSON file.\")\n",
    "    else:\n",
    "        print(f\"{filename} is not a valid text file.\")\n"
   ],
   "metadata": {
    "collapsed": false,
    "ExecuteTime": {
     "end_time": "2024-02-23T00:03:07.371804200Z",
     "start_time": "2024-02-23T00:03:06.730650800Z"
    }
   },
   "id": "b59c32f80620858c",
   "execution_count": 38
  },
  {
   "cell_type": "code",
   "outputs": [],
   "source": [],
   "metadata": {
    "collapsed": false,
    "ExecuteTime": {
     "end_time": "2024-02-23T00:00:39.294654Z",
     "start_time": "2024-02-23T00:00:39.286924600Z"
    }
   },
   "id": "f89f7644c107d452",
   "execution_count": 33
  }
 ],
 "metadata": {
  "kernelspec": {
   "display_name": "Python 3",
   "language": "python",
   "name": "python3"
  },
  "language_info": {
   "codemirror_mode": {
    "name": "ipython",
    "version": 2
   },
   "file_extension": ".py",
   "mimetype": "text/x-python",
   "name": "python",
   "nbconvert_exporter": "python",
   "pygments_lexer": "ipython2",
   "version": "2.7.6"
  }
 },
 "nbformat": 4,
 "nbformat_minor": 5
}
