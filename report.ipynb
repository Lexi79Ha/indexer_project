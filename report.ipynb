{
 "cells": [
  {
   "cell_type": "code",
   "outputs": [
    {
     "name": "stdout",
     "output_type": "stream",
     "text": [
      "Data inserted successfully!\n"
     ]
    }
   ],
   "source": [
    "import psycopg2\n",
    "import json\n",
    "\n",
    "# Your JSON data\n",
    "json_data = '''\n",
    "{\n",
    "    \"WeeklyTasks\": {\n",
    "        \"Monday\": {\n",
    "            \"Indexer Project\": {\n",
    "                \"Task 1\": \"Reviewed and downloaded different transaction types to start planning the next steps of the project.\",\n",
    "                \"Task 2\": \"Attempted to reformat some of the Json files to prepare for Postgres.\"\n",
    "            }\n",
    "        },\n",
    "        \"Tuesday\": {\n",
    "            \"Online Bookstore\": {\n",
    "                \"Task 1\": \"Created data files for the bookstore and built schema based on the ERD diagram.\"\n",
    "            }\n",
    "        },\n",
    "        \"Wednesday\": {\n",
    "            \"Indexer Project\": {\n",
    "                \"Task 1\": \"Started to pull transaction data by individual objects and send those to an ibc_transactions Postgres table.\"\n",
    "            },\n",
    "            \"Online Bookstore\": {\n",
    "                \"Task 1\": \"Added some sample customer orders to order tables and made a query script to pull book information based on ISBN numbers.\"\n",
    "            }\n",
    "        },\n",
    "        \"Thursday\": {\n",
    "            \"Indexer Project\": {\n",
    "                \"Task 1\": \"Created a Python script to send decrypted transaction data to a new Json file and a new directory.\",\n",
    "                \"Task 2\": \"Cleaned up the Json file data with pandas and converted it to a tabular format for Postgres.\"\n",
    "            },\n",
    "            \"Documentation\": {\n",
    "                \"Task 1\": \"Created documentation for the project.\"\n",
    "            }\n",
    "        }\n",
    "    }\n",
    "}\n",
    "'''\n",
    "\n",
    "# Parse the JSON data\n",
    "data = json.loads(json_data)\n",
    "\n",
    "# Connect to your PostgreSQL database\n",
    "conn = psycopg2.connect(\n",
    "    host=\"localhost\",\n",
    "    database=\"Week\",\n",
    "    user=\"postgres\",\n",
    "    password=\"auth2020\"\n",
    ")\n",
    "\n",
    "# Create a cursor\n",
    "cur = conn.cursor()\n",
    "\n",
    "# Create a table with columns for Monday, Tuesday, Wednesday, Thursday, and Friday\n",
    "cur.execute(\"\"\"\n",
    "    CREATE TABLE IF NOT EXISTS weekly_tasks (\n",
    "        id SERIAL PRIMARY KEY,\n",
    "        monday JSONB,\n",
    "        tuesday JSONB,\n",
    "        wednesday JSONB,\n",
    "        thursday JSONB,\n",
    "    );  \n",
    "\"\"\")\n",
    "\n",
    "# Insert data into the table\n",
    "cur.execute(\"\"\"\n",
    "    INSERT INTO weekly_tasks (monday, tuesday, wednesday, thursday)\n",
    "    VALUES (%s, %s, %s, %s);\n",
    "\"\"\", (\n",
    "    json.dumps(data[\"WeeklyTasks\"][\"Monday\"]),\n",
    "    json.dumps(data[\"WeeklyTasks\"][\"Tuesday\"]),\n",
    "    json.dumps(data[\"WeeklyTasks\"][\"Wednesday\"]),\n",
    "    json.dumps(data[\"WeeklyTasks\"][\"Thursday\"])\n",
    "))\n",
    "\n",
    "# Commit the transaction\n",
    "conn.commit()\n",
    "\n",
    "# Close the cursor and connection\n",
    "cur.close()\n",
    "conn.close()\n",
    "\n",
    "print(\"Data inserted successfully!\")\n",
    "\n"
   ],
   "metadata": {
    "collapsed": false,
    "ExecuteTime": {
     "end_time": "2024-03-11T16:08:44.299810300Z",
     "start_time": "2024-03-11T16:08:44.248604500Z"
    }
   },
   "id": "47e42ed4fa0c1010",
   "execution_count": 27
  },
  {
   "cell_type": "code",
   "outputs": [],
   "source": [],
   "metadata": {
    "collapsed": false
   },
   "id": "b7d48f376b1ce798"
  }
 ],
 "metadata": {
  "kernelspec": {
   "display_name": "Python 3",
   "language": "python",
   "name": "python3"
  },
  "language_info": {
   "codemirror_mode": {
    "name": "ipython",
    "version": 2
   },
   "file_extension": ".py",
   "mimetype": "text/x-python",
   "name": "python",
   "nbconvert_exporter": "python",
   "pygments_lexer": "ipython2",
   "version": "2.7.6"
  }
 },
 "nbformat": 4,
 "nbformat_minor": 5
}
