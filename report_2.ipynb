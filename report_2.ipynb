{
 "cells": [
  {
   "cell_type": "code",
   "outputs": [
    {
     "name": "stdout",
     "output_type": "stream",
     "text": [
      "JSON data from the file inserted successfully into PostgreSQL.\n"
     ]
    }
   ],
   "source": [],
   "metadata": {
    "collapsed": false,
    "ExecuteTime": {
     "end_time": "2024-03-12T19:33:40.197733800Z",
     "start_time": "2024-03-12T19:33:40.130499500Z"
    }
   },
   "id": "58c9c6b5ee54125",
   "execution_count": 7
  },
  {
   "cell_type": "code",
   "outputs": [
    {
     "name": "stdout",
     "output_type": "stream",
     "text": [
      "{'settings.fontstyle': 'Times New Roman', 'settings.head.title.fontSize$int': '27', 'settings.head.title.align': 'center', 'settings.head.subtitle.fontSize $int': '17', 'settings.head.subtitle.align': 'center', 'settings.book.italic': 'true', 'Contact Info.name': 'Alexis Harris', 'Contact Info.phone': '(816) - 244 - 0920', 'Contact Info.email': 'lmh.mo.6@gmail.com', 'Contact Info.telegram': 'A_harris79', 'Contact Info.github': 'Lexi79Ha', 'head.title': 'Weekly Report 9', 'head.subtitle': 'Week 9:  3/04- 3/08', 'body.Project List': '1.The Traveling Politician Problem ', 'body.a': 'The problem is to find the most efficient route for a politician to travel to every state capital once, starting in Iowa, and ending in Washington, DC', 'body.2': 'Indexer Project', 'body.Project Objective': ' To create a system that can extract JSON files, translate the encrypted transactions, and upload that information into a database that will act as a distributed ledger. ', 'body.What_Is_a_Blockchain.Description': 'A blockchain is a distributed database or ledger shared among a network of computers (nodes).', 'body.What_Is_a_Blockchain.Famous_Role': 'While itâ€™s most famous for its role in cryptocurrency systems, itâ€™s not limited to just that.', 'body.What_Is_a_Blockchain.Immutable_Data': 'Blockchains can be used to make data in any industry immutable, meaning it cannot be altered.', 'body.What_Is_a_Blockchain.Decentralization': 'Unlike traditional databases, where trust often relies on third parties, blockchains operate without a central authority.', 'body.What_Is_a_Blockchain.Collective_Control': 'Decentralized blockchains are particularly interesting because no single person or group controls themâ€”instead, all users collectively retain control.', 'body.How_Does_a_Blockchain_Work.Description': 'Imagine a spreadsheet or database where information is entered and stored.', 'body.How_Does_a_Blockchain_Work.Data_Structure': 'In a blockchain, data is structured differently and accessed via a series of blocks linked together using cryptography.', 'body.How_Does_a_Blockchain_Work.Process.Transaction_Information': 'The blockchain collects transaction data and enters it into a block.', 'body.How_Does_a_Blockchain_Work.Process.Block_Creation': 'A block is created after a predetermined amount of time.', 'body.How_Does_a_Blockchain_Work.Process.Chained_Blocks': 'This hash becomes part of the next block, creating a chain of blocks.', 'body.How_Does_a_Blockchain_Work.Process.Immutability': 'Once data is recorded, itâ€™s irreversible. For example, in Bitcoin, transactions are permanently viewable by anyone.', 'body.How_Does_a_Blockchain_Work.Blockchain-related links.a': 'https://fio.bloks.io/', 'body.How_Does_a_Blockchain_Work.Blockchain-related links.b': 'https://github.com/White-Whale-Defi-Platform/migaloo-chain.git', 'body.How_Does_a_Blockchain_Work.3': 'Medicaid Expenditure Forecasting Project', 'body.How_Does_a_Blockchain_Work.a': 'The goal of this project is to create a system that allows users to search for and locate Medicaid providers. The user interface will be designed with Django, the system will be built using Python, and the database will be stored in PostgreSQL.', 'body.How_Does_a_Blockchain_Work.4': 'Provider Lookup Project', 'body.How_Does_a_Blockchain_Work.5.': 'Online Bookstore Project', 'body.How_Does_a_Blockchain_Work.a.': 'The goal of this project is to create an online bookstore that allows users to search for books, order books, and receive an email that will provide a file that will act like an e-book. This online store will be built using python, the user-interface will be created using Django, and the database will be stored in PostgreSQL.', 'body.How_Does_a_Blockchain_Work.WeeklyTasks.Monday.Indexer Project.Task 1': 'Reviewed and downloaded different transaction types to start planning the next steps of the project.', 'body.How_Does_a_Blockchain_Work.WeeklyTasks.Monday.Indexer Project.Task 2': 'Attempted to reformat some of the Json files to prepare for Postgres.', 'body.How_Does_a_Blockchain_Work.WeeklyTasks.Tuesday.Online Bookstore.Task 1': 'Created data files for the bookstore and built schema based on the ERD diagram.', 'body.How_Does_a_Blockchain_Work.WeeklyTasks.Wednesday.Indexer Project.Task 1': 'Started to pull transaction data by individual objects and send those to an ibc_transactions Postgres table.', 'body.How_Does_a_Blockchain_Work.WeeklyTasks.Wednesday.Online Bookstore.Task 1': 'Added some sample customer orders to order tables and made a query script to pull book information based on ISBN numbers.', 'body.How_Does_a_Blockchain_Work.WeeklyTasks.Thursday.Indexer Project.Task 1': 'Created a Python script to send decrypted transaction data to a new Json file and a new directory.', 'body.How_Does_a_Blockchain_Work.WeeklyTasks.Thursday.Indexer Project.Task 2': 'Cleaned up the Json file data with pandas and converted it to a tabular format for Postgres.', 'body.How_Does_a_Blockchain_Work.WeeklyTasks.Thursday.Documentation.Task 1': 'Created documentation for the project.', 'body.PlanForNextWeek': 'Next week I plan to continue to work on the indexer project and modify my current Python script to be compatible with more transaction types. I also would like to expand the types of queries users will be able to use for the Online bookstore to titles and authors.', 'HoursWorked': '21', 'Github Link': 'https://github.com/Lexi79Ha/indexer.git', 'Work Time Distribution in Hours.Meetings': '5', 'Work Time Distribution in Hours.Indexer Project': '10', 'Work Time Distribution in Hours.Documentation': '1', 'Work Time Distribution in Hours.Online Bookstore': '5', 'Intern Checklist.1': 'Receive the internship offer letter', 'Intern Checklist.2': 'Accept the terms of the offer letter', 'Intern Checklist.2.1': 'Create a telegram account and be added into group chat', 'Intern Checklist.2.2': 'Create a Github account', 'Intern Checklist.2.2.1.': 'Create a Repository for each of your Projects', 'Intern Checklist.2.3.': 'Obtain Instadeq login information', 'Intern Checklist.2.3.1.': 'Watch Instadeq tutorials', 'Intern Checklist.2.3.2.': 'Practice Instadeq', 'Intern Checklist.2.4.': 'Obtain Ubuntu login information', 'Intern Checklist.2.4.1.': 'Watch bash tutorials', 'Intern Checklist.2.4.2.': 'Practice bash', 'Intern Checklist.2.4.3.': 'Be able to run â€˜zip.pyâ€™ by yourself', 'Intern Checklist.3.': 'Attend the daily standup calls', 'Intern Checklist.4.': 'Take notes and produce weekly report', 'Intern Checklist.4.1.': 'PDF ', 'Intern Checklist.4.2.': 'JSON', 'Intern Checklist.5.': 'Learn about Medicaid domain', 'Intern Checklist.5.1.': 'What is Medicaid', 'Intern Checklist.5.2.': 'Reading the blog from EMRTS.us', 'Intern Checklist.5.3.': 'Understand the sources', 'Intern Checklist.6.': 'Learn about time series analysis', 'Intern Checklist.6.1.': 'Online tutorial', 'Intern Checklist.6.2.': 'What is Prophet', 'Intern Checklist.6.3.': 'Packages/programming languages to use.', 'Intern Checklist.6.4.': 'Practice Prophet', 'Intern Checklist.7.': 'Develop your Development Practices and Strategy', 'Intern Checklist.7.1': 'Learn how to practice test-driven development.', 'Intern Checklist.7.1.1': 'Read EMRTS Software Testing Approach', 'Intern Checklist.7.1.2': 'Learn how to create Test-units.', 'Intern Checklist.7.2': 'Study Software Development Strategy', 'Intern Checklist.7.2.1': 'Read Mythical Man Months', 'Intern Checklist.7.2.2': 'Read The Cathedral and the Bizarre', 'Intern Checklist.8.': 'Work on the Assigned Projects', 'Intern Checklist.8.1.': 'Projects list', 'Intern Checklist.8.1.1.': 'Traveling Politician', 'Intern Checklist.8.1.2.': 'Indexer Project', 'Intern Checklist.8.1.3.': 'Medicaid Enrollment and Expense Forecasting', 'Intern Checklist.8.1.4.': 'Provider look-up', 'Intern Checklist.8.1.5.': 'Online Bookstore', 'Intern Checklist.8.2.': 'Understand the purpose of each Project.', 'Intern Checklist.8.2.1.': 'Create a PowerPoint Project to describe each project and convey learning objectives.', 'Intern Checklist.8.3.': 'Teamwork', 'Intern Checklist.8.3.1.': 'Discuss and share the opinion and thoughts over Project.', 'Intern Checklist.8.3.2.': 'Distribute the part of working.', 'foot.filename': 'Alexis_Harris_Weekly_Report_9', 'foot.date': '3/04 â€“ 3/08'}\n"
     ]
    }
   ],
   "source": [
    "import json\n",
    "from json_flatten import flatten\n",
    "\n",
    "\n",
    "# Read JSON data from a file (replace 'data.json' with your actual file path)\n",
    "with open('C:/Users/lmhmo/Indexer_Project/indexer_project/Weekly_Report.json', 'r') as json_file:\n",
    "    nested_json = json.load(json_file)\n",
    "\n",
    "# Flatten the nested JSON\n",
    "flattened_data = flatten(nested_json)\n",
    "print(flattened_data)\n"
   ],
   "metadata": {
    "collapsed": false,
    "ExecuteTime": {
     "end_time": "2024-03-12T20:21:08.290743200Z",
     "start_time": "2024-03-12T20:21:08.276365600Z"
    }
   },
   "id": "47e42ed4fa0c1010",
   "execution_count": 25
  },
  {
   "cell_type": "code",
   "outputs": [
    {
     "name": "stdout",
     "output_type": "stream",
     "text": [
      "JSON data from the file inserted successfully into PostgreSQL.\n"
     ]
    }
   ],
   "source": [
    "import psycopg2\n",
    "json_data = json.dumps(flattened_data)\n",
    "\n",
    "# Connect to PostgreSQL\n",
    "conn = psycopg2.connect(\n",
    "    host=\"localhost\",\n",
    "    database=\"Week\",\n",
    "    user=\"postgres\",\n",
    "    password=\"auth2020\"\n",
    ")\n",
    "\n",
    "# Create a cursor\n",
    "cursor = conn.cursor()\n",
    "\n",
    "# Define the insert query\n",
    "insert_query = \"INSERT INTO weekly (json_column) VALUES (%s)\"\n",
    "\n",
    "# Execute the query\n",
    "cursor.execute(insert_query, (json_data,))\n",
    "\n",
    "# Commit the changes\n",
    "conn.commit()\n",
    "\n",
    "# Close the cursor and connection\n",
    "cursor.close()\n",
    "conn.close()\n",
    "\n",
    "print(\"JSON data from the file inserted successfully into PostgreSQL.\")\n"
   ],
   "metadata": {
    "collapsed": false,
    "ExecuteTime": {
     "end_time": "2024-03-12T20:22:44.655303100Z",
     "start_time": "2024-03-12T20:22:44.608960500Z"
    }
   },
   "id": "21689dd9d6b2fb1",
   "execution_count": 30
  },
  {
   "cell_type": "code",
   "outputs": [],
   "source": [],
   "metadata": {
    "collapsed": false
   },
   "id": "50261241842df81"
  }
 ],
 "metadata": {
  "kernelspec": {
   "display_name": "Python 3",
   "language": "python",
   "name": "python3"
  },
  "language_info": {
   "codemirror_mode": {
    "name": "ipython",
    "version": 2
   },
   "file_extension": ".py",
   "mimetype": "text/x-python",
   "name": "python",
   "nbconvert_exporter": "python",
   "pygments_lexer": "ipython2",
   "version": "2.7.6"
  }
 },
 "nbformat": 4,
 "nbformat_minor": 5
}
