{
 "cells": [
  {
   "cell_type": "code",
   "outputs": [
    {
     "name": "stdout",
     "output_type": "stream",
     "text": [
      "JSON data from the file inserted successfully into PostgreSQL.\n"
     ]
    }
   ],
   "source": [],
   "metadata": {
    "collapsed": false,
    "ExecuteTime": {
     "end_time": "2024-03-12T19:33:40.197733800Z",
     "start_time": "2024-03-12T19:33:40.130499500Z"
    }
   },
   "id": "58c9c6b5ee54125",
   "execution_count": 7
  },
  {
   "cell_type": "code",
   "outputs": [
    {
     "name": "stdout",
     "output_type": "stream",
     "text": [
      "{'tx.body.messages.[0].@type': '/ibc.applications.transfer.v1.MsgTransfer', 'tx.body.messages.[0].source_port': 'transfer', 'tx.body.messages.[0].source_channel': 'channel-5', 'tx.body.messages.[0].token.denom': 'uwhale', 'tx.body.messages.[0].token.amount': '1852877000', 'tx.body.messages.[0].sender': 'migaloo17elxaps3vgzq4nrturr55c0z3rsn32nyzg8zg4', 'tx.body.messages.[0].receiver': 'osmo17elxaps3vgzq4nrturr55c0z3rsn32ny88agtf', 'tx.body.messages.[0].timeout_height.revision_number': '0', 'tx.body.messages.[0].timeout_height.revision_height': '0', 'tx.body.messages.[0].timeout_timestamp': '1710188661779000000', 'tx.body.messages.[0].memo': '', 'tx.body.memo': '80-migalooBot-2024-03-11', 'tx.body.timeout_height': '0', 'tx.body.extension_options$emptylist': '[]', 'tx.body.non_critical_extension_options$emptylist': '[]', 'tx.auth_info.signer_infos.[0].public_key.@type': '/cosmos.crypto.secp256k1.PubKey', 'tx.auth_info.signer_infos.[0].public_key.key': 'A7JU+NEqpAsGErxxsDWu1IDtVFew2RNY5aIqvJQFZ0Kt', 'tx.auth_info.signer_infos.[0].mode_info.single.mode': 'SIGN_MODE_DIRECT', 'tx.auth_info.signer_infos.[0].sequence': '4522', 'tx.auth_info.fee.amount.[0].denom': 'uwhale', 'tx.auth_info.fee.amount.[0].amount': '150000', 'tx.auth_info.fee.gas_limit': '150000', 'tx.auth_info.fee.payer': '', 'tx.auth_info.fee.granter': '', 'tx.auth_info.tip$none': 'None', 'tx.signatures.[0]': 'DthFHlVbz5af6ZFRmamVOjLlqh/0s3NjQYDrRJ8HPMcOmFb8TBOGtf5zdmNx7tSZiO12DXMF69GNRVg2XoDYiA=='}\n"
     ]
    }
   ],
   "source": [
    "import json\n",
    "from json_flatten import flatten\n",
    "\n",
    "\n",
    "# Read JSON data from a file (replace 'data.json' with your actual file path)\n",
    "with open('C:/Users/lmhmo/Indexer_Project/indexer_project/Decrypted_files/5905903.json', 'r') as json_file:\n",
    "    nested_json = json.load(json_file)\n",
    "\n",
    "# Flatten the nested JSON\n",
    "flattened_data = flatten(nested_json)\n",
    "print(flattened_data)\n"
   ],
   "metadata": {
    "collapsed": false,
    "ExecuteTime": {
     "end_time": "2024-03-12T20:53:20.740749900Z",
     "start_time": "2024-03-12T20:53:20.709950800Z"
    }
   },
   "id": "47e42ed4fa0c1010",
   "execution_count": 33
  },
  {
   "cell_type": "code",
   "outputs": [
    {
     "name": "stdout",
     "output_type": "stream",
     "text": [
      "JSON data from the file inserted successfully into PostgreSQL.\n"
     ]
    }
   ],
   "source": [
    "import psycopg2\n",
    "data = json.dumps(flattened_data)\n",
    "\n",
    "# Connect to PostgreSQL\n",
    "conn = psycopg2.connect(\n",
    "    host=\"localhost\",\n",
    "    database=\"blockchain\",\n",
    "    user=\"postgres\",\n",
    "    password=\"auth2020\"\n",
    ")\n",
    "\n",
    "# Create a cursor\n",
    "cursor = conn.cursor()\n",
    "\n",
    "# Define the insert query\n",
    "insert_query = \"INSERT INTO json_data (json_column) VALUES (%s)\"\n",
    "\n",
    "# Execute the query\n",
    "cursor.execute(insert_query, (data,))\n",
    "\n",
    "# Commit the changes\n",
    "conn.commit()\n",
    "\n",
    "# Close the cursor and connection\n",
    "cursor.close()\n",
    "conn.close()\n",
    "\n",
    "print(\"JSON data from the file inserted successfully into PostgreSQL.\")\n"
   ],
   "metadata": {
    "collapsed": false,
    "ExecuteTime": {
     "end_time": "2024-03-12T20:53:41.803599500Z",
     "start_time": "2024-03-12T20:53:41.758239500Z"
    }
   },
   "id": "21689dd9d6b2fb1",
   "execution_count": 35
  },
  {
   "cell_type": "code",
   "outputs": [],
   "source": [
    "message = json_data[\"tx\"][\"body\"][\"messages\"][0]\n",
    "table_name = message[\"@type\"].split(\".\")[-1][-10:]\n",
    "table_name = table_name.lower() \n",
    "\n",
    "check_table_query = f\"\"\"\n",
    "    SELECT EXISTS (\n",
    "        SELECT 1\n",
    "        FROM pg_tables\n",
    "        WHERE schemaname = 'public' AND tablename = '{table_name}'\n",
    "    );\n",
    "\"\"\"\n",
    "\n",
    "cur.execute(check_table_query)\n",
    "table_exists = cur.fetchone()[0]  # Fetch the result of the query\n",
    "\n",
    "if table_exists:\n",
    "    print(f\"Table '{table_name}' already exists. Data will be appended to the existing table.\")\n",
    "else:\n",
    "    print(f\"Table '{table_name}' does not exist. Creating a new table...\")\n",
    "\n",
    "# %%\n",
    "\n",
    "if not table_exists:\n",
    "    # Create the table with dynamic column names (matching cleaned attributes)\n",
    "    CREATE TABLE table_name (\n",
    "    ID SERIAL PRIMARY KEY,\n",
    "    json_column JSONB\n",
    ")\n",
    "\n",
    "\n",
    "SELECT\n",
    "    id,  -- Assuming 'id' is the primary key of your table\n",
    "    data_column->>'type' AS name,\n",
    "    (data_column->>'age')::integer AS age,\n",
    "    data_column->'address'->>'city' AS city,\n",
    "    data_column->'address'->>'zip' AS zip\n",
    "FROM\n",
    "    table_name;"
   ],
   "metadata": {
    "collapsed": false
   },
   "id": "50261241842df81"
  }
 ],
 "metadata": {
  "kernelspec": {
   "display_name": "Python 3",
   "language": "python",
   "name": "python3"
  },
  "language_info": {
   "codemirror_mode": {
    "name": "ipython",
    "version": 2
   },
   "file_extension": ".py",
   "mimetype": "text/x-python",
   "name": "python",
   "nbconvert_exporter": "python",
   "pygments_lexer": "ipython2",
   "version": "2.7.6"
  }
 },
 "nbformat": 4,
 "nbformat_minor": 5
}
