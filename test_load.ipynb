{
 "cells": [
  {
   "cell_type": "markdown",
   "source": [],
   "metadata": {
    "collapsed": false
   },
   "id": "a6abf5e2da1b3214"
  },
  {
   "cell_type": "code",
   "outputs": [
    {
     "name": "stdout",
     "output_type": "stream",
     "text": [
      "CtABCsIBCikvaWJjLmFwcGxpY2F0aW9ucy50cmFuc2Zlci52MS5Nc2dUcmFuc2ZlchKUAQoIdHJhbnNmZXISCWNoYW5uZWwtOBoUCgZ1d2hhbGUSCjE3MzAwNzQwMDAiLm1pZ2Fsb28xbW1yMmdsMzN4ZnRmY2VqZW13MmV0Y2R6N2dzbXJhcTZ4OGpqaHYqLWt1amlyYTFtbXIyZ2wzM3hmdGZjZWplbXcyZXRjZHo3Z3NtcmFxNjZtZXMwZzjA75rKgdal3RcSCXVuZGVmaW5lZBJrClEKRgofL2Nvc21vcy5jcnlwdG8uc2VjcDI1NmsxLlB1YktleRIjCiEDQE4K9xLtp051JtD58c3itxUdUc5n/olONEfnNqjDM/ESBAoCCAEYwQgSFgoQCgZ1d2hhbGUSBjE1MDAwMBDwkwkaQBJX+MRZqUZaeRt/I934HqDRngvX/SAOOnF5oKIEUYPmKfdUpjLf3rYtjCHNbclZz6hW2AJPEJlwOxJl+7qd3QM=\n",
      "Number of transactions: 1\n",
      "Transaction 1 decoded and saved to 5845389_1.json\n",
      "5845389_1.json\n"
     ]
    },
    {
     "ename": "Error",
     "evalue": "Destination path 'C:/Users/lmhmo/indexer/Decrypted_files\\5845389_1.json' already exists",
     "output_type": "error",
     "traceback": [
      "\u001B[1;31m---------------------------------------------------------------------------\u001B[0m",
      "\u001B[1;31mError\u001B[0m                                     Traceback (most recent call last)",
      "Cell \u001B[1;32mIn[193], line 58\u001B[0m\n\u001B[0;32m     56\u001B[0m target_directory \u001B[38;5;241m=\u001B[39m \u001B[38;5;124m\"\u001B[39m\u001B[38;5;124mC:/Users/lmhmo/indexer/Decrypted_files\u001B[39m\u001B[38;5;124m\"\u001B[39m\n\u001B[0;32m     57\u001B[0m \u001B[38;5;66;03m# Move the file\u001B[39;00m\n\u001B[1;32m---> 58\u001B[0m \u001B[43mshutil\u001B[49m\u001B[38;5;241;43m.\u001B[39;49m\u001B[43mmove\u001B[49m\u001B[43m(\u001B[49m\u001B[43mfilename\u001B[49m\u001B[43m,\u001B[49m\u001B[43m \u001B[49m\u001B[43mtarget_directory\u001B[49m\u001B[43m)\u001B[49m\n\u001B[0;32m     59\u001B[0m \u001B[38;5;28mprint\u001B[39m(\u001B[38;5;124mf\u001B[39m\u001B[38;5;124m\"\u001B[39m\u001B[38;5;124mFile \u001B[39m\u001B[38;5;124m'\u001B[39m\u001B[38;5;132;01m{\u001B[39;00mfilename\u001B[38;5;132;01m}\u001B[39;00m\u001B[38;5;124m'\u001B[39m\u001B[38;5;124m moved to \u001B[39m\u001B[38;5;124m'\u001B[39m\u001B[38;5;132;01m{\u001B[39;00mtarget_directory\u001B[38;5;132;01m}\u001B[39;00m\u001B[38;5;124m'\u001B[39m\u001B[38;5;124m.\u001B[39m\u001B[38;5;124m\"\u001B[39m)\n",
      "File \u001B[1;32m~\\AppData\\Local\\Programs\\Python\\Python312\\Lib\\shutil.py:860\u001B[0m, in \u001B[0;36mmove\u001B[1;34m(src, dst, copy_function)\u001B[0m\n\u001B[0;32m    857\u001B[0m     real_dst \u001B[38;5;241m=\u001B[39m os\u001B[38;5;241m.\u001B[39mpath\u001B[38;5;241m.\u001B[39mjoin(dst, _basename(src))\n\u001B[0;32m    859\u001B[0m     \u001B[38;5;28;01mif\u001B[39;00m os\u001B[38;5;241m.\u001B[39mpath\u001B[38;5;241m.\u001B[39mexists(real_dst):\n\u001B[1;32m--> 860\u001B[0m         \u001B[38;5;28;01mraise\u001B[39;00m Error(\u001B[38;5;124m\"\u001B[39m\u001B[38;5;124mDestination path \u001B[39m\u001B[38;5;124m'\u001B[39m\u001B[38;5;132;01m%s\u001B[39;00m\u001B[38;5;124m'\u001B[39m\u001B[38;5;124m already exists\u001B[39m\u001B[38;5;124m\"\u001B[39m \u001B[38;5;241m%\u001B[39m real_dst)\n\u001B[0;32m    861\u001B[0m \u001B[38;5;28;01mtry\u001B[39;00m:\n\u001B[0;32m    862\u001B[0m     os\u001B[38;5;241m.\u001B[39mrename(src, real_dst)\n",
      "\u001B[1;31mError\u001B[0m: Destination path 'C:/Users/lmhmo/indexer/Decrypted_files\\5845389_1.json' already exists"
     ]
    }
   ],
   "source": [
    "def process_transaction_data(file_path):\n",
    "    try:\n",
    "        with open(file_path, 'r') as json_file:\n",
    "            data = json.load(json_file)\n",
    "            transaction = data['block']['data']['txs']\n",
    "\n",
    "            if len(transaction) > 0:\n",
    "                return ''.join(map(str, transaction))  # Remove unnecessary symbols\n",
    "            else:\n",
    "                return \"No transactions found.\"\n",
    "    except FileNotFoundError:\n",
    "        return \"File not found.\"\n",
    "\n",
    "# Example usage\n",
    "block_number = '5845389'\n",
    "file_path = f'C:/Users/lmhmo/indexer/blocks/{block_number}.json'\n",
    "code = process_transaction_data(file_path)\n",
    "print(code)\n",
    "\n",
    "import requests\n",
    "import json\n",
    "import os\n",
    "\n",
    "def decode_transactions(tx, block, i):\n",
    "    url = \"https://phoenix-lcd.terra.dev/cosmos/tx/v1beta1/decode\"\n",
    "    headers = {'Content-Type': 'application/json'}\n",
    "    data = json.dumps({\"tx_bytes\": tx})\n",
    "\n",
    "    response = requests.post(url, headers=headers, data=data)  # Send to be decoded\n",
    "    decoded_response = response.json()\n",
    "\n",
    "    # Save the decoded data to a JSON file\n",
    "    filename = f\"{block}_{i+1}.json\"\n",
    "    with open(filename, \"w\") as json_file:\n",
    "        json.dump(decoded_response, json_file, indent=2)\n",
    "\n",
    "    print(f\"Transaction {i+1} decoded and saved to {filename}\")\n",
    "    return filename\n",
    "\n",
    "# Example usage\n",
    "code = code.split()\n",
    "many = len(code)\n",
    "\n",
    "print(f\"Number of transactions: {many}\")\n",
    "\n",
    "# Store generated filenames in a list\n",
    "generated_filenames = []\n",
    "for i in range(many):\n",
    "    filename = decode_transactions(code[i], block, i)\n",
    "    generated_filenames.append(filename)\n",
    "\n",
    "print(filename)\n",
    "\n",
    "import shutil\n",
    "# Specify the target directory\n",
    "target_directory = \"C:/Users/lmhmo/indexer/Decrypted_files\"\n",
    "# Move the file\n",
    "shutil.move(filename, target_directory)\n",
    "print(f\"File '{filename}' moved to '{target_directory}'.\")"
   ],
   "metadata": {
    "collapsed": false,
    "ExecuteTime": {
     "end_time": "2024-03-07T21:43:28.478641800Z",
     "start_time": "2024-03-07T21:43:27.951539500Z"
    }
   },
   "id": "12c38974903eec5f",
   "execution_count": 193
  },
  {
   "cell_type": "code",
   "outputs": [
    {
     "name": "stdout",
     "output_type": "stream",
     "text": [
      "                                       @type source_port source_channel  \\\n",
      "0  /ibc.applications.transfer.v1.MsgTransfer    transfer      channel-8   \n",
      "\n",
      "                                           sender  \\\n",
      "0  migaloo1mmr2gl33xftfcejemw2etcdz7gsmraq6x8jjhv   \n",
      "\n",
      "                                        receiver    timeout_timestamp memo  \\\n",
      "0  kujira1mmr2gl33xftfcejemw2etcdz7gsmraq66mes0g  1709844691623000000        \n",
      "\n",
      "  token.denom token.amount timeout_height.revision_number  ...  \\\n",
      "0      uwhale   1730074000                              0  ...   \n",
      "\n",
      "                  public_key.@type  \\\n",
      "0  /cosmos.crypto.secp256k1.PubKey   \n",
      "\n",
      "                                 public_key.key mode_info.single.mode   denom  \\\n",
      "0  A0BOCvcS7adOdSbQ+fHN4rcVHVHOZ/6JTjRH5zaowzPx      SIGN_MODE_DIRECT  uwhale   \n",
      "\n",
      "   amount                                         signatures gas_limit payer  \\\n",
      "0  150000  Elf4xFmpRlp5G38j3fgeoNGeC9f9IA46cXmgogRRg+Yp91...    150000         \n",
      "\n",
      "  granter   tip  \n",
      "0          None  \n",
      "\n",
      "[1 rows x 22 columns]\n"
     ]
    },
    {
     "ename": "DuplicateTable",
     "evalue": "relation \"sgtransfer\" already exists\n",
     "output_type": "error",
     "traceback": [
      "\u001B[1;31m---------------------------------------------------------------------------\u001B[0m",
      "\u001B[1;31mDuplicateTable\u001B[0m                            Traceback (most recent call last)",
      "Cell \u001B[1;32mIn[195], line 57\u001B[0m\n\u001B[0;32m     49\u001B[0m cur \u001B[38;5;241m=\u001B[39m conn\u001B[38;5;241m.\u001B[39mcursor()\n\u001B[0;32m     51\u001B[0m create_table_query \u001B[38;5;241m=\u001B[39m \u001B[38;5;124mf\u001B[39m\u001B[38;5;124m\"\"\"\u001B[39m\n\u001B[0;32m     52\u001B[0m \u001B[38;5;124m    CREATE TABLE \u001B[39m\u001B[38;5;132;01m{\u001B[39;00mtable_name\u001B[38;5;132;01m}\u001B[39;00m\u001B[38;5;124m (\u001B[39m\n\u001B[0;32m     53\u001B[0m \u001B[38;5;124m        id SERIAL PRIMARY KEY,\u001B[39m\n\u001B[0;32m     54\u001B[0m \u001B[38;5;124m        \u001B[39m\u001B[38;5;132;01m{\u001B[39;00m\u001B[38;5;124m'\u001B[39m\u001B[38;5;124m, \u001B[39m\u001B[38;5;124m'\u001B[39m\u001B[38;5;241m.\u001B[39mjoin(\u001B[38;5;124mf\u001B[39m\u001B[38;5;124m\"\u001B[39m\u001B[38;5;132;01m{\u001B[39;00mcolumn_names_cleaned[i]\u001B[38;5;132;01m}\u001B[39;00m\u001B[38;5;124m VARCHAR(255)\u001B[39m\u001B[38;5;124m\"\u001B[39m\u001B[38;5;250m \u001B[39m\u001B[38;5;28;01mfor\u001B[39;00m\u001B[38;5;250m \u001B[39mi\u001B[38;5;250m \u001B[39m\u001B[38;5;129;01min\u001B[39;00m\u001B[38;5;250m \u001B[39m\u001B[38;5;28mrange\u001B[39m(\u001B[38;5;28mlen\u001B[39m(column_names)))\u001B[38;5;132;01m}\u001B[39;00m\n\u001B[0;32m     55\u001B[0m \u001B[38;5;124m        );\u001B[39m\n\u001B[0;32m     56\u001B[0m \u001B[38;5;124m    \u001B[39m\u001B[38;5;124m\"\"\"\u001B[39m\n\u001B[1;32m---> 57\u001B[0m \u001B[43mcur\u001B[49m\u001B[38;5;241;43m.\u001B[39;49m\u001B[43mexecute\u001B[49m\u001B[43m(\u001B[49m\u001B[43mcreate_table_query\u001B[49m\u001B[43m)\u001B[49m\n\u001B[0;32m     58\u001B[0m \u001B[38;5;28mprint\u001B[39m(\u001B[38;5;124mf\u001B[39m\u001B[38;5;124m\"\u001B[39m\u001B[38;5;124mTable \u001B[39m\u001B[38;5;124m'\u001B[39m\u001B[38;5;132;01m{\u001B[39;00mtable_name\u001B[38;5;132;01m}\u001B[39;00m\u001B[38;5;124m'\u001B[39m\u001B[38;5;124m created successfully.\u001B[39m\u001B[38;5;124m\"\u001B[39m)\n\u001B[0;32m     60\u001B[0m \u001B[38;5;66;03m# Insert data into the table\u001B[39;00m\n",
      "\u001B[1;31mDuplicateTable\u001B[0m: relation \"sgtransfer\" already exists\n"
     ]
    }
   ],
   "source": [
    "import pandas as pd\n",
    "import json\n",
    "import psycopg2\n",
    "\n",
    "# Specify the file path\n",
    "file_path = r'C:\\Users\\lmhmo\\indexer\\Decrypted_files\\5845389_1.json'\n",
    "\n",
    "with open(file_path, 'r') as json_file:\n",
    "    json_data = json.load(json_file)\n",
    "\n",
    "def replace_empty_strings(item):\n",
    "    return \"N/A\" if item == \"null\" else item\n",
    "\n",
    "for field in [\"sender\", \"receiver\", \"memo\"]:\n",
    "    json_data[\"tx\"][\"body\"][\"messages\"][0][field] = replace_empty_strings(json_data[\"tx\"][\"body\"][\"messages\"][0][field])\n",
    "    \n",
    "df_messages = pd.json_normalize(json_data[\"tx\"][\"body\"][\"messages\"])\n",
    "df_auth_info = pd.json_normalize(json_data[\"tx\"][\"auth_info\"][\"signer_infos\"])\n",
    "df_fee_info = pd.json_normalize(json_data[\"tx\"][\"auth_info\"][\"fee\"][\"amount\"])\n",
    "df_sig_info = pd.DataFrame({\"signatures\": json_data[\"tx\"][\"signatures\"]})\n",
    "df_gas_info = pd.DataFrame({\"gas_limit\": [json_data[\"tx\"][\"auth_info\"][\"fee\"][\"gas_limit\"]]})\n",
    "df_payer_info = pd.DataFrame({\"payer\": [json_data[\"tx\"][\"auth_info\"][\"fee\"][\"payer\"]]})\n",
    "df_granter_info = pd.DataFrame({\"granter\": [json_data[\"tx\"][\"auth_info\"][\"fee\"][\"granter\"]]})\n",
    "df_tip_info = pd.DataFrame({\"tip\": [json_data[\"tx\"][\"auth_info\"][\"tip\"]]})\n",
    "\n",
    "# Combine dataframes\n",
    "df_combined = pd.concat([df_messages, df_auth_info, df_fee_info, df_sig_info, df_gas_info, df_payer_info, df_granter_info, df_tip_info], axis=1)\n",
    "\n",
    "# Display the combined dataframe\n",
    "print(df_combined)\n",
    "\n",
    "column_names = list(df_combined.columns)\n",
    "\n",
    "def clean_column_name(col):\n",
    "    return col.replace(\"@\", \"\").replace(\" \", \"_\").replace('.','')\n",
    "\n",
    "column_names_cleaned = [clean_column_name(col) for col in column_names]\n",
    "\n",
    "message = json_data[\"tx\"][\"body\"][\"messages\"][0]\n",
    "table_name = message[\"@type\"].split(\".\")[-1][-10:]\n",
    "\n",
    "\n",
    "# Create a PostgreSQL connection\n",
    "conn = psycopg2.connect(\n",
    "    dbname= 'blockchain', user= 'postgres', password= 'auth2020', host= 'localhost', port= '5432'\n",
    ")\n",
    "\n",
    "# Create a cursor\n",
    "cur = conn.cursor()\n",
    "\n",
    "create_table_query = f\"\"\"\n",
    "    CREATE TABLE {table_name} (\n",
    "        id SERIAL PRIMARY KEY,\n",
    "        {', '.join(f\"{column_names_cleaned[i]} VARCHAR(255)\" for i in range(len(column_names)))}\n",
    "        );\n",
    "    \"\"\"\n",
    "cur.execute(create_table_query)\n",
    "print(f\"Table '{table_name}' created successfully.\")\n",
    "\n",
    "# Insert data into the table\n",
    "for _, row in df_combined.iterrows():\n",
    "    insert_query = f\"\"\"\n",
    "        INSERT INTO {table_name} ({', '.join(column_names_cleaned)})\n",
    "        VALUES ({', '.join(f\"'{row.iloc[i]}'\" for i in range(len(column_names)))});\n",
    "    \"\"\"\n",
    "cur.execute(insert_query)\n",
    "\n",
    "# Commit changes\n",
    "conn.commit()\n",
    "\n",
    "# Close the cursor and connection\n",
    "cur.close()\n",
    "conn.close()\n",
    "\n",
    "# Display the resulting DataFrame\n",
    "df_combined\n"
   ],
   "metadata": {
    "collapsed": false,
    "ExecuteTime": {
     "end_time": "2024-03-07T21:43:39.849802900Z",
     "start_time": "2024-03-07T21:43:39.777730Z"
    }
   },
   "id": "49e729ad7cbebfb8",
   "execution_count": 195
  },
  {
   "cell_type": "code",
   "outputs": [],
   "source": [],
   "metadata": {
    "collapsed": false
   },
   "id": "df485e10cf4912ad"
  }
 ],
 "metadata": {
  "kernelspec": {
   "display_name": "Python 3",
   "language": "python",
   "name": "python3"
  },
  "language_info": {
   "codemirror_mode": {
    "name": "ipython",
    "version": 2
   },
   "file_extension": ".py",
   "mimetype": "text/x-python",
   "name": "python",
   "nbconvert_exporter": "python",
   "pygments_lexer": "ipython2",
   "version": "2.7.6"
  }
 },
 "nbformat": 4,
 "nbformat_minor": 5
}
