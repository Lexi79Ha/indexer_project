{
 "cells": [
  {
   "cell_type": "markdown",
   "source": [],
   "metadata": {
    "collapsed": false
   },
   "id": "a6abf5e2da1b3214"
  },
  {
   "cell_type": "code",
   "outputs": [
    {
     "name": "stdout",
     "output_type": "stream",
     "text": [
      "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\n"
     ]
    }
   ],
   "source": [
    "def process_transaction_data(file_path):\n",
    "    try:\n",
    "        with open(file_path, 'r') as json_file:\n",
    "            data = json.load(json_file)\n",
    "            transaction = data['block']['data']['txs']\n",
    "\n",
    "            if len(transaction) > 0:\n",
    "                return ''.join(map(str, transaction))  # Remove unnecessary symbols\n",
    "            else:\n",
    "                return \"No transactions found.\"\n",
    "    except FileNotFoundError:\n",
    "        return \"File not found.\"\n",
    "\n",
    "# Example usage\n",
    "block_number = '5846142' # Change this number if you want to load a different file\n",
    "file_path = f'C:/Users/lmhmo/indexer/blocks/{block_number}.json'\n",
    "code = process_transaction_data(file_path)\n",
    "print(code)"
   ],
   "metadata": {
    "collapsed": false,
    "ExecuteTime": {
     "end_time": "2024-03-07T22:17:47.582161100Z",
     "start_time": "2024-03-07T22:17:47.575978900Z"
    }
   },
   "id": "f613661d957551e8",
   "execution_count": 39
  },
  {
   "cell_type": "code",
   "outputs": [
    {
     "name": "stdout",
     "output_type": "stream",
     "text": [
      "Number of transactions: 1\n",
      "Transaction 1 decoded and saved to 5846142_1.json\n",
      "5846142_1.json\n",
      "File '5846142_1.json' moved to 'C:/Users/lmhmo/indexer/Decrypted_files'.\n"
     ]
    }
   ],
   "source": [
    "\n",
    "import requests\n",
    "import json\n",
    "import os\n",
    "\n",
    "def decode_transactions(tx, block, i):\n",
    "    url = \"https://phoenix-lcd.terra.dev/cosmos/tx/v1beta1/decode\"\n",
    "    headers = {'Content-Type': 'application/json'}\n",
    "    data = json.dumps({\"tx_bytes\": tx})\n",
    "\n",
    "    response = requests.post(url, headers=headers, data=data)  # Send to be decoded\n",
    "    decoded_response = response.json()\n",
    "\n",
    "    # Save the decoded data to a JSON file\n",
    "    filename = f\"{block}_{i+1}.json\"\n",
    "    with open(filename, \"w\") as json_file:\n",
    "        json.dump(decoded_response, json_file, indent=2)\n",
    "\n",
    "    print(f\"Transaction {i+1} decoded and saved to {filename}\")\n",
    "    return filename\n",
    "\n",
    "# Example usage\n",
    "code = code.split()\n",
    "many = len(code)\n",
    "block = block_number\n",
    "\n",
    "print(f\"Number of transactions: {many}\")\n",
    "\n",
    "# Store generated filenames in a list\n",
    "generated_filenames = []\n",
    "for i in range(many):\n",
    "    filename = decode_transactions(code[i], block, i)\n",
    "    generated_filenames.append(filename)\n",
    "\n",
    "print(filename)\n",
    "\n",
    "import shutil\n",
    "# Specify the target directory\n",
    "target_directory = \"C:/Users/lmhmo/indexer/Decrypted_files\"\n",
    "# Move the file\n",
    "shutil.move(filename, target_directory)\n",
    "print(f\"File '{filename}' moved to '{target_directory}'.\")"
   ],
   "metadata": {
    "collapsed": false,
    "ExecuteTime": {
     "end_time": "2024-03-07T22:17:49.156767Z",
     "start_time": "2024-03-07T22:17:48.603949900Z"
    }
   },
   "id": "12c38974903eec5f",
   "execution_count": 40
  },
  {
   "cell_type": "code",
   "outputs": [
    {
     "name": "stdout",
     "output_type": "stream",
     "text": [
      "                                       @type source_port source_channel  \\\n",
      "0  /ibc.applications.transfer.v1.MsgTransfer    transfer      channel-8   \n",
      "\n",
      "                                           sender  \\\n",
      "0  migaloo1mmr2gl33xftfcejemw2etcdz7gsmraq6x8jjhv   \n",
      "\n",
      "                                        receiver    timeout_timestamp memo  \\\n",
      "0  kujira1mmr2gl33xftfcejemw2etcdz7gsmraq66mes0g  1709844691623000000        \n",
      "\n",
      "  token.denom token.amount timeout_height.revision_number  ...  \\\n",
      "0      uwhale   1730074000                              0  ...   \n",
      "\n",
      "                  public_key.@type  \\\n",
      "0  /cosmos.crypto.secp256k1.PubKey   \n",
      "\n",
      "                                 public_key.key mode_info.single.mode   denom  \\\n",
      "0  A0BOCvcS7adOdSbQ+fHN4rcVHVHOZ/6JTjRH5zaowzPx      SIGN_MODE_DIRECT  uwhale   \n",
      "\n",
      "   amount                                         signatures gas_limit payer  \\\n",
      "0  150000  Elf4xFmpRlp5G38j3fgeoNGeC9f9IA46cXmgogRRg+Yp91...    150000         \n",
      "\n",
      "  granter   tip  \n",
      "0          None  \n",
      "\n",
      "[1 rows x 22 columns]\n"
     ]
    }
   ],
   "source": [
    "import pandas as pd\n",
    "import json\n",
    "import psycopg2\n",
    "\n",
    "# Specify the file path\n",
    "file_path = r'C:\\Users\\lmhmo\\indexer\\Decrypted_files\\5845389_1.json'\n",
    "\n",
    "with open(file_path, 'r') as json_file:\n",
    "    json_data = json.load(json_file)\n",
    "\n",
    "def replace_empty_strings(item):\n",
    "    return \"N/A\" if item == \"null\" else item\n",
    "\n",
    "for field in [\"sender\", \"receiver\", \"memo\"]:\n",
    "    json_data[\"tx\"][\"body\"][\"messages\"][0][field] = replace_empty_strings(json_data[\"tx\"][\"body\"][\"messages\"][0][field])\n",
    "    \n",
    "df_messages = pd.json_normalize(json_data[\"tx\"][\"body\"][\"messages\"])\n",
    "df_auth_info = pd.json_normalize(json_data[\"tx\"][\"auth_info\"][\"signer_infos\"])\n",
    "df_fee_info = pd.json_normalize(json_data[\"tx\"][\"auth_info\"][\"fee\"][\"amount\"])\n",
    "df_sig_info = pd.DataFrame({\"signatures\": json_data[\"tx\"][\"signatures\"]})\n",
    "df_gas_info = pd.DataFrame({\"gas_limit\": [json_data[\"tx\"][\"auth_info\"][\"fee\"][\"gas_limit\"]]})\n",
    "df_payer_info = pd.DataFrame({\"payer\": [json_data[\"tx\"][\"auth_info\"][\"fee\"][\"payer\"]]})\n",
    "df_granter_info = pd.DataFrame({\"granter\": [json_data[\"tx\"][\"auth_info\"][\"fee\"][\"granter\"]]})\n",
    "df_tip_info = pd.DataFrame({\"tip\": [json_data[\"tx\"][\"auth_info\"][\"tip\"]]})\n",
    "\n",
    "# Combine dataframes\n",
    "df_combined = pd.concat([df_messages, df_auth_info, df_fee_info, df_sig_info, df_gas_info, df_payer_info, df_granter_info, df_tip_info], axis=1)\n",
    "\n",
    "# Display the combined dataframe\n",
    "print(df_combined)"
   ],
   "metadata": {
    "collapsed": false,
    "ExecuteTime": {
     "end_time": "2024-03-07T22:17:49.355703400Z",
     "start_time": "2024-03-07T22:17:49.334391700Z"
    }
   },
   "id": "968c988868f33cef",
   "execution_count": 41
  },
  {
   "cell_type": "code",
   "outputs": [],
   "source": [
    "column_names = list(df_combined.columns)\n",
    "\n",
    "def clean_column_name(col):\n",
    "    return col.replace(\"@\", \"\").replace(\" \", \"_\").replace('.','')\n",
    "\n",
    "column_names_cleaned = [clean_column_name(col) for col in column_names]\n",
    "\n",
    "message = json_data[\"tx\"][\"body\"][\"messages\"][0]\n",
    "table_name = message[\"@type\"].split(\".\")[-1][-10:]\n",
    "table_name = table_name.lower() # This has to be specified for check_table_query to work"
   ],
   "metadata": {
    "collapsed": false,
    "ExecuteTime": {
     "end_time": "2024-03-07T22:17:49.967805400Z",
     "start_time": "2024-03-07T22:17:49.957686300Z"
    }
   },
   "id": "abd838e97a7a4a45",
   "execution_count": 42
  },
  {
   "cell_type": "code",
   "outputs": [],
   "source": [
    "import psycopg2\n",
    "\n",
    "DB_NAME = 'blockchain'\n",
    "DB_USER = 'postgres'\n",
    "DB_PASSWORD = 'auth2020'\n",
    "DB_HOST = 'localhost'\n",
    "DB_PORT = '5432'\n",
    "\n",
    "# Create a PostgreSQL connection\n",
    "conn = psycopg2.connect(\n",
    "    dbname=DB_NAME, user= DB_USER, password= DB_PASSWORD, host= DB_HOST, port= DB_PORT\n",
    ")"
   ],
   "metadata": {
    "collapsed": false,
    "ExecuteTime": {
     "end_time": "2024-03-07T22:17:50.701024400Z",
     "start_time": "2024-03-07T22:17:50.638177200Z"
    }
   },
   "id": "dd0c4d4bbc83ac35",
   "execution_count": 43
  },
  {
   "cell_type": "code",
   "outputs": [
    {
     "name": "stdout",
     "output_type": "stream",
     "text": [
      "Table 'sgtransfer' already exists. Data will be appended to the existing table.\n"
     ]
    }
   ],
   "source": [
    "# Create a cursor\n",
    "cur = conn.cursor()\n",
    "\n",
    "# Check if the table already exists\n",
    "check_table_query = f\"\"\"\n",
    "    SELECT EXISTS (\n",
    "        SELECT 1\n",
    "        FROM pg_tables\n",
    "        WHERE schemaname = 'public' AND tablename = '{table_name}'\n",
    "    );\n",
    "\"\"\"\n",
    "\n",
    "cur.execute(check_table_query)\n",
    "table_exists = cur.fetchone()[0]  # Fetch the result of the query\n",
    "\n",
    "if table_exists:\n",
    "    print(f\"Table '{table_name}' already exists. Data will be appended to the existing table.\")\n",
    "else:\n",
    "    print(f\"Table '{table_name}' does not exist. Creating a new table...\")\n"
   ],
   "metadata": {
    "collapsed": false,
    "ExecuteTime": {
     "end_time": "2024-03-07T22:17:51.606928700Z",
     "start_time": "2024-03-07T22:17:51.555829400Z"
    }
   },
   "id": "80ee8f311015671d",
   "execution_count": 44
  },
  {
   "cell_type": "code",
   "outputs": [
    {
     "name": "stdout",
     "output_type": "stream",
     "text": [
      "Table 'sgtransfer' already exists. Data will be appended to the existing table.\n",
      "                                       @type source_port source_channel  \\\n",
      "0  /ibc.applications.transfer.v1.MsgTransfer    transfer      channel-8   \n",
      "\n",
      "                                           sender  \\\n",
      "0  migaloo1mmr2gl33xftfcejemw2etcdz7gsmraq6x8jjhv   \n",
      "\n",
      "                                        receiver    timeout_timestamp memo  \\\n",
      "0  kujira1mmr2gl33xftfcejemw2etcdz7gsmraq66mes0g  1709844691623000000        \n",
      "\n",
      "  token.denom token.amount timeout_height.revision_number  ...  \\\n",
      "0      uwhale   1730074000                              0  ...   \n",
      "\n",
      "                  public_key.@type  \\\n",
      "0  /cosmos.crypto.secp256k1.PubKey   \n",
      "\n",
      "                                 public_key.key mode_info.single.mode   denom  \\\n",
      "0  A0BOCvcS7adOdSbQ+fHN4rcVHVHOZ/6JTjRH5zaowzPx      SIGN_MODE_DIRECT  uwhale   \n",
      "\n",
      "   amount                                         signatures gas_limit payer  \\\n",
      "0  150000  Elf4xFmpRlp5G38j3fgeoNGeC9f9IA46cXmgogRRg+Yp91...    150000         \n",
      "\n",
      "  granter   tip  \n",
      "0          None  \n",
      "\n",
      "[1 rows x 22 columns]\n"
     ]
    }
   ],
   "source": [
    "\n",
    "if not table_exists:\n",
    "    # Create the table with dynamic column names (matching cleaned attributes)\n",
    "    create_table_query = f\"\"\"\n",
    "        CREATE TABLE {table_name} (\n",
    "            id SERIAL PRIMARY KEY,\n",
    "            {', '.join(f\"{column_names_cleaned[i]} VARCHAR(255)\" for i in range(len(column_names)))}, block INTEGER NOT NULL\n",
    "        );\n",
    "    \"\"\"\n",
    "    cur.execute(create_table_query)\n",
    "    print(f\"Table '{table_name}' created successfully.\")\n",
    "else:\n",
    "    print(f\"Table '{table_name}' already exists. Data will be appended to the existing table.\")\n",
    "\n",
    "# Insert data into the table\n",
    "for _, row in df_combined.iterrows():\n",
    "    # Assuming you have already defined the variable block_number\n",
    "# Modify the INSERT query to include the block number\n",
    "    insert_query = f\"\"\"\n",
    "        INSERT INTO {table_name} ({', '.join(column_names_cleaned)}, block)\n",
    "        VALUES ({', '.join(f\"'{row.iloc[i]}'\" for i in range(len(column_names)))}, {block});\n",
    "    \"\"\"\n",
    "cur.execute(insert_query)\n",
    "\n",
    "\n",
    "# Commit changes\n",
    "conn.commit()\n",
    "\n",
    "# Close the cursor and connection\n",
    "cur.close()\n",
    "conn.close()\n",
    "\n",
    "# Display the resulting DataFrame\n",
    "print(df_combined)\n"
   ],
   "metadata": {
    "collapsed": false,
    "ExecuteTime": {
     "end_time": "2024-03-07T22:17:52.332860300Z",
     "start_time": "2024-03-07T22:17:52.317282900Z"
    }
   },
   "id": "49e729ad7cbebfb8",
   "execution_count": 45
  },
  {
   "cell_type": "code",
   "outputs": [],
   "source": [],
   "metadata": {
    "collapsed": false
   },
   "id": "df485e10cf4912ad"
  }
 ],
 "metadata": {
  "kernelspec": {
   "display_name": "Python 3",
   "language": "python",
   "name": "python3"
  },
  "language_info": {
   "codemirror_mode": {
    "name": "ipython",
    "version": 2
   },
   "file_extension": ".py",
   "mimetype": "text/x-python",
   "name": "python",
   "nbconvert_exporter": "python",
   "pygments_lexer": "ipython2",
   "version": "2.7.6"
  }
 },
 "nbformat": 4,
 "nbformat_minor": 5
}
