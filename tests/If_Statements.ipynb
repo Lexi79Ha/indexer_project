{
 "cells": [
  {
   "cell_type": "code",
   "execution_count": 14,
   "id": "initial_id",
   "metadata": {
    "collapsed": true,
    "ExecuteTime": {
     "end_time": "2024-02-29T17:15:58.458341200Z",
     "start_time": "2024-02-29T17:15:54.646788400Z"
    }
   },
   "outputs": [
    {
     "name": "stdout",
     "output_type": "stream",
     "text": [
      "Smallest: 123, Middle: 213, Largest: 1324\n"
     ]
    }
   ],
   "source": [
    "# This script uses python 3.12.0 to accept 3 integer inputs from users and sorts those inputs in ascending order using a nested if statement\n",
    "\n",
    "def sort_numbers(a, b, c):\n",
    "    # Compare the numbers using nested if-else statements\n",
    "    if a <= b:\n",
    "        if a <= c:\n",
    "            smallest = a\n",
    "            if b <= c:\n",
    "                middle = b\n",
    "                greatest = c\n",
    "            else:\n",
    "                middle = c\n",
    "                greatest = b\n",
    "        else:\n",
    "            smallest = c\n",
    "            middle = a\n",
    "            greatest = b\n",
    "    else:\n",
    "        if b <= c:\n",
    "            smallest = b\n",
    "            if a <= c:\n",
    "                middle = a\n",
    "                greatest = c\n",
    "            else:\n",
    "                middle = c\n",
    "                greatest = a\n",
    "        else:\n",
    "            smallest = c\n",
    "            middle = b\n",
    "            greatest = a\n",
    "\n",
    "    return smallest, middle, greatest\n",
    "\n",
    "# Example usage:\n",
    "a = int(input(\"Enter first number: \"))\n",
    "b = int(input(\"Enter second number: \"))\n",
    "c = int(input(\"Enter third number: \"))\n",
    "\n",
    "sorted_a, sorted_b, sorted_c = sort_numbers(a, b, c)\n",
    "print(f\"Smallest: {sorted_a}, Middle: {sorted_b}, Largest: {sorted_c}\")\n",
    "\n",
    "# Test cases:\n"
   ]
  },
  {
   "cell_type": "code",
   "outputs": [
    {
     "name": "stdout",
     "output_type": "stream",
     "text": [
      "All test cases passed!\n"
     ]
    }
   ],
   "source": [
    "#Test cases for def sort_numbers(a, b, c)\n",
    "\n",
    "assert sort_numbers(3, 1, 2) == (1, 2, 3) \n",
    "assert sort_numbers(3, 2, 1) == (1, 2, 3)\n",
    "assert sort_numbers(2, 1, 3) == (1, 2, 3)\n",
    "assert sort_numbers(2, 3, 1) == (1, 2, 3)\n",
    "assert sort_numbers(1, 2, 3) == (1, 2, 3)\n",
    "assert sort_numbers(1, 3, 2) == (1, 2, 3)\n",
    "\n",
    "print(\"All test cases passed!\")\n"
   ],
   "metadata": {
    "collapsed": false,
    "ExecuteTime": {
     "end_time": "2024-02-29T17:17:05.617553Z",
     "start_time": "2024-02-29T17:17:05.601412500Z"
    }
   },
   "id": "6faebc5667fccc2c",
   "execution_count": 16
  },
  {
   "cell_type": "code",
   "outputs": [],
   "source": [],
   "metadata": {
    "collapsed": false
   },
   "id": "92c09473cd87b70b"
  }
 ],
 "metadata": {
  "kernelspec": {
   "display_name": "Python 3",
   "language": "python",
   "name": "python3"
  },
  "language_info": {
   "codemirror_mode": {
    "name": "ipython",
    "version": 2
   },
   "file_extension": ".py",
   "mimetype": "text/x-python",
   "name": "python",
   "nbconvert_exporter": "python",
   "pygments_lexer": "ipython2",
   "version": "2.7.6"
  }
 },
 "nbformat": 4,
 "nbformat_minor": 5
}
